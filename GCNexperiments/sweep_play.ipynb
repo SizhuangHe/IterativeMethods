{
 "cells": [
  {
   "cell_type": "code",
   "execution_count": 1,
   "metadata": {},
   "outputs": [],
   "source": [
    "from __future__ import division\n",
    "from __future__ import print_function\n",
    "import numpy as np\n",
    "import torch.optim as optim\n",
    "import torch.nn.functional as F\n",
    "from torch_geometric.datasets import Planetoid\n",
    "from torch_geometric.transforms import NormalizeFeatures\n",
    "from utils import accuracy\n",
    "from models import iterativeGCN"
   ]
  },
  {
   "cell_type": "code",
   "execution_count": 2,
   "metadata": {},
   "outputs": [
    {
     "name": "stderr",
     "output_type": "stream",
     "text": [
      "Failed to detect the name of this notebook, you can set it manually with the WANDB_NOTEBOOK_NAME environment variable to enable code saving.\n",
      "\u001b[34m\u001b[1mwandb\u001b[0m: Currently logged in as: \u001b[33msizhuang\u001b[0m. Use \u001b[1m`wandb login --relogin`\u001b[0m to force relogin\n"
     ]
    },
    {
     "data": {
      "text/plain": [
       "True"
      ]
     },
     "execution_count": 2,
     "metadata": {},
     "output_type": "execute_result"
    }
   ],
   "source": [
    "import wandb\n",
    "wandb.login()"
   ]
  },
  {
   "cell_type": "code",
   "execution_count": 3,
   "metadata": {},
   "outputs": [],
   "source": [
    "sweep_config = {\n",
    "    'method': 'random'\n",
    "}"
   ]
  },
  {
   "cell_type": "code",
   "execution_count": 4,
   "metadata": {},
   "outputs": [],
   "source": [
    "metric = {\n",
    "    'name': 'accuracy',\n",
    "    'goal': 'maximize'\n",
    "}\n",
    "sweep_config['metric'] = metric"
   ]
  },
  {
   "cell_type": "code",
   "execution_count": 5,
   "metadata": {},
   "outputs": [],
   "source": [
    "parameters_dict = {\n",
    "    'num_iterations': {\n",
    "        'values':[2, 3]\n",
    "    },\n",
    "    'learning_rate': {\n",
    "        'values': np.arange(0.0005, 0.02, 0.0005).tolist()\n",
    "    },\n",
    "    'smooth_fac': {\n",
    "        'values': np.arange(0.1, 1, 0.05).tolist()\n",
    "    },\n",
    "    'hid_dim': {\n",
    "        'values': [16, 32]\n",
    "    },\n",
    "    'weight_decay': {\n",
    "        'values': [1e-4, 2e-4, 3e-4, 4e-4, 5e-4]\n",
    "    },\n",
    "    'num_runs': {\n",
    "        'value': 5\n",
    "    },\n",
    "    'num_epochs': {\n",
    "        'value': 1 #will change to 200\n",
    "    },\n",
    "    'dropout': {\n",
    "        'value': 0.5\n",
    "    }\n",
    "}\n",
    "sweep_config['parameters'] = parameters_dict"
   ]
  },
  {
   "cell_type": "code",
   "execution_count": 6,
   "metadata": {},
   "outputs": [
    {
     "name": "stdout",
     "output_type": "stream",
     "text": [
      "{'method': 'random',\n",
      " 'metric': {'goal': 'maximize', 'name': 'accuracy'},\n",
      " 'parameters': {'dropout': {'value': 0.5},\n",
      "                'hid_dim': {'values': [16, 32]},\n",
      "                'learning_rate': {'values': [0.0005,\n",
      "                                             0.001,\n",
      "                                             0.0015,\n",
      "                                             0.002,\n",
      "                                             0.0025,\n",
      "                                             0.003,\n",
      "                                             0.0035,\n",
      "                                             0.004,\n",
      "                                             0.0045000000000000005,\n",
      "                                             0.005000000000000001,\n",
      "                                             0.0055,\n",
      "                                             0.006,\n",
      "                                             0.006500000000000001,\n",
      "                                             0.007000000000000001,\n",
      "                                             0.0075,\n",
      "                                             0.008,\n",
      "                                             0.0085,\n",
      "                                             0.009000000000000001,\n",
      "                                             0.009500000000000001,\n",
      "                                             0.01,\n",
      "                                             0.0105,\n",
      "                                             0.011000000000000001,\n",
      "                                             0.0115,\n",
      "                                             0.012,\n",
      "                                             0.0125,\n",
      "                                             0.013000000000000001,\n",
      "                                             0.013500000000000002,\n",
      "                                             0.014,\n",
      "                                             0.0145,\n",
      "                                             0.015000000000000001,\n",
      "                                             0.0155,\n",
      "                                             0.016,\n",
      "                                             0.0165,\n",
      "                                             0.017,\n",
      "                                             0.0175,\n",
      "                                             0.018000000000000002,\n",
      "                                             0.018500000000000003,\n",
      "                                             0.019,\n",
      "                                             0.0195]},\n",
      "                'num_epochs': {'value': 1},\n",
      "                'num_iterations': {'values': [2, 3]},\n",
      "                'num_runs': {'value': 5},\n",
      "                'smooth_fac': {'values': [0.1,\n",
      "                                          0.15000000000000002,\n",
      "                                          0.20000000000000004,\n",
      "                                          0.25000000000000006,\n",
      "                                          0.30000000000000004,\n",
      "                                          0.3500000000000001,\n",
      "                                          0.40000000000000013,\n",
      "                                          0.45000000000000007,\n",
      "                                          0.5000000000000001,\n",
      "                                          0.5500000000000002,\n",
      "                                          0.6000000000000002,\n",
      "                                          0.6500000000000001,\n",
      "                                          0.7000000000000002,\n",
      "                                          0.7500000000000002,\n",
      "                                          0.8000000000000002,\n",
      "                                          0.8500000000000002,\n",
      "                                          0.9000000000000002,\n",
      "                                          0.9500000000000003]},\n",
      "                'weight_decay': {'values': [0.0001,\n",
      "                                            0.0002,\n",
      "                                            0.0003,\n",
      "                                            0.0004,\n",
      "                                            0.0005]}}}\n"
     ]
    }
   ],
   "source": [
    "import pprint\n",
    "\n",
    "pprint.pprint(sweep_config)"
   ]
  },
  {
   "cell_type": "code",
   "execution_count": 7,
   "metadata": {},
   "outputs": [
    {
     "name": "stdout",
     "output_type": "stream",
     "text": [
      "Create sweep with ID: 0mqq9bfx\n",
      "Sweep URL: https://wandb.ai/sizhuang/IterativeMethods/sweeps/0mqq9bfx\n"
     ]
    }
   ],
   "source": [
    "sweep_id = wandb.sweep(sweep_config, project=\"IterativeMethods\")\n"
   ]
  },
  {
   "cell_type": "code",
   "execution_count": 8,
   "metadata": {},
   "outputs": [],
   "source": [
    "def build_model(config, input_dim, output_dim):\n",
    "    model = iterativeGCN(input_dim=input_dim,\n",
    "                            output_dim=output_dim,\n",
    "                            hidden_dim=config.hid_dim,\n",
    "                            num_train_iter=config.num_iterations,\n",
    "                            smooth_fac=config.smooth_fac,\n",
    "                            dropout=config.dropout)\n",
    "    return model\n",
    "\n",
    "def train_epoch(model, data, optimizer):\n",
    "    model.train()\n",
    "    output = model(data.x, data.edge_index)\n",
    "    loss = F.nll_loss(output[data.train_mask], data.y[data.train_mask])\n",
    "    pred = output[data.train_mask].argmax(dim=1)\n",
    "    acc = accuracy(pred, data.y[data.train_mask])\n",
    "    optimizer.zero_grad()\n",
    "    loss.backward()\n",
    "    optimizer.step()\n",
    "    return loss, acc\n",
    "\n",
    "def validate_epoch(model, data):\n",
    "    model.eval()\n",
    "    output = model(data.x, data.edge_index)\n",
    "    loss = F.nll_loss(output[data.val_mask], data.y[data.val_mask])\n",
    "    pred = output[data.val_mask].argmax(dim=1)\n",
    "    acc = accuracy(pred, data.y[data.val_mask])\n",
    "    return loss, acc\n",
    "\n",
    "def test(model, data):\n",
    "    model.eval()\n",
    "    output = model(data.x, data.edge_index)\n",
    "    loss = F.nll_loss(output[data.test_mask], data.y[data.test_mask])\n",
    "    pred = output[data.test_mask].argmax(dim=1)\n",
    "    acc = accuracy(pred, data.y[data.test_mask])\n",
    "    \n",
    "    return loss, acc\n",
    "\n",
    "def run_exp(config=None):\n",
    "    with wandb.init(config=config):\n",
    "        config = wandb.config\n",
    "\n",
    "        dataset = Planetoid(root='data/Planetoid', name='Cora', transform=NormalizeFeatures())\n",
    "        data = dataset[0]\n",
    "        input_dim = dataset.num_features\n",
    "        output_dim = dataset.num_classes\n",
    "        model = build_model(config, input_dim, output_dim)\n",
    "        optimizer = optim.Adam(model.parameters(), lr=config.learning_rate, weight_decay=config.weight_decay)\n",
    "        for epoch in range(config.num_epochs):\n",
    "            loss_train, acc_train = train_epoch(model, data, optimizer)\n",
    "            loss_val, acc_val = validate_epoch(model, data)\n",
    "            wandb.log({\n",
    "                'training_loss': loss_train,\n",
    "                'training_accuracy': acc_train,\n",
    "                'validation_loss': loss_val,\n",
    "                'validation_accuracy': acc_val,\n",
    "                \"epoch\": epoch\n",
    "            })\n",
    "        \n",
    "        loss_test, acc_test = test(model, data)\n",
    "        wandb.log({\n",
    "                'test_loss': loss_test,\n",
    "                'test_accuracy': acc_test\n",
    "        })\n"
   ]
  },
  {
   "cell_type": "code",
   "execution_count": 9,
   "metadata": {},
   "outputs": [
    {
     "name": "stderr",
     "output_type": "stream",
     "text": [
      "\u001b[34m\u001b[1mwandb\u001b[0m: Agent Starting Run: 9cde0sqs with config:\n",
      "\u001b[34m\u001b[1mwandb\u001b[0m: \tdropout: 0.5\n",
      "\u001b[34m\u001b[1mwandb\u001b[0m: \thid_dim: 16\n",
      "\u001b[34m\u001b[1mwandb\u001b[0m: \tlearning_rate: 0.015\n",
      "\u001b[34m\u001b[1mwandb\u001b[0m: \tnum_epochs: 1\n",
      "\u001b[34m\u001b[1mwandb\u001b[0m: \tnum_iterations: 3\n",
      "\u001b[34m\u001b[1mwandb\u001b[0m: \tnum_runs: 5\n",
      "\u001b[34m\u001b[1mwandb\u001b[0m: \tsmooth_fac: 0.40000000000000013\n",
      "\u001b[34m\u001b[1mwandb\u001b[0m: \tweight_decay: 0.0005\n",
      "Failed to detect the name of this notebook, you can set it manually with the WANDB_NOTEBOOK_NAME environment variable to enable code saving.\n"
     ]
    },
    {
     "data": {
      "text/html": [
       "Tracking run with wandb version 0.15.4"
      ],
      "text/plain": [
       "<IPython.core.display.HTML object>"
      ]
     },
     "metadata": {},
     "output_type": "display_data"
    },
    {
     "data": {
      "text/html": [
       "Run data is saved locally in <code>/Users/sizhuang/Desktop/GitHub Repos/IterativeMethods/GCNexperiments/wandb/run-20230620_170029-9cde0sqs</code>"
      ],
      "text/plain": [
       "<IPython.core.display.HTML object>"
      ]
     },
     "metadata": {},
     "output_type": "display_data"
    },
    {
     "data": {
      "text/html": [
       "Syncing run <strong><a href='https://wandb.ai/sizhuang/IterativeMethods/runs/9cde0sqs' target=\"_blank\">fiery-sweep-1</a></strong> to <a href='https://wandb.ai/sizhuang/IterativeMethods' target=\"_blank\">Weights & Biases</a> (<a href='https://wandb.me/run' target=\"_blank\">docs</a>)<br/>Sweep page: <a href='https://wandb.ai/sizhuang/IterativeMethods/sweeps/0mqq9bfx' target=\"_blank\">https://wandb.ai/sizhuang/IterativeMethods/sweeps/0mqq9bfx</a>"
      ],
      "text/plain": [
       "<IPython.core.display.HTML object>"
      ]
     },
     "metadata": {},
     "output_type": "display_data"
    },
    {
     "data": {
      "text/html": [
       " View project at <a href='https://wandb.ai/sizhuang/IterativeMethods' target=\"_blank\">https://wandb.ai/sizhuang/IterativeMethods</a>"
      ],
      "text/plain": [
       "<IPython.core.display.HTML object>"
      ]
     },
     "metadata": {},
     "output_type": "display_data"
    },
    {
     "data": {
      "text/html": [
       " View sweep at <a href='https://wandb.ai/sizhuang/IterativeMethods/sweeps/0mqq9bfx' target=\"_blank\">https://wandb.ai/sizhuang/IterativeMethods/sweeps/0mqq9bfx</a>"
      ],
      "text/plain": [
       "<IPython.core.display.HTML object>"
      ]
     },
     "metadata": {},
     "output_type": "display_data"
    },
    {
     "data": {
      "text/html": [
       " View run at <a href='https://wandb.ai/sizhuang/IterativeMethods/runs/9cde0sqs' target=\"_blank\">https://wandb.ai/sizhuang/IterativeMethods/runs/9cde0sqs</a>"
      ],
      "text/plain": [
       "<IPython.core.display.HTML object>"
      ]
     },
     "metadata": {},
     "output_type": "display_data"
    },
    {
     "data": {
      "text/html": [
       "Waiting for W&B process to finish... <strong style=\"color:green\">(success).</strong>"
      ],
      "text/plain": [
       "<IPython.core.display.HTML object>"
      ]
     },
     "metadata": {},
     "output_type": "display_data"
    },
    {
     "data": {
      "text/html": [
       "<style>\n",
       "    table.wandb td:nth-child(1) { padding: 0 10px; text-align: left ; width: auto;} td:nth-child(2) {text-align: left ; width: 100%}\n",
       "    .wandb-row { display: flex; flex-direction: row; flex-wrap: wrap; justify-content: flex-start; width: 100% }\n",
       "    .wandb-col { display: flex; flex-direction: column; flex-basis: 100%; flex: 1; padding: 10px; }\n",
       "    </style>\n",
       "<div class=\"wandb-row\"><div class=\"wandb-col\"><h3>Run history:</h3><br/><table class=\"wandb\"><tr><td>epoch</td><td>▁</td></tr><tr><td>test_accuracy</td><td>▁</td></tr><tr><td>test_loss</td><td>▁</td></tr><tr><td>training_accuracy</td><td>▁</td></tr><tr><td>training_loss</td><td>▁</td></tr><tr><td>validation_accuracy</td><td>▁</td></tr><tr><td>validation_loss</td><td>▁</td></tr></table><br/></div><div class=\"wandb-col\"><h3>Run summary:</h3><br/><table class=\"wandb\"><tr><td>epoch</td><td>0</td></tr><tr><td>test_accuracy</td><td>0.13</td></tr><tr><td>test_loss</td><td>1.95242</td></tr><tr><td>training_accuracy</td><td>0.14286</td></tr><tr><td>training_loss</td><td>1.95632</td></tr><tr><td>validation_accuracy</td><td>0.122</td></tr><tr><td>validation_loss</td><td>1.95046</td></tr></table><br/></div></div>"
      ],
      "text/plain": [
       "<IPython.core.display.HTML object>"
      ]
     },
     "metadata": {},
     "output_type": "display_data"
    },
    {
     "data": {
      "text/html": [
       " View run <strong style=\"color:#cdcd00\">fiery-sweep-1</strong> at: <a href='https://wandb.ai/sizhuang/IterativeMethods/runs/9cde0sqs' target=\"_blank\">https://wandb.ai/sizhuang/IterativeMethods/runs/9cde0sqs</a><br/>Synced 4 W&B file(s), 0 media file(s), 0 artifact file(s) and 0 other file(s)"
      ],
      "text/plain": [
       "<IPython.core.display.HTML object>"
      ]
     },
     "metadata": {},
     "output_type": "display_data"
    },
    {
     "data": {
      "text/html": [
       "Find logs at: <code>./wandb/run-20230620_170029-9cde0sqs/logs</code>"
      ],
      "text/plain": [
       "<IPython.core.display.HTML object>"
      ]
     },
     "metadata": {},
     "output_type": "display_data"
    },
    {
     "name": "stderr",
     "output_type": "stream",
     "text": [
      "\u001b[34m\u001b[1mwandb\u001b[0m: Sweep Agent: Waiting for job.\n",
      "\u001b[34m\u001b[1mwandb\u001b[0m: Job received.\n",
      "\u001b[34m\u001b[1mwandb\u001b[0m: Agent Starting Run: 5o9anidx with config:\n",
      "\u001b[34m\u001b[1mwandb\u001b[0m: \tdropout: 0.5\n",
      "\u001b[34m\u001b[1mwandb\u001b[0m: \thid_dim: 16\n",
      "\u001b[34m\u001b[1mwandb\u001b[0m: \tlearning_rate: 0.0115\n",
      "\u001b[34m\u001b[1mwandb\u001b[0m: \tnum_epochs: 1\n",
      "\u001b[34m\u001b[1mwandb\u001b[0m: \tnum_iterations: 3\n",
      "\u001b[34m\u001b[1mwandb\u001b[0m: \tnum_runs: 5\n",
      "\u001b[34m\u001b[1mwandb\u001b[0m: \tsmooth_fac: 0.30000000000000004\n",
      "\u001b[34m\u001b[1mwandb\u001b[0m: \tweight_decay: 0.0002\n",
      "Failed to detect the name of this notebook, you can set it manually with the WANDB_NOTEBOOK_NAME environment variable to enable code saving.\n"
     ]
    },
    {
     "data": {
      "text/html": [
       "Tracking run with wandb version 0.15.4"
      ],
      "text/plain": [
       "<IPython.core.display.HTML object>"
      ]
     },
     "metadata": {},
     "output_type": "display_data"
    },
    {
     "data": {
      "text/html": [
       "Run data is saved locally in <code>/Users/sizhuang/Desktop/GitHub Repos/IterativeMethods/GCNexperiments/wandb/run-20230620_170045-5o9anidx</code>"
      ],
      "text/plain": [
       "<IPython.core.display.HTML object>"
      ]
     },
     "metadata": {},
     "output_type": "display_data"
    },
    {
     "data": {
      "text/html": [
       "Syncing run <strong><a href='https://wandb.ai/sizhuang/IterativeMethods/runs/5o9anidx' target=\"_blank\">fearless-sweep-2</a></strong> to <a href='https://wandb.ai/sizhuang/IterativeMethods' target=\"_blank\">Weights & Biases</a> (<a href='https://wandb.me/run' target=\"_blank\">docs</a>)<br/>Sweep page: <a href='https://wandb.ai/sizhuang/IterativeMethods/sweeps/0mqq9bfx' target=\"_blank\">https://wandb.ai/sizhuang/IterativeMethods/sweeps/0mqq9bfx</a>"
      ],
      "text/plain": [
       "<IPython.core.display.HTML object>"
      ]
     },
     "metadata": {},
     "output_type": "display_data"
    },
    {
     "data": {
      "text/html": [
       " View project at <a href='https://wandb.ai/sizhuang/IterativeMethods' target=\"_blank\">https://wandb.ai/sizhuang/IterativeMethods</a>"
      ],
      "text/plain": [
       "<IPython.core.display.HTML object>"
      ]
     },
     "metadata": {},
     "output_type": "display_data"
    },
    {
     "data": {
      "text/html": [
       " View sweep at <a href='https://wandb.ai/sizhuang/IterativeMethods/sweeps/0mqq9bfx' target=\"_blank\">https://wandb.ai/sizhuang/IterativeMethods/sweeps/0mqq9bfx</a>"
      ],
      "text/plain": [
       "<IPython.core.display.HTML object>"
      ]
     },
     "metadata": {},
     "output_type": "display_data"
    },
    {
     "data": {
      "text/html": [
       " View run at <a href='https://wandb.ai/sizhuang/IterativeMethods/runs/5o9anidx' target=\"_blank\">https://wandb.ai/sizhuang/IterativeMethods/runs/5o9anidx</a>"
      ],
      "text/plain": [
       "<IPython.core.display.HTML object>"
      ]
     },
     "metadata": {},
     "output_type": "display_data"
    },
    {
     "data": {
      "text/html": [
       "Waiting for W&B process to finish... <strong style=\"color:green\">(success).</strong>"
      ],
      "text/plain": [
       "<IPython.core.display.HTML object>"
      ]
     },
     "metadata": {},
     "output_type": "display_data"
    },
    {
     "data": {
      "text/html": [
       "<style>\n",
       "    table.wandb td:nth-child(1) { padding: 0 10px; text-align: left ; width: auto;} td:nth-child(2) {text-align: left ; width: 100%}\n",
       "    .wandb-row { display: flex; flex-direction: row; flex-wrap: wrap; justify-content: flex-start; width: 100% }\n",
       "    .wandb-col { display: flex; flex-direction: column; flex-basis: 100%; flex: 1; padding: 10px; }\n",
       "    </style>\n",
       "<div class=\"wandb-row\"><div class=\"wandb-col\"><h3>Run history:</h3><br/><table class=\"wandb\"><tr><td>epoch</td><td>▁</td></tr><tr><td>test_accuracy</td><td>▁</td></tr><tr><td>test_loss</td><td>▁</td></tr><tr><td>training_accuracy</td><td>▁</td></tr><tr><td>training_loss</td><td>▁</td></tr><tr><td>validation_accuracy</td><td>▁</td></tr><tr><td>validation_loss</td><td>▁</td></tr></table><br/></div><div class=\"wandb-col\"><h3>Run summary:</h3><br/><table class=\"wandb\"><tr><td>epoch</td><td>0</td></tr><tr><td>test_accuracy</td><td>0.149</td></tr><tr><td>test_loss</td><td>1.98316</td></tr><tr><td>training_accuracy</td><td>0.14286</td></tr><tr><td>training_loss</td><td>1.95383</td></tr><tr><td>validation_accuracy</td><td>0.162</td></tr><tr><td>validation_loss</td><td>1.9806</td></tr></table><br/></div></div>"
      ],
      "text/plain": [
       "<IPython.core.display.HTML object>"
      ]
     },
     "metadata": {},
     "output_type": "display_data"
    },
    {
     "data": {
      "text/html": [
       " View run <strong style=\"color:#cdcd00\">fearless-sweep-2</strong> at: <a href='https://wandb.ai/sizhuang/IterativeMethods/runs/5o9anidx' target=\"_blank\">https://wandb.ai/sizhuang/IterativeMethods/runs/5o9anidx</a><br/>Synced 4 W&B file(s), 0 media file(s), 0 artifact file(s) and 0 other file(s)"
      ],
      "text/plain": [
       "<IPython.core.display.HTML object>"
      ]
     },
     "metadata": {},
     "output_type": "display_data"
    },
    {
     "data": {
      "text/html": [
       "Find logs at: <code>./wandb/run-20230620_170045-5o9anidx/logs</code>"
      ],
      "text/plain": [
       "<IPython.core.display.HTML object>"
      ]
     },
     "metadata": {},
     "output_type": "display_data"
    },
    {
     "name": "stderr",
     "output_type": "stream",
     "text": [
      "\u001b[34m\u001b[1mwandb\u001b[0m: Agent Starting Run: z90j8zte with config:\n",
      "\u001b[34m\u001b[1mwandb\u001b[0m: \tdropout: 0.5\n",
      "\u001b[34m\u001b[1mwandb\u001b[0m: \thid_dim: 16\n",
      "\u001b[34m\u001b[1mwandb\u001b[0m: \tlearning_rate: 0.0145\n",
      "\u001b[34m\u001b[1mwandb\u001b[0m: \tnum_epochs: 1\n",
      "\u001b[34m\u001b[1mwandb\u001b[0m: \tnum_iterations: 3\n",
      "\u001b[34m\u001b[1mwandb\u001b[0m: \tnum_runs: 5\n",
      "\u001b[34m\u001b[1mwandb\u001b[0m: \tsmooth_fac: 0.15000000000000002\n",
      "\u001b[34m\u001b[1mwandb\u001b[0m: \tweight_decay: 0.0004\n",
      "Failed to detect the name of this notebook, you can set it manually with the WANDB_NOTEBOOK_NAME environment variable to enable code saving.\n"
     ]
    },
    {
     "data": {
      "text/html": [
       "Tracking run with wandb version 0.15.4"
      ],
      "text/plain": [
       "<IPython.core.display.HTML object>"
      ]
     },
     "metadata": {},
     "output_type": "display_data"
    },
    {
     "data": {
      "text/html": [
       "Run data is saved locally in <code>/Users/sizhuang/Desktop/GitHub Repos/IterativeMethods/GCNexperiments/wandb/run-20230620_170056-z90j8zte</code>"
      ],
      "text/plain": [
       "<IPython.core.display.HTML object>"
      ]
     },
     "metadata": {},
     "output_type": "display_data"
    },
    {
     "data": {
      "text/html": [
       "Syncing run <strong><a href='https://wandb.ai/sizhuang/IterativeMethods/runs/z90j8zte' target=\"_blank\">stellar-sweep-3</a></strong> to <a href='https://wandb.ai/sizhuang/IterativeMethods' target=\"_blank\">Weights & Biases</a> (<a href='https://wandb.me/run' target=\"_blank\">docs</a>)<br/>Sweep page: <a href='https://wandb.ai/sizhuang/IterativeMethods/sweeps/0mqq9bfx' target=\"_blank\">https://wandb.ai/sizhuang/IterativeMethods/sweeps/0mqq9bfx</a>"
      ],
      "text/plain": [
       "<IPython.core.display.HTML object>"
      ]
     },
     "metadata": {},
     "output_type": "display_data"
    },
    {
     "data": {
      "text/html": [
       " View project at <a href='https://wandb.ai/sizhuang/IterativeMethods' target=\"_blank\">https://wandb.ai/sizhuang/IterativeMethods</a>"
      ],
      "text/plain": [
       "<IPython.core.display.HTML object>"
      ]
     },
     "metadata": {},
     "output_type": "display_data"
    },
    {
     "data": {
      "text/html": [
       " View sweep at <a href='https://wandb.ai/sizhuang/IterativeMethods/sweeps/0mqq9bfx' target=\"_blank\">https://wandb.ai/sizhuang/IterativeMethods/sweeps/0mqq9bfx</a>"
      ],
      "text/plain": [
       "<IPython.core.display.HTML object>"
      ]
     },
     "metadata": {},
     "output_type": "display_data"
    },
    {
     "data": {
      "text/html": [
       " View run at <a href='https://wandb.ai/sizhuang/IterativeMethods/runs/z90j8zte' target=\"_blank\">https://wandb.ai/sizhuang/IterativeMethods/runs/z90j8zte</a>"
      ],
      "text/plain": [
       "<IPython.core.display.HTML object>"
      ]
     },
     "metadata": {},
     "output_type": "display_data"
    },
    {
     "data": {
      "text/html": [
       "Waiting for W&B process to finish... <strong style=\"color:green\">(success).</strong>"
      ],
      "text/plain": [
       "<IPython.core.display.HTML object>"
      ]
     },
     "metadata": {},
     "output_type": "display_data"
    },
    {
     "data": {
      "text/html": [
       "<style>\n",
       "    table.wandb td:nth-child(1) { padding: 0 10px; text-align: left ; width: auto;} td:nth-child(2) {text-align: left ; width: 100%}\n",
       "    .wandb-row { display: flex; flex-direction: row; flex-wrap: wrap; justify-content: flex-start; width: 100% }\n",
       "    .wandb-col { display: flex; flex-direction: column; flex-basis: 100%; flex: 1; padding: 10px; }\n",
       "    </style>\n",
       "<div class=\"wandb-row\"><div class=\"wandb-col\"><h3>Run history:</h3><br/><table class=\"wandb\"><tr><td>epoch</td><td>▁</td></tr><tr><td>test_accuracy</td><td>▁</td></tr><tr><td>test_loss</td><td>▁</td></tr><tr><td>training_accuracy</td><td>▁</td></tr><tr><td>training_loss</td><td>▁</td></tr><tr><td>validation_accuracy</td><td>▁</td></tr><tr><td>validation_loss</td><td>▁</td></tr></table><br/></div><div class=\"wandb-col\"><h3>Run summary:</h3><br/><table class=\"wandb\"><tr><td>epoch</td><td>0</td></tr><tr><td>test_accuracy</td><td>0.319</td></tr><tr><td>test_loss</td><td>1.9036</td></tr><tr><td>training_accuracy</td><td>0.14286</td></tr><tr><td>training_loss</td><td>1.95561</td></tr><tr><td>validation_accuracy</td><td>0.316</td></tr><tr><td>validation_loss</td><td>1.90487</td></tr></table><br/></div></div>"
      ],
      "text/plain": [
       "<IPython.core.display.HTML object>"
      ]
     },
     "metadata": {},
     "output_type": "display_data"
    },
    {
     "data": {
      "text/html": [
       " View run <strong style=\"color:#cdcd00\">stellar-sweep-3</strong> at: <a href='https://wandb.ai/sizhuang/IterativeMethods/runs/z90j8zte' target=\"_blank\">https://wandb.ai/sizhuang/IterativeMethods/runs/z90j8zte</a><br/>Synced 4 W&B file(s), 0 media file(s), 0 artifact file(s) and 0 other file(s)"
      ],
      "text/plain": [
       "<IPython.core.display.HTML object>"
      ]
     },
     "metadata": {},
     "output_type": "display_data"
    },
    {
     "data": {
      "text/html": [
       "Find logs at: <code>./wandb/run-20230620_170056-z90j8zte/logs</code>"
      ],
      "text/plain": [
       "<IPython.core.display.HTML object>"
      ]
     },
     "metadata": {},
     "output_type": "display_data"
    },
    {
     "name": "stderr",
     "output_type": "stream",
     "text": [
      "\u001b[34m\u001b[1mwandb\u001b[0m: Agent Starting Run: z5nb5tvw with config:\n",
      "\u001b[34m\u001b[1mwandb\u001b[0m: \tdropout: 0.5\n",
      "\u001b[34m\u001b[1mwandb\u001b[0m: \thid_dim: 16\n",
      "\u001b[34m\u001b[1mwandb\u001b[0m: \tlearning_rate: 0.002\n",
      "\u001b[34m\u001b[1mwandb\u001b[0m: \tnum_epochs: 1\n",
      "\u001b[34m\u001b[1mwandb\u001b[0m: \tnum_iterations: 2\n",
      "\u001b[34m\u001b[1mwandb\u001b[0m: \tnum_runs: 5\n",
      "\u001b[34m\u001b[1mwandb\u001b[0m: \tsmooth_fac: 0.7000000000000002\n",
      "\u001b[34m\u001b[1mwandb\u001b[0m: \tweight_decay: 0.0002\n",
      "Failed to detect the name of this notebook, you can set it manually with the WANDB_NOTEBOOK_NAME environment variable to enable code saving.\n"
     ]
    },
    {
     "data": {
      "text/html": [
       "Tracking run with wandb version 0.15.4"
      ],
      "text/plain": [
       "<IPython.core.display.HTML object>"
      ]
     },
     "metadata": {},
     "output_type": "display_data"
    },
    {
     "data": {
      "text/html": [
       "Run data is saved locally in <code>/Users/sizhuang/Desktop/GitHub Repos/IterativeMethods/GCNexperiments/wandb/run-20230620_170105-z5nb5tvw</code>"
      ],
      "text/plain": [
       "<IPython.core.display.HTML object>"
      ]
     },
     "metadata": {},
     "output_type": "display_data"
    },
    {
     "data": {
      "text/html": [
       "Syncing run <strong><a href='https://wandb.ai/sizhuang/IterativeMethods/runs/z5nb5tvw' target=\"_blank\">devoted-sweep-4</a></strong> to <a href='https://wandb.ai/sizhuang/IterativeMethods' target=\"_blank\">Weights & Biases</a> (<a href='https://wandb.me/run' target=\"_blank\">docs</a>)<br/>Sweep page: <a href='https://wandb.ai/sizhuang/IterativeMethods/sweeps/0mqq9bfx' target=\"_blank\">https://wandb.ai/sizhuang/IterativeMethods/sweeps/0mqq9bfx</a>"
      ],
      "text/plain": [
       "<IPython.core.display.HTML object>"
      ]
     },
     "metadata": {},
     "output_type": "display_data"
    },
    {
     "data": {
      "text/html": [
       " View project at <a href='https://wandb.ai/sizhuang/IterativeMethods' target=\"_blank\">https://wandb.ai/sizhuang/IterativeMethods</a>"
      ],
      "text/plain": [
       "<IPython.core.display.HTML object>"
      ]
     },
     "metadata": {},
     "output_type": "display_data"
    },
    {
     "data": {
      "text/html": [
       " View sweep at <a href='https://wandb.ai/sizhuang/IterativeMethods/sweeps/0mqq9bfx' target=\"_blank\">https://wandb.ai/sizhuang/IterativeMethods/sweeps/0mqq9bfx</a>"
      ],
      "text/plain": [
       "<IPython.core.display.HTML object>"
      ]
     },
     "metadata": {},
     "output_type": "display_data"
    },
    {
     "data": {
      "text/html": [
       " View run at <a href='https://wandb.ai/sizhuang/IterativeMethods/runs/z5nb5tvw' target=\"_blank\">https://wandb.ai/sizhuang/IterativeMethods/runs/z5nb5tvw</a>"
      ],
      "text/plain": [
       "<IPython.core.display.HTML object>"
      ]
     },
     "metadata": {},
     "output_type": "display_data"
    },
    {
     "data": {
      "text/html": [
       "Waiting for W&B process to finish... <strong style=\"color:green\">(success).</strong>"
      ],
      "text/plain": [
       "<IPython.core.display.HTML object>"
      ]
     },
     "metadata": {},
     "output_type": "display_data"
    },
    {
     "data": {
      "text/html": [
       "<style>\n",
       "    table.wandb td:nth-child(1) { padding: 0 10px; text-align: left ; width: auto;} td:nth-child(2) {text-align: left ; width: 100%}\n",
       "    .wandb-row { display: flex; flex-direction: row; flex-wrap: wrap; justify-content: flex-start; width: 100% }\n",
       "    .wandb-col { display: flex; flex-direction: column; flex-basis: 100%; flex: 1; padding: 10px; }\n",
       "    </style>\n",
       "<div class=\"wandb-row\"><div class=\"wandb-col\"><h3>Run history:</h3><br/><table class=\"wandb\"><tr><td>epoch</td><td>▁</td></tr><tr><td>test_accuracy</td><td>▁</td></tr><tr><td>test_loss</td><td>▁</td></tr><tr><td>training_accuracy</td><td>▁</td></tr><tr><td>training_loss</td><td>▁</td></tr><tr><td>validation_accuracy</td><td>▁</td></tr><tr><td>validation_loss</td><td>▁</td></tr></table><br/></div><div class=\"wandb-col\"><h3>Run summary:</h3><br/><table class=\"wandb\"><tr><td>epoch</td><td>0</td></tr><tr><td>test_accuracy</td><td>0.103</td></tr><tr><td>test_loss</td><td>1.9531</td></tr><tr><td>training_accuracy</td><td>0.14286</td></tr><tr><td>training_loss</td><td>1.95175</td></tr><tr><td>validation_accuracy</td><td>0.114</td></tr><tr><td>validation_loss</td><td>1.94834</td></tr></table><br/></div></div>"
      ],
      "text/plain": [
       "<IPython.core.display.HTML object>"
      ]
     },
     "metadata": {},
     "output_type": "display_data"
    },
    {
     "data": {
      "text/html": [
       " View run <strong style=\"color:#cdcd00\">devoted-sweep-4</strong> at: <a href='https://wandb.ai/sizhuang/IterativeMethods/runs/z5nb5tvw' target=\"_blank\">https://wandb.ai/sizhuang/IterativeMethods/runs/z5nb5tvw</a><br/>Synced 4 W&B file(s), 0 media file(s), 0 artifact file(s) and 0 other file(s)"
      ],
      "text/plain": [
       "<IPython.core.display.HTML object>"
      ]
     },
     "metadata": {},
     "output_type": "display_data"
    },
    {
     "data": {
      "text/html": [
       "Find logs at: <code>./wandb/run-20230620_170105-z5nb5tvw/logs</code>"
      ],
      "text/plain": [
       "<IPython.core.display.HTML object>"
      ]
     },
     "metadata": {},
     "output_type": "display_data"
    },
    {
     "name": "stderr",
     "output_type": "stream",
     "text": [
      "\u001b[34m\u001b[1mwandb\u001b[0m: Sweep Agent: Waiting for job.\n",
      "\u001b[34m\u001b[1mwandb\u001b[0m: Job received.\n",
      "\u001b[34m\u001b[1mwandb\u001b[0m: Agent Starting Run: lguyozv6 with config:\n",
      "\u001b[34m\u001b[1mwandb\u001b[0m: \tdropout: 0.5\n",
      "\u001b[34m\u001b[1mwandb\u001b[0m: \thid_dim: 16\n",
      "\u001b[34m\u001b[1mwandb\u001b[0m: \tlearning_rate: 0.0045000000000000005\n",
      "\u001b[34m\u001b[1mwandb\u001b[0m: \tnum_epochs: 1\n",
      "\u001b[34m\u001b[1mwandb\u001b[0m: \tnum_iterations: 2\n",
      "\u001b[34m\u001b[1mwandb\u001b[0m: \tnum_runs: 5\n",
      "\u001b[34m\u001b[1mwandb\u001b[0m: \tsmooth_fac: 0.20000000000000004\n",
      "\u001b[34m\u001b[1mwandb\u001b[0m: \tweight_decay: 0.0002\n",
      "Failed to detect the name of this notebook, you can set it manually with the WANDB_NOTEBOOK_NAME environment variable to enable code saving.\n"
     ]
    },
    {
     "data": {
      "text/html": [
       "Tracking run with wandb version 0.15.4"
      ],
      "text/plain": [
       "<IPython.core.display.HTML object>"
      ]
     },
     "metadata": {},
     "output_type": "display_data"
    },
    {
     "data": {
      "text/html": [
       "Run data is saved locally in <code>/Users/sizhuang/Desktop/GitHub Repos/IterativeMethods/GCNexperiments/wandb/run-20230620_170121-lguyozv6</code>"
      ],
      "text/plain": [
       "<IPython.core.display.HTML object>"
      ]
     },
     "metadata": {},
     "output_type": "display_data"
    },
    {
     "data": {
      "text/html": [
       "Syncing run <strong><a href='https://wandb.ai/sizhuang/IterativeMethods/runs/lguyozv6' target=\"_blank\">genial-sweep-5</a></strong> to <a href='https://wandb.ai/sizhuang/IterativeMethods' target=\"_blank\">Weights & Biases</a> (<a href='https://wandb.me/run' target=\"_blank\">docs</a>)<br/>Sweep page: <a href='https://wandb.ai/sizhuang/IterativeMethods/sweeps/0mqq9bfx' target=\"_blank\">https://wandb.ai/sizhuang/IterativeMethods/sweeps/0mqq9bfx</a>"
      ],
      "text/plain": [
       "<IPython.core.display.HTML object>"
      ]
     },
     "metadata": {},
     "output_type": "display_data"
    },
    {
     "data": {
      "text/html": [
       " View project at <a href='https://wandb.ai/sizhuang/IterativeMethods' target=\"_blank\">https://wandb.ai/sizhuang/IterativeMethods</a>"
      ],
      "text/plain": [
       "<IPython.core.display.HTML object>"
      ]
     },
     "metadata": {},
     "output_type": "display_data"
    },
    {
     "data": {
      "text/html": [
       " View sweep at <a href='https://wandb.ai/sizhuang/IterativeMethods/sweeps/0mqq9bfx' target=\"_blank\">https://wandb.ai/sizhuang/IterativeMethods/sweeps/0mqq9bfx</a>"
      ],
      "text/plain": [
       "<IPython.core.display.HTML object>"
      ]
     },
     "metadata": {},
     "output_type": "display_data"
    },
    {
     "data": {
      "text/html": [
       " View run at <a href='https://wandb.ai/sizhuang/IterativeMethods/runs/lguyozv6' target=\"_blank\">https://wandb.ai/sizhuang/IterativeMethods/runs/lguyozv6</a>"
      ],
      "text/plain": [
       "<IPython.core.display.HTML object>"
      ]
     },
     "metadata": {},
     "output_type": "display_data"
    },
    {
     "data": {
      "text/html": [
       "Waiting for W&B process to finish... <strong style=\"color:green\">(success).</strong>"
      ],
      "text/plain": [
       "<IPython.core.display.HTML object>"
      ]
     },
     "metadata": {},
     "output_type": "display_data"
    },
    {
     "data": {
      "text/html": [
       "<style>\n",
       "    table.wandb td:nth-child(1) { padding: 0 10px; text-align: left ; width: auto;} td:nth-child(2) {text-align: left ; width: 100%}\n",
       "    .wandb-row { display: flex; flex-direction: row; flex-wrap: wrap; justify-content: flex-start; width: 100% }\n",
       "    .wandb-col { display: flex; flex-direction: column; flex-basis: 100%; flex: 1; padding: 10px; }\n",
       "    </style>\n",
       "<div class=\"wandb-row\"><div class=\"wandb-col\"><h3>Run history:</h3><br/><table class=\"wandb\"><tr><td>epoch</td><td>▁</td></tr><tr><td>test_accuracy</td><td>▁</td></tr><tr><td>test_loss</td><td>▁</td></tr><tr><td>training_accuracy</td><td>▁</td></tr><tr><td>training_loss</td><td>▁</td></tr><tr><td>validation_accuracy</td><td>▁</td></tr><tr><td>validation_loss</td><td>▁</td></tr></table><br/></div><div class=\"wandb-col\"><h3>Run summary:</h3><br/><table class=\"wandb\"><tr><td>epoch</td><td>0</td></tr><tr><td>test_accuracy</td><td>0.064</td></tr><tr><td>test_loss</td><td>1.9408</td></tr><tr><td>training_accuracy</td><td>0.14286</td></tr><tr><td>training_loss</td><td>1.95924</td></tr><tr><td>validation_accuracy</td><td>0.058</td></tr><tr><td>validation_loss</td><td>1.94535</td></tr></table><br/></div></div>"
      ],
      "text/plain": [
       "<IPython.core.display.HTML object>"
      ]
     },
     "metadata": {},
     "output_type": "display_data"
    },
    {
     "data": {
      "text/html": [
       " View run <strong style=\"color:#cdcd00\">genial-sweep-5</strong> at: <a href='https://wandb.ai/sizhuang/IterativeMethods/runs/lguyozv6' target=\"_blank\">https://wandb.ai/sizhuang/IterativeMethods/runs/lguyozv6</a><br/>Synced 4 W&B file(s), 0 media file(s), 0 artifact file(s) and 0 other file(s)"
      ],
      "text/plain": [
       "<IPython.core.display.HTML object>"
      ]
     },
     "metadata": {},
     "output_type": "display_data"
    },
    {
     "data": {
      "text/html": [
       "Find logs at: <code>./wandb/run-20230620_170121-lguyozv6/logs</code>"
      ],
      "text/plain": [
       "<IPython.core.display.HTML object>"
      ]
     },
     "metadata": {},
     "output_type": "display_data"
    }
   ],
   "source": [
    "wandb.agent(sweep_id, run_exp, count=5)"
   ]
  }
 ],
 "metadata": {
  "kernelspec": {
   "display_name": "iterENV",
   "language": "python",
   "name": "python3"
  },
  "language_info": {
   "codemirror_mode": {
    "name": "ipython",
    "version": 3
   },
   "file_extension": ".py",
   "mimetype": "text/x-python",
   "name": "python",
   "nbconvert_exporter": "python",
   "pygments_lexer": "ipython3",
   "version": "3.9.17"
  },
  "orig_nbformat": 4
 },
 "nbformat": 4,
 "nbformat_minor": 2
}
