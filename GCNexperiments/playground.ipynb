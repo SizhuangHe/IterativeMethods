{
 "cells": [
  {
   "cell_type": "code",
   "execution_count": 1,
   "metadata": {},
   "outputs": [],
   "source": [
    "from __future__ import division\n",
    "from __future__ import print_function\n",
    "\n",
    "import time\n",
    "import numpy as np\n",
    "import math\n",
    "\n",
    "import torch\n",
    "from torch import nn\n",
    "import torch.nn.functional as F\n",
    "import torch.optim as optim\n",
    "import torch_geometric\n",
    "\n",
    "from  utils import accuracy\n",
    "from models import iterativeGCN, MLP_GCN, normalNN, iterativeNN, GCN\n",
    "from torch_geometric.datasets import Planetoid\n",
    "from torch_geometric.transforms import NormalizeFeatures"
   ]
  },
  {
   "cell_type": "code",
   "execution_count": 2,
   "metadata": {},
   "outputs": [],
   "source": [
    "dataset = Planetoid(root='data/Planetoid', \n",
    "                        name=\"Cora\", \n",
    "                        transform=NormalizeFeatures())\n",
    "data = dataset[0]"
   ]
  },
  {
   "cell_type": "code",
   "execution_count": 8,
   "metadata": {},
   "outputs": [],
   "source": [
    "hid_dim = 16\n",
    "num_iter_layers = 5\n",
    "dropout = 0.5\n",
    "smooth_fac= 0.7"
   ]
  },
  {
   "cell_type": "code",
   "execution_count": 9,
   "metadata": {},
   "outputs": [],
   "source": [
    "mlp_gcn = MLP_GCN(input_dim=dataset.num_features,\n",
    "                  output_dim=dataset.num_classes,\n",
    "                  hidden_dim=hid_dim,\n",
    "                  num_layers=num_iter_layers,\n",
    "                  dropout=dropout,\n",
    "                  xavier_init=True)\n",
    "norm_nn = normalNN(input_dim=dataset.num_features,\n",
    "                  output_dim=dataset.num_classes,\n",
    "                  hidden_dim=hid_dim,\n",
    "                  num_layers=num_iter_layers,\n",
    "                  dropout=dropout,\n",
    "                  xavier_init=True)\n",
    "iter_gcn = iterativeGCN(input_dim=dataset.num_features,\n",
    "                  output_dim=dataset.num_classes,\n",
    "                  hidden_dim=hid_dim,\n",
    "                  num_train_iter=num_iter_layers,\n",
    "                  smooth_fac=smooth_fac,\n",
    "                  dropout=dropout,\n",
    "                  xavier_init=True)\n",
    "iter_nn = iterativeNN(input_dim=dataset.num_features,\n",
    "                  output_dim=dataset.num_classes,\n",
    "                  hidden_dim=hid_dim,\n",
    "                  num_train_iter=num_iter_layers,\n",
    "                  smooth_fac=smooth_fac,\n",
    "                  dropout=dropout,\n",
    "                  xavier_init=True)\n",
    "iter_nn = iterativeNN(input_dim=dataset.num_features,\n",
    "                  output_dim=dataset.num_classes,\n",
    "                  hidden_dim=hid_dim,\n",
    "                  num_train_iter=num_iter_layers,\n",
    "                  smooth_fac=smooth_fac,\n",
    "                  dropout=dropout,\n",
    "                  xavier_init=True)\n",
    "gcn = GCN(input_dim=dataset.num_features,\n",
    "                  output_dim=dataset.num_classes,\n",
    "                  hidden_dim=hid_dim,\n",
    "                  num_layers=num_iter_layers,\n",
    "                  dropout=dropout)"
   ]
  },
  {
   "cell_type": "code",
   "execution_count": 6,
   "metadata": {},
   "outputs": [],
   "source": [
    "def count_parameters(model):\n",
    "    return sum(p.numel() for p in model.parameters() if p.requires_grad)"
   ]
  },
  {
   "cell_type": "code",
   "execution_count": 10,
   "metadata": {},
   "outputs": [
    {
     "name": "stdout",
     "output_type": "stream",
     "text": [
      "iterative NN:  23335\n",
      "normal NN:  24423\n",
      "iterative GCN:  23335\n",
      "usual gcn:  23879\n",
      "gcn with mlp:  24423\n"
     ]
    }
   ],
   "source": [
    "print(\"iterative NN: \", count_parameters(iter_nn))\n",
    "print(\"normal NN: \", count_parameters(norm_nn))\n",
    "print(\"iterative GCN: \", count_parameters(iter_gcn))\n",
    "print(\"usual gcn: \", count_parameters(gcn))\n",
    "print(\"gcn with mlp: \", count_parameters(mlp_gcn))"
   ]
  },
  {
   "cell_type": "code",
   "execution_count": 11,
   "metadata": {},
   "outputs": [
    {
     "name": "stdout",
     "output_type": "stream",
     "text": [
      "GCN(\n",
      "  (first_gc): GCNConv(1433, 16)\n",
      "  (gcs): ModuleList(\n",
      "    (0-2): 3 x GCNConv(16, 16)\n",
      "  )\n",
      "  (final_gc): GCNConv(16, 7)\n",
      ")\n"
     ]
    }
   ],
   "source": [
    "print(gcn)"
   ]
  }
 ],
 "metadata": {
  "kernelspec": {
   "display_name": "iterENV",
   "language": "python",
   "name": "python3"
  },
  "language_info": {
   "codemirror_mode": {
    "name": "ipython",
    "version": 3
   },
   "file_extension": ".py",
   "mimetype": "text/x-python",
   "name": "python",
   "nbconvert_exporter": "python",
   "pygments_lexer": "ipython3",
   "version": "3.8.2"
  },
  "orig_nbformat": 4
 },
 "nbformat": 4,
 "nbformat_minor": 2
}
