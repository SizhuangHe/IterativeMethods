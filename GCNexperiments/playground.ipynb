{
 "cells": [
  {
   "cell_type": "code",
   "execution_count": 1,
   "metadata": {},
   "outputs": [],
   "source": [
    "from __future__ import division\n",
    "from __future__ import print_function\n",
    "\n",
    "import time\n",
    "import numpy as np\n",
    "\n",
    "import torch\n",
    "from torch import nn\n",
    "import torch.nn.functional as F\n",
    "import torch.optim as optim\n",
    "import torch_geometric\n",
    "\n",
    "from  utils import run_experiment\n",
    "from models import GCN, iterativeGCN\n",
    "from torch_geometric.datasets import Planetoid"
   ]
  },
  {
   "cell_type": "code",
   "execution_count": 2,
   "metadata": {},
   "outputs": [],
   "source": [
    "from torch_geometric.transforms import NormalizeFeatures\n",
    "dataset = Planetoid(root='data/Planetoid', name='Cora', transform=NormalizeFeatures())"
   ]
  },
  {
   "cell_type": "code",
   "execution_count": 3,
   "metadata": {},
   "outputs": [
    {
     "name": "stdout",
     "output_type": "stream",
     "text": [
      "\n",
      "Dataset: Cora():\n",
      "======================\n",
      "Number of graphs: 1\n",
      "Number of features: 1433\n",
      "Number of classes: 7\n",
      "\n",
      "Data(x=[2708, 1433], edge_index=[2, 10556], y=[2708], train_mask=[2708], val_mask=[2708], test_mask=[2708])\n",
      "Training sample:  140\n",
      "Validation sample:  500\n",
      "Test sample:  1000\n",
      "===========================================================================================================\n",
      "Number of nodes: 2708\n",
      "Number of edges: 10556\n",
      "Average node degree: 3.90\n",
      "Number of training nodes: 140\n",
      "Training node label rate: 0.05\n",
      "Has isolated nodes: False\n",
      "Has self-loops: False\n",
      "Is undirected: True\n"
     ]
    }
   ],
   "source": [
    "print()\n",
    "print(f'Dataset: {dataset}:')\n",
    "print('======================')\n",
    "print(f'Number of graphs: {len(dataset)}')\n",
    "print(f'Number of features: {dataset.num_features}')\n",
    "print(f'Number of classes: {dataset.num_classes}')\n",
    "\n",
    "data = dataset[0]  # Get the first graph object.\n",
    "\n",
    "print()\n",
    "print(data)\n",
    "print(\"Training sample: \", data.train_mask.sum().item())\n",
    "print(\"Validation sample: \", data.val_mask.sum().item())\n",
    "print(\"Test sample: \", data.test_mask.sum().item())\n",
    "print('===========================================================================================================')\n",
    "\n",
    "# Gather some statistics about the graph.\n",
    "print(f'Number of nodes: {data.num_nodes}')\n",
    "print(f'Number of edges: {data.num_edges}')\n",
    "print(f'Average node degree: {data.num_edges / data.num_nodes:.2f}')\n",
    "print(f'Number of training nodes: {data.train_mask.sum()}')\n",
    "print(f'Training node label rate: {int(data.train_mask.sum()) / data.num_nodes:.2f}')\n",
    "print(f'Has isolated nodes: {data.has_isolated_nodes()}')\n",
    "print(f'Has self-loops: {data.has_self_loops()}')\n",
    "print(f'Is undirected: {data.is_undirected()}')"
   ]
  },
  {
   "cell_type": "code",
   "execution_count": null,
   "metadata": {},
   "outputs": [],
   "source": [
    "LR = np.arange(0.001, 0.01, 0.0005)\n",
    "SMOOTH_FAC = [0.1, 0.2, 0.3, 0.4, 0.5, 0.6, 0.7, 0.8, 0.9]"
   ]
  },
  {
   "cell_type": "code",
   "execution_count": null,
   "metadata": {},
   "outputs": [],
   "source": [
    "two_layer_GCN = GCN(input_dim=dataset.num_features,\n",
    "                    output_dim=dataset.num_classes,\n",
    "                    hidden_dim=16,\n",
    "                    num_layers=2,\n",
    "                    dropout=0.5)\n",
    "run_experiment(model=two_layer_GCN,\n",
    "               data=data,\n",
    "               lr=0.01,\n",
    "               weight_decay=5e-4,\n",
    "               model_name=\"2l\",\n",
    "               run=1,\n",
    "               num_epochs=200,\n",
    "               plot_fig=True)"
   ]
  },
  {
   "cell_type": "code",
   "execution_count": 9,
   "metadata": {},
   "outputs": [
    {
     "data": {
      "text/plain": [
       "0.719"
      ]
     },
     "execution_count": 9,
     "metadata": {},
     "output_type": "execute_result"
    }
   ],
   "source": [
    "model = iterativeGCN(input_dim=dataset.num_features,\n",
    "                                        output_dim=dataset.num_classes,\n",
    "                                        hidden_dim=16,\n",
    "                                        num_train_iter=2,\n",
    "                                        num_eval_iter=2,\n",
    "                                        smooth_fac=0.7,\n",
    "                                        dropout=0.5)\n",
    "loss_test, acc_test, training_time = run_experiment(model=model, \n",
    "                                                                    data=data, \n",
    "                                                                    lr=0.005, \n",
    "                                                                    weight_decay=2e-4,\n",
    "                                                                    model_name=str(111) + \"_\" + str(111),\n",
    "                                                                    run=1,\n",
    "                                                                    num_epochs=200,\n",
    "                                                                    )\n",
    "acc_test"
   ]
  },
  {
   "cell_type": "code",
   "execution_count": null,
   "metadata": {},
   "outputs": [],
   "source": [
    "curr_exp = 1\n",
    "for lr in LR:\n",
    "    for smooth_fac in SMOOTH_FAC:\n",
    "        model = iterativeGCN(input_dim=dataset.num_features,\n",
    "                                output_dim=dataset.num_classes,\n",
    "                                hidden_dim=32,\n",
    "                                num_train_iter=2,\n",
    "                                num_eval_iter=2,\n",
    "                                smooth_fac=smooth_fac,\n",
    "                                dropout=0.5)\n",
    "        loss_test, acc_test, training_time = run_experiment(model=model, \n",
    "                                                            data=data, \n",
    "                                                            lr=lr, \n",
    "                                                            weight_decay=2e-4,\n",
    "                                                            model_name=str(LR) + \",\" + str(smooth_fac),\n",
    "                                                            run=1,\n",
    "                                                            num_epochs=200)\n",
    "        print(\"Experiment \", curr_exp, \", training time: \", training_time)\n",
    "        print(\"Learning rate: \", lr, \", smoothing factor: \", smooth_fac, \" loss: \", loss_test, \", accuracy: \", acc_test)\n",
    "        curr_exp += 1\n",
    "        del model"
   ]
  },
  {
   "cell_type": "code",
   "execution_count": null,
   "metadata": {},
   "outputs": [],
   "source": [
    "print(two_layer_GCN)"
   ]
  },
  {
   "cell_type": "code",
   "execution_count": null,
   "metadata": {},
   "outputs": [],
   "source": [
    "feature_dim = dataset.num_features\n",
    "num_class = dataset.num_classes\n",
    "dropout = 0.5\n",
    "from torch_geometric.nn import GCNConv\n",
    "\n",
    "class GCN(nn.Module):\n",
    "    def __init__(self, hidden_dim, feature_dim, num_class, dropout=0.5) -> None:\n",
    "        super().__init__()\n",
    "        self.gc1 = GCNConv(feature_dim, hidden_dim)\n",
    "        self.gc2 = GCNConv(hidden_dim, num_class)\n",
    "        self.dropout = dropout\n",
    "\n",
    "    def forward(self, x, edge_index):\n",
    "        x = F.relu(self.gc1(x, edge_index))\n",
    "        x = F.dropout(x, p=self.dropout, training=self.training)\n",
    "        x = self.gc2(x, edge_index)\n",
    "        x = F.log_softmax(x, dim=1)\n",
    "        \n",
    "        return x\n",
    "    \n",
    "model22 = GCN(hidden_dim=16,\n",
    "            feature_dim=feature_dim,\n",
    "            num_class=num_class,\n",
    "            dropout=0.5\n",
    "            )\n",
    "print(model22)\n",
    "\n",
    "run_experiment(model=model22,\n",
    "               data=data,\n",
    "               lr=0.01,\n",
    "               weight_decay=5e-4,\n",
    "               model_name=\"2l\",\n",
    "               run=1,\n",
    "               num_epochs=200)"
   ]
  },
  {
   "cell_type": "code",
   "execution_count": null,
   "metadata": {},
   "outputs": [],
   "source": [
    "import logging\n",
    "logging.basicConfig(filename='example.log', encoding='utf-8', level=logging.DEBUG)\n",
    "logging.info('Epoch: {:04d}'.format(12),\n",
    "          'loss_train: {:.4f}'.format(1),\n",
    "          'acc_train: {:.4f}'.format(2),\n",
    "          'loss_val: {:.4f}'.format(3),\n",
    "          'acc_val: {:.4f}'.format(1),\n",
    "          'time: {:.4f}s'.format(2))"
   ]
  },
  {
   "cell_type": "code",
   "execution_count": 5,
   "metadata": {},
   "outputs": [
    {
     "name": "stdout",
     "output_type": "stream",
     "text": [
      "4.00e+01\n"
     ]
    }
   ],
   "source": [
    "print(\"{:.2e}\".format(40))"
   ]
  },
  {
   "cell_type": "code",
   "execution_count": 7,
   "metadata": {},
   "outputs": [
    {
     "data": {
      "text/plain": [
       "18"
      ]
     },
     "execution_count": 7,
     "metadata": {},
     "output_type": "execute_result"
    }
   ],
   "source": [
    "import numpy as np\n",
    "LR = np.arange(0.001, 0.01, 0.0005)\n"
   ]
  }
 ],
 "metadata": {
  "kernelspec": {
   "display_name": "iterENV",
   "language": "python",
   "name": "python3"
  },
  "language_info": {
   "codemirror_mode": {
    "name": "ipython",
    "version": 3
   },
   "file_extension": ".py",
   "mimetype": "text/x-python",
   "name": "python",
   "nbconvert_exporter": "python",
   "pygments_lexer": "ipython3",
   "version": "3.9.17"
  },
  "orig_nbformat": 4
 },
 "nbformat": 4,
 "nbformat_minor": 2
}
