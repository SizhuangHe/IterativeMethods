{
 "cells": [
  {
   "cell_type": "code",
   "execution_count": 1,
   "metadata": {},
   "outputs": [],
   "source": [
    "from __future__ import division\n",
    "from __future__ import print_function\n",
    "\n",
    "import time\n",
    "import numpy as np\n",
    "import math\n",
    "\n",
    "import torch\n",
    "from torch import nn\n",
    "import torch.nn.functional as F\n",
    "import torch.optim as optim\n",
    "import torch_geometric\n",
    "\n",
    "from  utils import run_experiment\n",
    "from models import GCN, iterativeGCN\n",
    "from torch_geometric.datasets import Planetoid"
   ]
  },
  {
   "cell_type": "code",
   "execution_count": 2,
   "metadata": {},
   "outputs": [],
   "source": [
    "from torch_geometric.transforms import NormalizeFeatures\n",
    "dataset = Planetoid(root='data/Planetoid', name='Cora', transform=NormalizeFeatures())\n",
    "data = dataset[0]"
   ]
  },
  {
   "cell_type": "code",
   "execution_count": 3,
   "metadata": {},
   "outputs": [
    {
     "data": {
      "text/plain": [
       "[2708, 1433]"
      ]
     },
     "execution_count": 3,
     "metadata": {},
     "output_type": "execute_result"
    }
   ],
   "source": [
    "list(data.x.shape)"
   ]
  },
  {
   "cell_type": "code",
   "execution_count": 21,
   "metadata": {},
   "outputs": [],
   "source": [
    "def add_noise(data, percent=0.7):\n",
    "    #add random 1's to data\n",
    "    if percent >= 0 and percent <= 1:\n",
    "        len = np.prod(list(data.x.shape))\n",
    "        ones = math.floor(len * percent)\n",
    "        zeros = len - ones\n",
    "        noise = torch.cat((torch.zeros(zeros), torch.ones(ones)))\n",
    "        noise = noise[torch.randperm(noise.size(0))]\n",
    "        noise = torch.reshape(noise, data.x.shape)\n",
    "        data.x += noise\n",
    "    return data"
   ]
  },
  {
   "cell_type": "code",
   "execution_count": 25,
   "metadata": {},
   "outputs": [],
   "source": [
    "hid_dim = 16\n",
    "num_iter = 2\n",
    "smooth_fac = 0.7"
   ]
  },
  {
   "cell_type": "code",
   "execution_count": 29,
   "metadata": {},
   "outputs": [],
   "source": [
    "model = iterativeGCN(input_dim=dataset.num_features,\n",
    "                                output_dim=dataset.num_classes,\n",
    "                                hidden_dim=hid_dim,\n",
    "                                num_train_iter=num_iter,\n",
    "                                smooth_fac=smooth_fac,\n",
    "                                schedule=None,\n",
    "                                dropout=0.5,\n",
    "                                xavier_init=True\n",
    "                                )"
   ]
  },
  {
   "cell_type": "code",
   "execution_count": 34,
   "metadata": {},
   "outputs": [
    {
     "data": {
      "text/plain": [
       "<bound method Module.parameters of iterativeGCN(\n",
       "  (encoder): Linear(in_features=1433, out_features=16, bias=True)\n",
       "  (gc): GCNConv(16, 16)\n",
       "  (decoder): Linear(in_features=16, out_features=7, bias=True)\n",
       ")>"
      ]
     },
     "execution_count": 34,
     "metadata": {},
     "output_type": "execute_result"
    }
   ],
   "source": [
    "model.parameters"
   ]
  },
  {
   "cell_type": "code",
   "execution_count": 31,
   "metadata": {},
   "outputs": [],
   "source": [
    "def count_parameters(model):\n",
    "    return sum(p.numel() for p in model.parameters() if p.requires_grad)"
   ]
  }
 ],
 "metadata": {
  "kernelspec": {
   "display_name": "iterENV",
   "language": "python",
   "name": "python3"
  },
  "language_info": {
   "codemirror_mode": {
    "name": "ipython",
    "version": 3
   },
   "file_extension": ".py",
   "mimetype": "text/x-python",
   "name": "python",
   "nbconvert_exporter": "python",
   "pygments_lexer": "ipython3",
   "version": "3.8.2"
  },
  "orig_nbformat": 4
 },
 "nbformat": 4,
 "nbformat_minor": 2
}
