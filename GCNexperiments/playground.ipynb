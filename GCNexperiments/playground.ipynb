{
 "cells": [
  {
   "cell_type": "code",
   "execution_count": null,
   "metadata": {},
   "outputs": [],
   "source": [
    "from __future__ import division\n",
    "from __future__ import print_function\n",
    "\n",
    "import time\n",
    "import numpy as np\n",
    "import math\n",
    "\n",
    "import torch\n",
    "from torch import nn\n",
    "import torch.nn.functional as F\n",
    "import torch.optim as optim\n",
    "import torch_geometric\n",
    "\n",
    "from  utils import accuracy, make_uniform_schedule\n",
    "from models import iterativeGCN, MLP_GCN, normalNN, iterativeNN, GCN, iterativeGCN_variant\n",
    "from torch_geometric.datasets import Planetoid\n",
    "from torch_geometric.transforms import NormalizeFeatures"
   ]
  },
  {
   "cell_type": "code",
   "execution_count": null,
   "metadata": {},
   "outputs": [],
   "source": [
    "dataset = Planetoid(root='data/Planetoid', \n",
    "                        name=\"Cora\", \n",
    "                        transform=NormalizeFeatures())\n",
    "data = dataset[0]"
   ]
  },
  {
   "cell_type": "code",
   "execution_count": null,
   "metadata": {},
   "outputs": [],
   "source": [
    "torch.count_nonzero(data.x)"
   ]
  },
  {
   "cell_type": "code",
   "execution_count": null,
   "metadata": {},
   "outputs": [],
   "source": [
    "torch.prod(torch.Tensor([data.x.shape]))"
   ]
  },
  {
   "cell_type": "code",
   "execution_count": null,
   "metadata": {},
   "outputs": [],
   "source": [
    "hid_dim = 16\n",
    "num_iter_layers = 5\n",
    "dropout = 0.5\n",
    "smooth_fac= 0.7"
   ]
  },
  {
   "cell_type": "code",
   "execution_count": null,
   "metadata": {},
   "outputs": [],
   "source": [
    "mlp_gcn = MLP_GCN(input_dim=dataset.num_features,\n",
    "                  output_dim=dataset.num_classes,\n",
    "                  hidden_dim=hid_dim,\n",
    "                  num_layers=num_iter_layers,\n",
    "                  dropout=dropout,\n",
    "                  xavier_init=True)\n",
    "norm_nn = normalNN(input_dim=dataset.num_features,\n",
    "                  output_dim=dataset.num_classes,\n",
    "                  hidden_dim=hid_dim,\n",
    "                  num_layers=num_iter_layers,\n",
    "                  dropout=dropout,\n",
    "                  xavier_init=True)\n",
    "iter_gcn = iterativeGCN(input_dim=dataset.num_features,\n",
    "                  output_dim=dataset.num_classes,\n",
    "                  hidden_dim=hid_dim,\n",
    "                  num_train_iter=num_iter_layers,\n",
    "                  smooth_fac=smooth_fac,\n",
    "                  dropout=dropout,\n",
    "                  xavier_init=True)\n",
    "iter_nn = iterativeNN(input_dim=dataset.num_features,\n",
    "                  output_dim=dataset.num_classes,\n",
    "                  hidden_dim=hid_dim,\n",
    "                  num_train_iter=num_iter_layers,\n",
    "                  smooth_fac=smooth_fac,\n",
    "                  dropout=dropout,\n",
    "                  xavier_init=True)\n",
    "iter_nn = iterativeNN(input_dim=dataset.num_features,\n",
    "                  output_dim=dataset.num_classes,\n",
    "                  hidden_dim=hid_dim,\n",
    "                  num_train_iter=num_iter_layers,\n",
    "                  smooth_fac=smooth_fac,\n",
    "                  dropout=dropout,\n",
    "                  xavier_init=True)\n",
    "gcn = GCN(input_dim=dataset.num_features,\n",
    "                  output_dim=dataset.num_classes,\n",
    "                  hidden_dim=hid_dim,\n",
    "                  num_layers=num_iter_layers,\n",
    "                  dropout=dropout)"
   ]
  },
  {
   "cell_type": "code",
   "execution_count": null,
   "metadata": {},
   "outputs": [],
   "source": [
    "def count_parameters(model):\n",
    "    return sum(p.numel() for p in model.parameters() if p.requires_grad)"
   ]
  },
  {
   "cell_type": "code",
   "execution_count": null,
   "metadata": {},
   "outputs": [],
   "source": [
    "gcn = GCN(input_dim=dataset.num_features,\n",
    "                  output_dim=dataset.num_classes,\n",
    "                  hidden_dim=32,\n",
    "                  num_layers=3,\n",
    "                  dropout=0.5)"
   ]
  },
  {
   "cell_type": "code",
   "execution_count": null,
   "metadata": {},
   "outputs": [],
   "source": [
    "print(\"usual gcn: \", count_parameters(gcn))"
   ]
  },
  {
   "cell_type": "code",
   "execution_count": null,
   "metadata": {},
   "outputs": [],
   "source": [
    "print(\"iterative NN: \", count_parameters(iter_nn))\n",
    "print(\"normal NN: \", count_parameters(norm_nn))\n",
    "print(\"iterative GCN: \", count_parameters(iter_gcn))\n",
    "print(\"usual gcn: \", count_parameters(gcn))\n",
    "print(\"gcn with mlp: \", count_parameters(mlp_gcn))"
   ]
  },
  {
   "cell_type": "code",
   "execution_count": null,
   "metadata": {},
   "outputs": [],
   "source": [
    "print(gcn)"
   ]
  },
  {
   "cell_type": "code",
   "execution_count": null,
   "metadata": {},
   "outputs": [],
   "source": [
    "import numpy as np\n",
    "full_schedule = np.full(10, 0.5)\n",
    "print(\"full schedule: \", full_schedule)\n",
    "for iter in range(len(full_schedule)):\n",
    "    eval_schedule = full_schedule[0:iter]\n",
    "    print(\"eval schedule: \", eval_schedule)"
   ]
  },
  {
   "cell_type": "code",
   "execution_count": null,
   "metadata": {},
   "outputs": [],
   "source": [
    "aa = F.sigmoid(torch.Tensor(np.linspace(1, 9, 30)))"
   ]
  },
  {
   "cell_type": "code",
   "execution_count": null,
   "metadata": {},
   "outputs": [],
   "source": [
    "len(aa)"
   ]
  },
  {
   "cell_type": "code",
   "execution_count": null,
   "metadata": {},
   "outputs": [],
   "source": [
    "import numpy as np\n",
    "import torch.nn.functional as F\n",
    "import torch\n",
    "F.sigmoid(torch.Tensor(np.linspace(0.5, 4, 60)))"
   ]
  },
  {
   "cell_type": "code",
   "execution_count": null,
   "metadata": {},
   "outputs": [],
   "source": [
    "F.sigmoid(torch.Tensor(np.linspace(0.5, 3, 60)))"
   ]
  },
  {
   "cell_type": "code",
   "execution_count": null,
   "metadata": {},
   "outputs": [],
   "source": [
    "F.sigmoid(torch.Tensor([3]))"
   ]
  },
  {
   "cell_type": "code",
   "execution_count": null,
   "metadata": {},
   "outputs": [],
   "source": [
    "from models import GCN\n",
    "gcn = GCN(input_dim=1433,\n",
    "                output_dim=7,\n",
    "                hidden_dim=32,\n",
    "                num_layers=10,\n",
    "                dropout=0.5)\n",
    "print(gcn)"
   ]
  },
  {
   "cell_type": "code",
   "execution_count": 1,
   "metadata": {},
   "outputs": [
    {
     "name": "stderr",
     "output_type": "stream",
     "text": [
      "/Users/sizhuang/Desktop/GitHub Repos/IterativeMethods/iterENV/lib/python3.8/site-packages/urllib3/__init__.py:34: NotOpenSSLWarning: urllib3 v2.0 only supports OpenSSL 1.1.1+, currently the 'ssl' module is compiled with 'LibreSSL 2.8.3'. See: https://github.com/urllib3/urllib3/issues/3020\n",
      "  warnings.warn(\n"
     ]
    },
    {
     "name": "stdout",
     "output_type": "stream",
     "text": [
      "guagua\n",
      "lala\n",
      "lala\n"
     ]
    },
    {
     "data": {
      "text/plain": [
       "tensor([[-1.9445, -1.9470, -1.9416,  ..., -1.9473, -1.9455, -1.9443],\n",
       "        [-1.9437, -1.9460, -1.9442,  ..., -1.9457, -1.9500, -1.9416],\n",
       "        [-1.9467, -1.9464, -1.9423,  ..., -1.9472, -1.9493, -1.9440],\n",
       "        ...,\n",
       "        [-1.9527, -1.9442, -1.9372,  ..., -1.9402, -1.9535, -1.9451],\n",
       "        [-1.9456, -1.9451, -1.9434,  ..., -1.9469, -1.9479, -1.9442],\n",
       "        [-1.9449, -1.9466, -1.9434,  ..., -1.9466, -1.9458, -1.9453]],\n",
       "       grad_fn=<LogSoftmaxBackward0>)"
      ]
     },
     "execution_count": 1,
     "metadata": {},
     "output_type": "execute_result"
    }
   ],
   "source": [
    "from __future__ import division\n",
    "from __future__ import print_function\n",
    "\n",
    "import time\n",
    "import numpy as np\n",
    "import math\n",
    "\n",
    "import torch\n",
    "from torch import nn\n",
    "import torch.nn.functional as F\n",
    "import torch.optim as optim\n",
    "import torch_geometric\n",
    "\n",
    "from  utils import accuracy, make_uniform_schedule\n",
    "from models import iterativeGCN, MLP_GCN, normalNN, iterativeNN, GCN, iterativeGCN_variant\n",
    "from torch_geometric.datasets import Planetoid\n",
    "from torch_geometric.transforms import NormalizeFeatures\n",
    "\n",
    "dataset = Planetoid(root='data/Planetoid', \n",
    "                        name=\"Cora\", \n",
    "                        transform=NormalizeFeatures())\n",
    "data = dataset[0]\n",
    "\n",
    "train_schedule = make_uniform_schedule(2, 0.7)\n",
    "model = iterativeGCN_variant(input_dim=1433,\n",
    "                                 output_dim=7,\n",
    "                                 hidden_dim=32,\n",
    "                                 train_schedule=train_schedule,\n",
    "                                 dropout=0.5,\n",
    "                                 xavier_init=True\n",
    "                                 )\n",
    "model(data.x, data.edge_index)"
   ]
  },
  {
   "cell_type": "code",
   "execution_count": null,
   "metadata": {},
   "outputs": [],
   "source": []
  }
 ],
 "metadata": {
  "kernelspec": {
   "display_name": "iterENV",
   "language": "python",
   "name": "python3"
  },
  "language_info": {
   "codemirror_mode": {
    "name": "ipython",
    "version": 3
   },
   "file_extension": ".py",
   "mimetype": "text/x-python",
   "name": "python",
   "nbconvert_exporter": "python",
   "pygments_lexer": "ipython3",
   "version": "3.8.2"
  },
  "orig_nbformat": 4
 },
 "nbformat": 4,
 "nbformat_minor": 2
}
