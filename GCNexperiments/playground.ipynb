{
 "cells": [
  {
   "cell_type": "code",
   "execution_count": 1,
   "metadata": {},
   "outputs": [],
   "source": [
    "from __future__ import division\n",
    "from __future__ import print_function\n",
    "\n",
    "import time\n",
    "import numpy as np\n",
    "\n",
    "import torch\n",
    "from torch import nn\n",
    "import torch.nn.functional as F\n",
    "import torch.optim as optim\n",
    "import torch_geometric\n",
    "\n",
    "from  utils import run_experiment\n",
    "from models import GCN, iterativeGCN\n",
    "from torch_geometric.datasets import Planetoid"
   ]
  },
  {
   "cell_type": "code",
   "execution_count": 2,
   "metadata": {},
   "outputs": [],
   "source": [
    "from torch_geometric.transforms import NormalizeFeatures\n",
    "dataset = Planetoid(root='data/Planetoid', name='Cora', transform=NormalizeFeatures())\n",
    "data = dataset[0]"
   ]
  },
  {
   "cell_type": "code",
   "execution_count": 3,
   "metadata": {},
   "outputs": [],
   "source": [
    "model = iterativeGCN(input_dim=dataset.num_features,\n",
    "                                        output_dim=dataset.num_classes,\n",
    "                                        hidden_dim=16,\n",
    "                                        num_train_iter=2,\n",
    "                                        smooth_fac=0.7,\n",
    "                                        schedule=np.full(5, 0.2),\n",
    "                                        dropout=0.5)"
   ]
  },
  {
   "attachments": {},
   "cell_type": "markdown",
   "metadata": {},
   "source": [
    "types of schedule:\n",
    "- Uniform\n",
    "- Linear\n",
    "- Quadratic\n",
    "- Sort of like binomial theorem"
   ]
  },
  {
   "cell_type": "code",
   "execution_count": 4,
   "metadata": {},
   "outputs": [],
   "source": [
    "from utils import accuracy\n",
    "lr = 0.01\n",
    "weight_decay = 5e-4\n",
    "def run_experiment(data, lr, weight_decay, model_name, run, num_epochs=200, plot_fig=False):\n",
    "    loss_TRAIN = []\n",
    "    acc_TRAIN = []\n",
    "    loss_VAL = []\n",
    "    acc_VAL = []\n",
    "\n",
    "    optimizer = optim.Adam(model.parameters(),\n",
    "                       lr=lr, weight_decay=weight_decay)\n",
    "    total_start = time.time()\n",
    "    for epoch in range(num_epochs):\n",
    "        t = time.time()\n",
    "    \n",
    "        model.train()\n",
    "\n",
    "        output = model(data.x, data.edge_index)   \n",
    "        loss_train = F.nll_loss(output[data.train_mask], data.y[data.train_mask])\n",
    "        pred = output[data.train_mask].argmax(dim=1)\n",
    "        acc_train = accuracy(pred, data.y[data.train_mask])\n",
    "        optimizer.zero_grad()\n",
    "        loss_train.backward()\n",
    "        optimizer.step()\n",
    "        \n",
    "        # print('Epoch: {:04d}'.format(epoch+1),\n",
    "        #     'loss_train: {:.4f}'.format(loss_train.item()),\n",
    "        #     'acc_train: {:.4f}'.format(acc_train),\n",
    "        #     'loss_val: {:.4f}'.format(loss_val.item()),\n",
    "        #     'acc_val: {:.4f}'.format(acc_val),\n",
    "        #     'time: {:.4f}s'.format(time.time() - t))\n",
    "\n",
    "    total_end = time.time()\n",
    "    training_time = total_end - total_start\n",
    "    # print(\"Optimization Finished!\")\n",
    "    # print(\"Total time elapsed: {:.4f}s\".format(training_time))\n",
    "\n",
    "run_experiment(data=data,\n",
    "               lr=lr,\n",
    "               weight_decay=weight_decay,\n",
    "               model_name=\"lala\",\n",
    "               run=1)"
   ]
  },
  {
   "cell_type": "code",
   "execution_count": 5,
   "metadata": {},
   "outputs": [],
   "source": [
    "model.eval()\n",
    "start_time = time.time()\n",
    "output = model(data.x, data.edge_index)\n",
    "end_time = time.time()\n",
    "\n",
    "loss_test = F.nll_loss(output[data.test_mask], data.y[data.test_mask])\n",
    "pred = output[data.test_mask].argmax(dim=1)\n",
    "acc_test = accuracy(pred, data.y[data.test_mask])\n",
    "    "
   ]
  },
  {
   "cell_type": "code",
   "execution_count": 6,
   "metadata": {},
   "outputs": [
    {
     "data": {
      "text/plain": [
       "0.392"
      ]
     },
     "execution_count": 6,
     "metadata": {},
     "output_type": "execute_result"
    }
   ],
   "source": [
    "acc_test"
   ]
  },
  {
   "attachments": {},
   "cell_type": "markdown",
   "metadata": {},
   "source": [
    "Worked???"
   ]
  }
 ],
 "metadata": {
  "kernelspec": {
   "display_name": "iterENV",
   "language": "python",
   "name": "python3"
  },
  "language_info": {
   "codemirror_mode": {
    "name": "ipython",
    "version": 3
   },
   "file_extension": ".py",
   "mimetype": "text/x-python",
   "name": "python",
   "nbconvert_exporter": "python",
   "pygments_lexer": "ipython3",
   "version": "3.9.17"
  },
  "orig_nbformat": 4
 },
 "nbformat": 4,
 "nbformat_minor": 2
}
