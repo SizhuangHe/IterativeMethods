{
 "cells": [
  {
   "cell_type": "code",
   "execution_count": 7,
   "metadata": {},
   "outputs": [
    {
     "data": {
      "text/plain": [
       "True"
      ]
     },
     "execution_count": 7,
     "metadata": {},
     "output_type": "execute_result"
    }
   ],
   "source": [
    "from __future__ import division\n",
    "from __future__ import print_function\n",
    "\n",
    "import time\n",
    "import numpy as np\n",
    "import math\n",
    "\n",
    "import torch\n",
    "from torch import nn\n",
    "import torch.nn.functional as F\n",
    "import torch.optim as optim\n",
    "import torch_geometric\n",
    "\n",
    "from  utils import accuracy\n",
    "from models import GCN, iterativeGCN\n",
    "from torch_geometric.datasets import Planetoid\n",
    "from torch_geometric.transforms import NormalizeFeatures\n",
    "import wandb\n",
    "wandb.login()\n"
   ]
  },
  {
   "cell_type": "code",
   "execution_count": 2,
   "metadata": {},
   "outputs": [],
   "source": [
    "def add_noise(data, percent=0.7):\n",
    "    #add random 1's to data\n",
    "    if percent > 0 and percent <= 1:\n",
    "        len = np.prod(list(data.x.shape))\n",
    "        ones = math.floor(len * percent)\n",
    "        zeros = len - ones\n",
    "        noise = torch.cat((torch.zeros(zeros), torch.ones(ones)))\n",
    "        noise = noise[torch.randperm(noise.size(0))]\n",
    "        noise = torch.reshape(noise, data.x.shape)\n",
    "        data.x += noise\n",
    "    return data\n",
    "\n",
    "def make_data(config):\n",
    "    dataset = Planetoid(root='data/Planetoid', \n",
    "                        name=config.dataset_name, \n",
    "                        transform=NormalizeFeatures())\n",
    "    data = dataset[0]\n",
    "    data = add_noise(data, percent=config.noise_percent)\n",
    "    num_features = dataset.num_features\n",
    "    num_classes = dataset.num_classes\n",
    "    return data, num_features, num_classes\n",
    "\n",
    "def make_models(config, input_dim, output_dim):\n",
    "    iterative_model = iterativeGCN(input_dim=input_dim,\n",
    "                            output_dim=output_dim,\n",
    "                            hidden_dim=config.hid_dim,\n",
    "                            num_train_iter=config.num_iterations,\n",
    "                            smooth_fac=config.smooth_fac,\n",
    "                            dropout=config.dropout)\n",
    "    normal_model = GCN(input_dim=input_dim,\n",
    "                output_dim=output_dim,\n",
    "                hidden_dim=config.hid_dim,\n",
    "                num_layers=config.num_layers,\n",
    "                dropout=config.dropout)\n",
    "    return iterative_model, normal_model\n",
    "\n",
    "\n",
    "\n",
    "def count_parameters(model):\n",
    "    return sum(p.numel() for p in model.parameters() if p.requires_grad)\n",
    "\n",
    "def train_epoch(model, data, optimizer):\n",
    "    model.train()\n",
    "    output = model(data.x, data.edge_index)\n",
    "    loss = F.nll_loss(output[data.train_mask], data.y[data.train_mask])\n",
    "    pred = output[data.train_mask].argmax(dim=1)\n",
    "    acc = accuracy(pred, data.y[data.train_mask])\n",
    "    \n",
    "    optimizer.zero_grad()\n",
    "    loss.backward()\n",
    "    optimizer.step()\n",
    "    return loss, acc\n",
    "\n",
    "def validate_epoch(model, data):\n",
    "    model.eval()\n",
    "    output = model(data.x, data.edge_index)\n",
    "    loss = F.nll_loss(output[data.val_mask], data.y[data.val_mask])\n",
    "    pred = output[data.val_mask].argmax(dim=1)\n",
    "    acc = accuracy(pred, data.y[data.val_mask])\n",
    "    return loss, acc\n",
    "\n",
    "def train(model, data, config, num_epochs):\n",
    "    optimizer = optim.Adam(model.parameters(), lr=config.learning_rate, weight_decay=config.weight_decay)\n",
    "    for epoch in range(num_epochs):\n",
    "        loss_train, acc_train = train_epoch(model, data, optimizer)\n",
    "        loss_val, acc_val = validate_epoch(model, data)\n",
    "        wandb.log({\n",
    "            'training_loss': loss_train,\n",
    "            'training_accuracy': acc_train,\n",
    "            'validation_loss': loss_val,\n",
    "            'validation_accuracy': acc_val,\n",
    "            \"epoch\": epoch+1\n",
    "        })\n",
    "\n",
    "def test(model, data):\n",
    "    model.eval()\n",
    "    output = model(data.x, data.edge_index)\n",
    "    loss = F.nll_loss(output[data.test_mask], data.y[data.test_mask])\n",
    "    pred = output[data.test_mask].argmax(dim=1)\n",
    "    acc = accuracy(pred, data.y[data.test_mask])\n",
    "    wandb.log({\n",
    "        'test_loss': loss,\n",
    "        'test_accuracy': acc\n",
    "    })\n",
    "    torch.onnx.export(model, data.x, \"model.onnx\")\n",
    "    wandb.save(\"model.onnx\")\n",
    "    return loss, acc"
   ]
  },
  {
   "cell_type": "code",
   "execution_count": 14,
   "metadata": {},
   "outputs": [],
   "source": [
    "def run_exp(config=None):\n",
    "     with wandb.init(config=config):\n",
    "        config = wandb.config\n",
    "\n",
    "        data, num_features, num_classes = make_data(config)\n",
    "        iterative_model, normal_model = make_models(config.iterative_model, \n",
    "                                               input_dim=num_features, \n",
    "                                               output_dim=num_classes)\n",
    "        iterative_model_param = count_parameters(iterative_model)\n",
    "        normal_model_param = count_parameters(normal_model)\n",
    "        wandb.log({\n",
    "            'Number of parameters for the iterative model': iterative_model_param,\n",
    "            'Number of parameters for the normal model': normal_model_param\n",
    "        })\n",
    "        \n",
    "        train(iterative_model, data, config.optimizer, config.num_epochs)\n",
    "        test(iterative_model, data)"
   ]
  },
  {
   "cell_type": "code",
   "execution_count": 4,
   "metadata": {},
   "outputs": [],
   "source": [
    "config = {\n",
    "    'num_epochs': 200\n",
    "} \n",
    "dataset_dict = {\n",
    "    'dataset_name': \"Cora\",\n",
    "    'noise_percent': 0.7\n",
    "}\n",
    "config['dataset'] = dataset_dict\n",
    "iterative_model_dict = {\n",
    "    'hid_dim': 32,\n",
    "    'num_train_iter': 2,\n",
    "    'smooth_fac': 0.7,\n",
    "    'dropout': 0.5\n",
    "}\n",
    "config['iterative_model'] = iterative_model_dict\n",
    "normal_model_dict = {\n",
    "    'num_layers': 2,\n",
    "}\n",
    "config['normal_model'] = normal_model_dict\n",
    "optimizer_dict = {\n",
    "    'learning_rate': 0.01,\n",
    "    'weight_decay': 5e-4\n",
    "}\n",
    "config['optimizer'] = optimizer_dict\n"
   ]
  },
  {
   "cell_type": "code",
   "execution_count": 5,
   "metadata": {},
   "outputs": [
    {
     "name": "stdout",
     "output_type": "stream",
     "text": [
      "{'dataset': {'dataset_name': 'Cora', 'noise_percent': 0.7},\n",
      " 'iterative_model': {'dropout': 0.5,\n",
      "                     'hid_dim': 32,\n",
      "                     'num_train_iter': 2,\n",
      "                     'smooth_fac': 0.7},\n",
      " 'normal_model': {'num_layers': 2},\n",
      " 'num_epochs': 200,\n",
      " 'optimizer': {'learning_rate': 0.01, 'weight_decay': 0.0005}}\n"
     ]
    }
   ],
   "source": [
    "import pprint\n",
    "pprint.pprint(config)"
   ]
  },
  {
   "cell_type": "code",
   "execution_count": 15,
   "metadata": {},
   "outputs": [
    {
     "data": {
      "text/html": [
       "Finishing last run (ID:wtbwi17u) before initializing another..."
      ],
      "text/plain": [
       "<IPython.core.display.HTML object>"
      ]
     },
     "metadata": {},
     "output_type": "display_data"
    },
    {
     "data": {
      "text/html": [
       "Waiting for W&B process to finish... <strong style=\"color:green\">(success).</strong>"
      ],
      "text/plain": [
       "<IPython.core.display.HTML object>"
      ]
     },
     "metadata": {},
     "output_type": "display_data"
    },
    {
     "data": {
      "text/html": [
       " View run <strong style=\"color:#cdcd00\">spring-smoke-7</strong> at: <a href='https://wandb.ai/sizhuang/IterativeMethods-GCNexperiments/runs/wtbwi17u' target=\"_blank\">https://wandb.ai/sizhuang/IterativeMethods-GCNexperiments/runs/wtbwi17u</a><br/>Synced 4 W&B file(s), 0 media file(s), 0 artifact file(s) and 0 other file(s)"
      ],
      "text/plain": [
       "<IPython.core.display.HTML object>"
      ]
     },
     "metadata": {},
     "output_type": "display_data"
    },
    {
     "data": {
      "text/html": [
       "Find logs at: <code>./wandb/run-20230621_144747-wtbwi17u/logs</code>"
      ],
      "text/plain": [
       "<IPython.core.display.HTML object>"
      ]
     },
     "metadata": {},
     "output_type": "display_data"
    },
    {
     "data": {
      "text/html": [
       "Successfully finished last run (ID:wtbwi17u). Initializing new run:<br/>"
      ],
      "text/plain": [
       "<IPython.core.display.HTML object>"
      ]
     },
     "metadata": {},
     "output_type": "display_data"
    },
    {
     "data": {
      "text/html": [
       "Tracking run with wandb version 0.15.4"
      ],
      "text/plain": [
       "<IPython.core.display.HTML object>"
      ]
     },
     "metadata": {},
     "output_type": "display_data"
    },
    {
     "data": {
      "text/html": [
       "Run data is saved locally in <code>/Users/sizhuang/Desktop/GitHub Repos/IterativeMethods/GCNexperiments/wandb/run-20230621_144811-2qdxghtz</code>"
      ],
      "text/plain": [
       "<IPython.core.display.HTML object>"
      ]
     },
     "metadata": {},
     "output_type": "display_data"
    },
    {
     "data": {
      "text/html": [
       "Syncing run <strong><a href='https://wandb.ai/sizhuang/IterativeMethods-GCNexperiments/runs/2qdxghtz' target=\"_blank\">visionary-night-8</a></strong> to <a href='https://wandb.ai/sizhuang/IterativeMethods-GCNexperiments' target=\"_blank\">Weights & Biases</a> (<a href='https://wandb.me/run' target=\"_blank\">docs</a>)<br/>"
      ],
      "text/plain": [
       "<IPython.core.display.HTML object>"
      ]
     },
     "metadata": {},
     "output_type": "display_data"
    },
    {
     "data": {
      "text/html": [
       " View project at <a href='https://wandb.ai/sizhuang/IterativeMethods-GCNexperiments' target=\"_blank\">https://wandb.ai/sizhuang/IterativeMethods-GCNexperiments</a>"
      ],
      "text/plain": [
       "<IPython.core.display.HTML object>"
      ]
     },
     "metadata": {},
     "output_type": "display_data"
    },
    {
     "data": {
      "text/html": [
       " View run at <a href='https://wandb.ai/sizhuang/IterativeMethods-GCNexperiments/runs/2qdxghtz' target=\"_blank\">https://wandb.ai/sizhuang/IterativeMethods-GCNexperiments/runs/2qdxghtz</a>"
      ],
      "text/plain": [
       "<IPython.core.display.HTML object>"
      ]
     },
     "metadata": {},
     "output_type": "display_data"
    },
    {
     "name": "stdout",
     "output_type": "stream",
     "text": [
      "{}\n"
     ]
    },
    {
     "data": {
      "text/html": [
       "Waiting for W&B process to finish... <strong style=\"color:red\">(failed 1).</strong> Press Control-C to abort syncing."
      ],
      "text/plain": [
       "<IPython.core.display.HTML object>"
      ]
     },
     "metadata": {},
     "output_type": "display_data"
    },
    {
     "data": {
      "text/html": [
       " View run <strong style=\"color:#cdcd00\">visionary-night-8</strong> at: <a href='https://wandb.ai/sizhuang/IterativeMethods-GCNexperiments/runs/2qdxghtz' target=\"_blank\">https://wandb.ai/sizhuang/IterativeMethods-GCNexperiments/runs/2qdxghtz</a><br/>Synced 5 W&B file(s), 0 media file(s), 0 artifact file(s) and 0 other file(s)"
      ],
      "text/plain": [
       "<IPython.core.display.HTML object>"
      ]
     },
     "metadata": {},
     "output_type": "display_data"
    },
    {
     "data": {
      "text/html": [
       "Find logs at: <code>./wandb/run-20230621_144811-2qdxghtz/logs</code>"
      ],
      "text/plain": [
       "<IPython.core.display.HTML object>"
      ]
     },
     "metadata": {},
     "output_type": "display_data"
    },
    {
     "ename": "AttributeError",
     "evalue": "<class 'wandb.sdk.wandb_config.Config'> object has no attribute 'dataset_name'",
     "output_type": "error",
     "traceback": [
      "\u001b[0;31m---------------------------------------------------------------------------\u001b[0m",
      "\u001b[0;31mKeyError\u001b[0m                                  Traceback (most recent call last)",
      "File \u001b[0;32m~/Desktop/GitHub Repos/IterativeMethods/iterENV/lib/python3.8/site-packages/wandb/sdk/wandb_config.py:163\u001b[0m, in \u001b[0;36mConfig.__getattr__\u001b[0;34m(self, key)\u001b[0m\n\u001b[1;32m    162\u001b[0m \u001b[39mtry\u001b[39;00m:\n\u001b[0;32m--> 163\u001b[0m     \u001b[39mreturn\u001b[39;00m \u001b[39mself\u001b[39;49m\u001b[39m.\u001b[39;49m\u001b[39m__getitem__\u001b[39;49m(key)\n\u001b[1;32m    164\u001b[0m \u001b[39mexcept\u001b[39;00m \u001b[39mKeyError\u001b[39;00m \u001b[39mas\u001b[39;00m ke:\n",
      "File \u001b[0;32m~/Desktop/GitHub Repos/IterativeMethods/iterENV/lib/python3.8/site-packages/wandb/sdk/wandb_config.py:131\u001b[0m, in \u001b[0;36mConfig.__getitem__\u001b[0;34m(self, key)\u001b[0m\n\u001b[1;32m    130\u001b[0m \u001b[39mdef\u001b[39;00m \u001b[39m__getitem__\u001b[39m(\u001b[39mself\u001b[39m, key):\n\u001b[0;32m--> 131\u001b[0m     \u001b[39mreturn\u001b[39;00m \u001b[39mself\u001b[39;49m\u001b[39m.\u001b[39;49m_items[key]\n",
      "\u001b[0;31mKeyError\u001b[0m: 'dataset_name'",
      "\nThe above exception was the direct cause of the following exception:\n",
      "\u001b[0;31mAttributeError\u001b[0m                            Traceback (most recent call last)",
      "Cell \u001b[0;32mIn[15], line 1\u001b[0m\n\u001b[0;32m----> 1\u001b[0m run_exp(config)\n",
      "Cell \u001b[0;32mIn[14], line 6\u001b[0m, in \u001b[0;36mrun_exp\u001b[0;34m(config)\u001b[0m\n\u001b[1;32m      3\u001b[0m config \u001b[39m=\u001b[39m wandb\u001b[39m.\u001b[39mconfig\n\u001b[1;32m      4\u001b[0m \u001b[39mprint\u001b[39m(config)\n\u001b[0;32m----> 6\u001b[0m data, num_features, num_classes \u001b[39m=\u001b[39m make_data(config)\n\u001b[1;32m      7\u001b[0m iterative_model, normal_model \u001b[39m=\u001b[39m make_models(config\u001b[39m.\u001b[39miterative_model, \n\u001b[1;32m      8\u001b[0m                                        input_dim\u001b[39m=\u001b[39mnum_features, \n\u001b[1;32m      9\u001b[0m                                        output_dim\u001b[39m=\u001b[39mnum_classes)\n\u001b[1;32m     10\u001b[0m iterative_model_param \u001b[39m=\u001b[39m count_parameters(iterative_model)\n",
      "Cell \u001b[0;32mIn[2], line 15\u001b[0m, in \u001b[0;36mmake_data\u001b[0;34m(config)\u001b[0m\n\u001b[1;32m     13\u001b[0m \u001b[39mdef\u001b[39;00m \u001b[39mmake_data\u001b[39m(config):\n\u001b[1;32m     14\u001b[0m     dataset \u001b[39m=\u001b[39m Planetoid(root\u001b[39m=\u001b[39m\u001b[39m'\u001b[39m\u001b[39mdata/Planetoid\u001b[39m\u001b[39m'\u001b[39m, \n\u001b[0;32m---> 15\u001b[0m                         name\u001b[39m=\u001b[39mconfig\u001b[39m.\u001b[39;49mdataset_name, \n\u001b[1;32m     16\u001b[0m                         transform\u001b[39m=\u001b[39mNormalizeFeatures())\n\u001b[1;32m     17\u001b[0m     data \u001b[39m=\u001b[39m dataset[\u001b[39m0\u001b[39m]\n\u001b[1;32m     18\u001b[0m     data \u001b[39m=\u001b[39m add_noise(data, percent\u001b[39m=\u001b[39mconfig\u001b[39m.\u001b[39mnoise_percent)\n",
      "File \u001b[0;32m~/Desktop/GitHub Repos/IterativeMethods/iterENV/lib/python3.8/site-packages/wandb/sdk/wandb_config.py:165\u001b[0m, in \u001b[0;36mConfig.__getattr__\u001b[0;34m(self, key)\u001b[0m\n\u001b[1;32m    163\u001b[0m     \u001b[39mreturn\u001b[39;00m \u001b[39mself\u001b[39m\u001b[39m.\u001b[39m\u001b[39m__getitem__\u001b[39m(key)\n\u001b[1;32m    164\u001b[0m \u001b[39mexcept\u001b[39;00m \u001b[39mKeyError\u001b[39;00m \u001b[39mas\u001b[39;00m ke:\n\u001b[0;32m--> 165\u001b[0m     \u001b[39mraise\u001b[39;00m \u001b[39mAttributeError\u001b[39;00m(\n\u001b[1;32m    166\u001b[0m         \u001b[39mf\u001b[39m\u001b[39m\"\u001b[39m\u001b[39m{\u001b[39;00m\u001b[39mself\u001b[39m\u001b[39m.\u001b[39m\u001b[39m__class__\u001b[39m\u001b[39m!r}\u001b[39;00m\u001b[39m object has no attribute \u001b[39m\u001b[39m{\u001b[39;00mkey\u001b[39m!r}\u001b[39;00m\u001b[39m\"\u001b[39m\n\u001b[1;32m    167\u001b[0m     ) \u001b[39mfrom\u001b[39;00m \u001b[39mke\u001b[39;00m\n",
      "\u001b[0;31mAttributeError\u001b[0m: <class 'wandb.sdk.wandb_config.Config'> object has no attribute 'dataset_name'"
     ]
    }
   ],
   "source": [
    "run_exp(config)"
   ]
  },
  {
   "cell_type": "code",
   "execution_count": 20,
   "metadata": {},
   "outputs": [
    {
     "data": {
      "text/html": [
       "Tracking run with wandb version 0.15.4"
      ],
      "text/plain": [
       "<IPython.core.display.HTML object>"
      ]
     },
     "metadata": {},
     "output_type": "display_data"
    },
    {
     "data": {
      "text/html": [
       "Run data is saved locally in <code>/Users/sizhuang/Desktop/GitHub Repos/IterativeMethods/GCNexperiments/wandb/run-20230621_145000-aypvpie0</code>"
      ],
      "text/plain": [
       "<IPython.core.display.HTML object>"
      ]
     },
     "metadata": {},
     "output_type": "display_data"
    },
    {
     "data": {
      "text/html": [
       "Syncing run <strong><a href='https://wandb.ai/sizhuang/IterativeMethods-GCNexperiments/runs/aypvpie0' target=\"_blank\">fancy-night-11</a></strong> to <a href='https://wandb.ai/sizhuang/IterativeMethods-GCNexperiments' target=\"_blank\">Weights & Biases</a> (<a href='https://wandb.me/run' target=\"_blank\">docs</a>)<br/>"
      ],
      "text/plain": [
       "<IPython.core.display.HTML object>"
      ]
     },
     "metadata": {},
     "output_type": "display_data"
    },
    {
     "data": {
      "text/html": [
       " View project at <a href='https://wandb.ai/sizhuang/IterativeMethods-GCNexperiments' target=\"_blank\">https://wandb.ai/sizhuang/IterativeMethods-GCNexperiments</a>"
      ],
      "text/plain": [
       "<IPython.core.display.HTML object>"
      ]
     },
     "metadata": {},
     "output_type": "display_data"
    },
    {
     "data": {
      "text/html": [
       " View run at <a href='https://wandb.ai/sizhuang/IterativeMethods-GCNexperiments/runs/aypvpie0' target=\"_blank\">https://wandb.ai/sizhuang/IterativeMethods-GCNexperiments/runs/aypvpie0</a>"
      ],
      "text/plain": [
       "<IPython.core.display.HTML object>"
      ]
     },
     "metadata": {},
     "output_type": "display_data"
    },
    {
     "data": {
      "text/html": [
       "Waiting for W&B process to finish... <strong style=\"color:red\">(failed 1).</strong> Press Control-C to abort syncing."
      ],
      "text/plain": [
       "<IPython.core.display.HTML object>"
      ]
     },
     "metadata": {},
     "output_type": "display_data"
    },
    {
     "data": {
      "text/html": [
       " View run <strong style=\"color:#cdcd00\">fancy-night-11</strong> at: <a href='https://wandb.ai/sizhuang/IterativeMethods-GCNexperiments/runs/aypvpie0' target=\"_blank\">https://wandb.ai/sizhuang/IterativeMethods-GCNexperiments/runs/aypvpie0</a><br/>Synced 4 W&B file(s), 0 media file(s), 0 artifact file(s) and 0 other file(s)"
      ],
      "text/plain": [
       "<IPython.core.display.HTML object>"
      ]
     },
     "metadata": {},
     "output_type": "display_data"
    },
    {
     "data": {
      "text/html": [
       "Find logs at: <code>./wandb/run-20230621_145000-aypvpie0/logs</code>"
      ],
      "text/plain": [
       "<IPython.core.display.HTML object>"
      ]
     },
     "metadata": {},
     "output_type": "display_data"
    },
    {
     "ename": "AttributeError",
     "evalue": "<class 'wandb.sdk.wandb_config.Config'> object has no attribute 'dataset'",
     "output_type": "error",
     "traceback": [
      "\u001b[0;31m---------------------------------------------------------------------------\u001b[0m",
      "\u001b[0;31mKeyError\u001b[0m                                  Traceback (most recent call last)",
      "File \u001b[0;32m~/Desktop/GitHub Repos/IterativeMethods/iterENV/lib/python3.8/site-packages/wandb/sdk/wandb_config.py:163\u001b[0m, in \u001b[0;36mConfig.__getattr__\u001b[0;34m(self, key)\u001b[0m\n\u001b[1;32m    162\u001b[0m \u001b[39mtry\u001b[39;00m:\n\u001b[0;32m--> 163\u001b[0m     \u001b[39mreturn\u001b[39;00m \u001b[39mself\u001b[39;49m\u001b[39m.\u001b[39;49m\u001b[39m__getitem__\u001b[39;49m(key)\n\u001b[1;32m    164\u001b[0m \u001b[39mexcept\u001b[39;00m \u001b[39mKeyError\u001b[39;00m \u001b[39mas\u001b[39;00m ke:\n",
      "File \u001b[0;32m~/Desktop/GitHub Repos/IterativeMethods/iterENV/lib/python3.8/site-packages/wandb/sdk/wandb_config.py:131\u001b[0m, in \u001b[0;36mConfig.__getitem__\u001b[0;34m(self, key)\u001b[0m\n\u001b[1;32m    130\u001b[0m \u001b[39mdef\u001b[39;00m \u001b[39m__getitem__\u001b[39m(\u001b[39mself\u001b[39m, key):\n\u001b[0;32m--> 131\u001b[0m     \u001b[39mreturn\u001b[39;00m \u001b[39mself\u001b[39;49m\u001b[39m.\u001b[39;49m_items[key]\n",
      "\u001b[0;31mKeyError\u001b[0m: 'dataset'",
      "\nThe above exception was the direct cause of the following exception:\n",
      "\u001b[0;31mAttributeError\u001b[0m                            Traceback (most recent call last)",
      "Cell \u001b[0;32mIn[20], line 3\u001b[0m\n\u001b[1;32m      1\u001b[0m \u001b[39mwith\u001b[39;00m wandb\u001b[39m.\u001b[39minit(config \u001b[39m=\u001b[39m config):\n\u001b[1;32m      2\u001b[0m     config \u001b[39m=\u001b[39m wandb\u001b[39m.\u001b[39mconfig\n\u001b[0;32m----> 3\u001b[0m     \u001b[39mprint\u001b[39m(config\u001b[39m.\u001b[39;49mdataset)\n",
      "File \u001b[0;32m~/Desktop/GitHub Repos/IterativeMethods/iterENV/lib/python3.8/site-packages/wandb/sdk/wandb_config.py:165\u001b[0m, in \u001b[0;36mConfig.__getattr__\u001b[0;34m(self, key)\u001b[0m\n\u001b[1;32m    163\u001b[0m     \u001b[39mreturn\u001b[39;00m \u001b[39mself\u001b[39m\u001b[39m.\u001b[39m\u001b[39m__getitem__\u001b[39m(key)\n\u001b[1;32m    164\u001b[0m \u001b[39mexcept\u001b[39;00m \u001b[39mKeyError\u001b[39;00m \u001b[39mas\u001b[39;00m ke:\n\u001b[0;32m--> 165\u001b[0m     \u001b[39mraise\u001b[39;00m \u001b[39mAttributeError\u001b[39;00m(\n\u001b[1;32m    166\u001b[0m         \u001b[39mf\u001b[39m\u001b[39m\"\u001b[39m\u001b[39m{\u001b[39;00m\u001b[39mself\u001b[39m\u001b[39m.\u001b[39m\u001b[39m__class__\u001b[39m\u001b[39m!r}\u001b[39;00m\u001b[39m object has no attribute \u001b[39m\u001b[39m{\u001b[39;00mkey\u001b[39m!r}\u001b[39;00m\u001b[39m\"\u001b[39m\n\u001b[1;32m    167\u001b[0m     ) \u001b[39mfrom\u001b[39;00m \u001b[39mke\u001b[39;00m\n",
      "\u001b[0;31mAttributeError\u001b[0m: <class 'wandb.sdk.wandb_config.Config'> object has no attribute 'dataset'"
     ]
    }
   ],
   "source": [
    "with wandb.init(config = config):\n",
    "    config = wandb.config\n",
    "    print(config.dataset)"
   ]
  },
  {
   "cell_type": "code",
   "execution_count": 27,
   "metadata": {},
   "outputs": [
    {
     "data": {
      "text/html": [
       "Finishing last run (ID:lte4oxg5) before initializing another..."
      ],
      "text/plain": [
       "<IPython.core.display.HTML object>"
      ]
     },
     "metadata": {},
     "output_type": "display_data"
    },
    {
     "data": {
      "text/html": [
       "Waiting for W&B process to finish... <strong style=\"color:green\">(success).</strong>"
      ],
      "text/plain": [
       "<IPython.core.display.HTML object>"
      ]
     },
     "metadata": {},
     "output_type": "display_data"
    },
    {
     "data": {
      "text/html": [
       " View run <strong style=\"color:#cdcd00\">atomic-wind-12</strong> at: <a href='https://wandb.ai/sizhuang/IterativeMethods-GCNexperiments/runs/lte4oxg5' target=\"_blank\">https://wandb.ai/sizhuang/IterativeMethods-GCNexperiments/runs/lte4oxg5</a><br/>Synced 4 W&B file(s), 0 media file(s), 0 artifact file(s) and 0 other file(s)"
      ],
      "text/plain": [
       "<IPython.core.display.HTML object>"
      ]
     },
     "metadata": {},
     "output_type": "display_data"
    },
    {
     "data": {
      "text/html": [
       "Find logs at: <code>./wandb/run-20230621_145206-lte4oxg5/logs</code>"
      ],
      "text/plain": [
       "<IPython.core.display.HTML object>"
      ]
     },
     "metadata": {},
     "output_type": "display_data"
    },
    {
     "data": {
      "text/html": [
       "Successfully finished last run (ID:lte4oxg5). Initializing new run:<br/>"
      ],
      "text/plain": [
       "<IPython.core.display.HTML object>"
      ]
     },
     "metadata": {},
     "output_type": "display_data"
    },
    {
     "data": {
      "text/html": [
       "Tracking run with wandb version 0.15.4"
      ],
      "text/plain": [
       "<IPython.core.display.HTML object>"
      ]
     },
     "metadata": {},
     "output_type": "display_data"
    },
    {
     "data": {
      "text/html": [
       "Run data is saved locally in <code>/Users/sizhuang/Desktop/GitHub Repos/IterativeMethods/GCNexperiments/wandb/run-20230621_145222-qvy8izyp</code>"
      ],
      "text/plain": [
       "<IPython.core.display.HTML object>"
      ]
     },
     "metadata": {},
     "output_type": "display_data"
    },
    {
     "data": {
      "text/html": [
       "Syncing run <strong><a href='https://wandb.ai/sizhuang/IterativeMethods-GCNexperiments/runs/qvy8izyp' target=\"_blank\">neat-microwave-13</a></strong> to <a href='https://wandb.ai/sizhuang/IterativeMethods-GCNexperiments' target=\"_blank\">Weights & Biases</a> (<a href='https://wandb.me/run' target=\"_blank\">docs</a>)<br/>"
      ],
      "text/plain": [
       "<IPython.core.display.HTML object>"
      ]
     },
     "metadata": {},
     "output_type": "display_data"
    },
    {
     "data": {
      "text/html": [
       " View project at <a href='https://wandb.ai/sizhuang/IterativeMethods-GCNexperiments' target=\"_blank\">https://wandb.ai/sizhuang/IterativeMethods-GCNexperiments</a>"
      ],
      "text/plain": [
       "<IPython.core.display.HTML object>"
      ]
     },
     "metadata": {},
     "output_type": "display_data"
    },
    {
     "data": {
      "text/html": [
       " View run at <a href='https://wandb.ai/sizhuang/IterativeMethods-GCNexperiments/runs/qvy8izyp' target=\"_blank\">https://wandb.ai/sizhuang/IterativeMethods-GCNexperiments/runs/qvy8izyp</a>"
      ],
      "text/plain": [
       "<IPython.core.display.HTML object>"
      ]
     },
     "metadata": {},
     "output_type": "display_data"
    },
    {
     "ename": "KeyError",
     "evalue": "'dataset_name'",
     "output_type": "error",
     "traceback": [
      "\u001b[0;31m---------------------------------------------------------------------------\u001b[0m",
      "\u001b[0;31mKeyError\u001b[0m                                  Traceback (most recent call last)",
      "Cell \u001b[0;32mIn[27], line 2\u001b[0m\n\u001b[1;32m      1\u001b[0m wandb\u001b[39m.\u001b[39minit()\n\u001b[0;32m----> 2\u001b[0m wandb\u001b[39m.\u001b[39;49mconfig[\u001b[39m'\u001b[39;49m\u001b[39mdataset_name\u001b[39;49m\u001b[39m'\u001b[39;49m]\n",
      "File \u001b[0;32m~/Desktop/GitHub Repos/IterativeMethods/iterENV/lib/python3.8/site-packages/wandb/sdk/wandb_config.py:131\u001b[0m, in \u001b[0;36mConfig.__getitem__\u001b[0;34m(self, key)\u001b[0m\n\u001b[1;32m    130\u001b[0m \u001b[39mdef\u001b[39;00m \u001b[39m__getitem__\u001b[39m(\u001b[39mself\u001b[39m, key):\n\u001b[0;32m--> 131\u001b[0m     \u001b[39mreturn\u001b[39;00m \u001b[39mself\u001b[39;49m\u001b[39m.\u001b[39;49m_items[key]\n",
      "\u001b[0;31mKeyError\u001b[0m: 'dataset_name'"
     ]
    }
   ],
   "source": [
    "\n"
   ]
  }
 ],
 "metadata": {
  "kernelspec": {
   "display_name": "iterENV",
   "language": "python",
   "name": "python3"
  },
  "language_info": {
   "codemirror_mode": {
    "name": "ipython",
    "version": 3
   },
   "file_extension": ".py",
   "mimetype": "text/x-python",
   "name": "python",
   "nbconvert_exporter": "python",
   "pygments_lexer": "ipython3",
   "version": "3.8.2"
  },
  "orig_nbformat": 4
 },
 "nbformat": 4,
 "nbformat_minor": 2
}
