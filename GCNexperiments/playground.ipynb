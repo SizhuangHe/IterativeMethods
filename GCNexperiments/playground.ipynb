{
 "cells": [
  {
   "cell_type": "code",
   "execution_count": 1,
   "metadata": {},
   "outputs": [],
   "source": [
    "from __future__ import division\n",
    "from __future__ import print_function\n",
    "\n",
    "import time\n",
    "import numpy as np\n",
    "\n",
    "import torch\n",
    "from torch import nn\n",
    "import torch.nn.functional as F\n",
    "import torch.optim as optim\n",
    "import torch_geometric\n",
    "\n",
    "from  utils import run_experiment\n",
    "from models import GCN, iterativeGCN\n",
    "from torch_geometric.datasets import Planetoid"
   ]
  },
  {
   "cell_type": "code",
   "execution_count": 2,
   "metadata": {},
   "outputs": [],
   "source": [
    "from torch_geometric.transforms import NormalizeFeatures\n",
    "dataset = Planetoid(root='data/Planetoid', name='Cora', transform=NormalizeFeatures())\n",
    "data = dataset[0]"
   ]
  },
  {
   "cell_type": "code",
   "execution_count": 3,
   "metadata": {},
   "outputs": [],
   "source": [
    "model = iterativeGCN(input_dim=dataset.num_features,\n",
    "                                        output_dim=dataset.num_classes,\n",
    "                                        hidden_dim=16,\n",
    "                                        num_train_iter=2,\n",
    "                                        smooth_fac=0.7,\n",
    "                                        schedule=np.full(5, 0.2),\n",
    "                                        dropout=0.5)"
   ]
  },
  {
   "attachments": {},
   "cell_type": "markdown",
   "metadata": {},
   "source": [
    "types of schedule:\n",
    "- Uniform\n",
    "- Linear\n",
    "- Quadratic\n",
    "- Sort of like binomial theorem"
   ]
  },
  {
   "cell_type": "code",
   "execution_count": 4,
   "metadata": {},
   "outputs": [],
   "source": [
    "from utils import accuracy\n",
    "lr = 0.01\n",
    "weight_decay = 5e-4\n",
    "def run_experiment(data, lr, weight_decay, model_name, run, num_epochs=200, plot_fig=False):\n",
    "    loss_TRAIN = []\n",
    "    acc_TRAIN = []\n",
    "    loss_VAL = []\n",
    "    acc_VAL = []\n",
    "\n",
    "    optimizer = optim.Adam(model.parameters(),\n",
    "                       lr=lr, weight_decay=weight_decay)\n",
    "    total_start = time.time()\n",
    "    for epoch in range(num_epochs):\n",
    "        t = time.time()\n",
    "    \n",
    "        model.train()\n",
    "\n",
    "        output = model(data.x, data.edge_index)   \n",
    "        loss_train = F.nll_loss(output[data.train_mask], data.y[data.train_mask])\n",
    "        pred = output[data.train_mask].argmax(dim=1)\n",
    "        acc_train = accuracy(pred, data.y[data.train_mask])\n",
    "        optimizer.zero_grad()\n",
    "        loss_train.backward()\n",
    "        optimizer.step()\n",
    "        \n",
    "        # print('Epoch: {:04d}'.format(epoch+1),\n",
    "        #     'loss_train: {:.4f}'.format(loss_train.item()),\n",
    "        #     'acc_train: {:.4f}'.format(acc_train),\n",
    "        #     'loss_val: {:.4f}'.format(loss_val.item()),\n",
    "        #     'acc_val: {:.4f}'.format(acc_val),\n",
    "        #     'time: {:.4f}s'.format(time.time() - t))\n",
    "\n",
    "    total_end = time.time()\n",
    "    training_time = total_end - total_start\n",
    "    # print(\"Optimization Finished!\")\n",
    "    # print(\"Total time elapsed: {:.4f}s\".format(training_time))\n",
    "\n",
    "run_experiment(data=data,\n",
    "               lr=lr,\n",
    "               weight_decay=weight_decay,\n",
    "               model_name=\"lala\",\n",
    "               run=1)"
   ]
  },
  {
   "cell_type": "code",
   "execution_count": 5,
   "metadata": {},
   "outputs": [],
   "source": [
    "model.eval()\n",
    "start_time = time.time()\n",
    "output = model(data.x, data.edge_index)\n",
    "end_time = time.time()\n",
    "\n",
    "loss_test = F.nll_loss(output[data.test_mask], data.y[data.test_mask])\n",
    "pred = output[data.test_mask].argmax(dim=1)\n",
    "acc_test = accuracy(pred, data.y[data.test_mask])\n",
    "    "
   ]
  },
  {
   "cell_type": "code",
   "execution_count": 6,
   "metadata": {},
   "outputs": [
    {
     "data": {
      "text/plain": [
       "0.392"
      ]
     },
     "execution_count": 6,
     "metadata": {},
     "output_type": "execute_result"
    }
   ],
   "source": [
    "acc_test"
   ]
  },
  {
   "attachments": {},
   "cell_type": "markdown",
   "metadata": {},
   "source": [
    "Worked???"
   ]
  },
  {
   "cell_type": "code",
   "execution_count": 15,
   "metadata": {},
   "outputs": [
    {
     "name": "stdout",
     "output_type": "stream",
     "text": [
      "tensor([[ 0.5932,  0.2455,  0.0502],\n",
      "        [ 0.7339, -0.1077, -0.1212],\n",
      "        [ 0.6121,  1.1545,  0.0539]], grad_fn=<AddmmBackward0>)\n",
      "x:    tensor([[-0.3472, -1.4112],\n",
      "        [-0.7772, -0.1927],\n",
      "        [ 1.0629, -0.0587]])\n",
      "xx:   tensor([[0.5932, 0.2455, 0.0502],\n",
      "        [0.7339, 0.0000, 0.0000],\n",
      "        [0.6121, 1.1545, 0.0539]], grad_fn=<ReluBackward0>)\n",
      "xxx:  tensor([[0.0000, 0.0000, 0.0000],\n",
      "        [1.4678, 0.0000, 0.0000],\n",
      "        [0.0000, 2.3089, 0.0000]], grad_fn=<MulBackward0>)\n"
     ]
    }
   ],
   "source": [
    "import torch.nn.functional as F\n",
    "import torch\n",
    "x = torch.randn((3,2))\n",
    "lin = nn.Linear(2,3)\n",
    "print(lin(x))\n",
    "xx = F.relu(lin(x))\n",
    "xxx = F.dropout(xx, p=0.5)\n",
    "print(\"x:   \", x)\n",
    "print(\"xx:  \", xx)\n",
    "print(\"xxx: \", xxx)"
   ]
  },
  {
   "cell_type": "code",
   "execution_count": 18,
   "metadata": {},
   "outputs": [
    {
     "name": "stdout",
     "output_type": "stream",
     "text": [
      "tensor([[-0.1662,  0.2268],\n",
      "        [-0.5206, -1.1628]])\n",
      "tensor([[-0.2078,  0.2835],\n",
      "        [-0.6508, -1.4535]])\n"
     ]
    }
   ],
   "source": [
    "m = nn.Dropout(p=0.2)\n",
    "input = torch.randn(2,2)\n",
    "output = m(input)\n",
    "print(input)\n",
    "print(output)"
   ]
  },
  {
   "cell_type": "code",
   "execution_count": 26,
   "metadata": {},
   "outputs": [
    {
     "data": {
      "text/plain": [
       "tensor([0.7311, 0.8808, 0.9526, 0.9820, 0.9933, 0.9975, 0.9991, 0.9997, 0.9999])"
      ]
     },
     "execution_count": 26,
     "metadata": {},
     "output_type": "execute_result"
    }
   ],
   "source": [
    "import numpy as np\n",
    "ll = torch.Tensor(np.arange(1, 10))\n",
    "ll = F.sigmoid(ll)\n",
    "ll"
   ]
  }
 ],
 "metadata": {
  "kernelspec": {
   "display_name": "iterENV",
   "language": "python",
   "name": "python3"
  },
  "language_info": {
   "codemirror_mode": {
    "name": "ipython",
    "version": 3
   },
   "file_extension": ".py",
   "mimetype": "text/x-python",
   "name": "python",
   "nbconvert_exporter": "python",
   "pygments_lexer": "ipython3",
   "version": "3.9.17"
  },
  "orig_nbformat": 4
 },
 "nbformat": 4,
 "nbformat_minor": 2
}
