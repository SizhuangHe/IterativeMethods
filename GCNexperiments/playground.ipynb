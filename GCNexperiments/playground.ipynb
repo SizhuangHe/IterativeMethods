{
 "cells": [
  {
   "cell_type": "code",
   "execution_count": 27,
   "metadata": {},
   "outputs": [],
   "source": [
    "from __future__ import division\n",
    "from __future__ import print_function\n",
    "\n",
    "import time\n",
    "import numpy as np\n",
    "import math\n",
    "\n",
    "import torch\n",
    "from torch import nn\n",
    "import torch.nn.functional as F\n",
    "import torch.optim as optim\n",
    "import torch_geometric\n",
    "\n",
    "from  utils import accuracy\n",
    "from models import iterativeGCN, MLP_GCN, normalNN, iterativeNN, GCN\n",
    "from torch_geometric.datasets import Planetoid\n",
    "from torch_geometric.transforms import NormalizeFeatures"
   ]
  },
  {
   "cell_type": "code",
   "execution_count": 28,
   "metadata": {},
   "outputs": [],
   "source": [
    "dataset = Planetoid(root='data/Planetoid', \n",
    "                        name=\"Cora\", \n",
    "                        transform=NormalizeFeatures())\n",
    "data = dataset[0]"
   ]
  },
  {
   "cell_type": "code",
   "execution_count": 30,
   "metadata": {},
   "outputs": [
    {
     "data": {
      "text/plain": [
       "tensor(49216)"
      ]
     },
     "execution_count": 30,
     "metadata": {},
     "output_type": "execute_result"
    }
   ],
   "source": [
    "torch.count_nonzero(data.x)"
   ]
  },
  {
   "cell_type": "code",
   "execution_count": 33,
   "metadata": {},
   "outputs": [
    {
     "data": {
      "text/plain": [
       "tensor(3880564.)"
      ]
     },
     "execution_count": 33,
     "metadata": {},
     "output_type": "execute_result"
    }
   ],
   "source": [
    "torch.prod(torch.Tensor([data.x.shape]))"
   ]
  },
  {
   "cell_type": "code",
   "execution_count": 8,
   "metadata": {},
   "outputs": [],
   "source": [
    "hid_dim = 16\n",
    "num_iter_layers = 5\n",
    "dropout = 0.5\n",
    "smooth_fac= 0.7"
   ]
  },
  {
   "cell_type": "code",
   "execution_count": 9,
   "metadata": {},
   "outputs": [],
   "source": [
    "mlp_gcn = MLP_GCN(input_dim=dataset.num_features,\n",
    "                  output_dim=dataset.num_classes,\n",
    "                  hidden_dim=hid_dim,\n",
    "                  num_layers=num_iter_layers,\n",
    "                  dropout=dropout,\n",
    "                  xavier_init=True)\n",
    "norm_nn = normalNN(input_dim=dataset.num_features,\n",
    "                  output_dim=dataset.num_classes,\n",
    "                  hidden_dim=hid_dim,\n",
    "                  num_layers=num_iter_layers,\n",
    "                  dropout=dropout,\n",
    "                  xavier_init=True)\n",
    "iter_gcn = iterativeGCN(input_dim=dataset.num_features,\n",
    "                  output_dim=dataset.num_classes,\n",
    "                  hidden_dim=hid_dim,\n",
    "                  num_train_iter=num_iter_layers,\n",
    "                  smooth_fac=smooth_fac,\n",
    "                  dropout=dropout,\n",
    "                  xavier_init=True)\n",
    "iter_nn = iterativeNN(input_dim=dataset.num_features,\n",
    "                  output_dim=dataset.num_classes,\n",
    "                  hidden_dim=hid_dim,\n",
    "                  num_train_iter=num_iter_layers,\n",
    "                  smooth_fac=smooth_fac,\n",
    "                  dropout=dropout,\n",
    "                  xavier_init=True)\n",
    "iter_nn = iterativeNN(input_dim=dataset.num_features,\n",
    "                  output_dim=dataset.num_classes,\n",
    "                  hidden_dim=hid_dim,\n",
    "                  num_train_iter=num_iter_layers,\n",
    "                  smooth_fac=smooth_fac,\n",
    "                  dropout=dropout,\n",
    "                  xavier_init=True)\n",
    "gcn = GCN(input_dim=dataset.num_features,\n",
    "                  output_dim=dataset.num_classes,\n",
    "                  hidden_dim=hid_dim,\n",
    "                  num_layers=num_iter_layers,\n",
    "                  dropout=dropout)"
   ]
  },
  {
   "cell_type": "code",
   "execution_count": 37,
   "metadata": {},
   "outputs": [],
   "source": [
    "def count_parameters(model):\n",
    "    return sum(p.numel() for p in model.parameters() if p.requires_grad)"
   ]
  },
  {
   "cell_type": "code",
   "execution_count": 36,
   "metadata": {},
   "outputs": [],
   "source": [
    "gcn = GCN(input_dim=dataset.num_features,\n",
    "                  output_dim=dataset.num_classes,\n",
    "                  hidden_dim=32,\n",
    "                  num_layers=3,\n",
    "                  dropout=0.5)"
   ]
  },
  {
   "cell_type": "code",
   "execution_count": 38,
   "metadata": {},
   "outputs": [
    {
     "name": "stdout",
     "output_type": "stream",
     "text": [
      "usual gcn:  47175\n"
     ]
    }
   ],
   "source": [
    "print(\"usual gcn: \", count_parameters(gcn))"
   ]
  },
  {
   "cell_type": "code",
   "execution_count": 10,
   "metadata": {},
   "outputs": [
    {
     "name": "stdout",
     "output_type": "stream",
     "text": [
      "iterative NN:  23335\n",
      "normal NN:  24423\n",
      "iterative GCN:  23335\n",
      "usual gcn:  23879\n",
      "gcn with mlp:  24423\n"
     ]
    }
   ],
   "source": [
    "print(\"iterative NN: \", count_parameters(iter_nn))\n",
    "print(\"normal NN: \", count_parameters(norm_nn))\n",
    "print(\"iterative GCN: \", count_parameters(iter_gcn))\n",
    "print(\"usual gcn: \", count_parameters(gcn))\n",
    "print(\"gcn with mlp: \", count_parameters(mlp_gcn))"
   ]
  },
  {
   "cell_type": "code",
   "execution_count": 11,
   "metadata": {},
   "outputs": [
    {
     "name": "stdout",
     "output_type": "stream",
     "text": [
      "GCN(\n",
      "  (first_gc): GCNConv(1433, 16)\n",
      "  (gcs): ModuleList(\n",
      "    (0-2): 3 x GCNConv(16, 16)\n",
      "  )\n",
      "  (final_gc): GCNConv(16, 7)\n",
      ")\n"
     ]
    }
   ],
   "source": [
    "print(gcn)"
   ]
  },
  {
   "cell_type": "code",
   "execution_count": 14,
   "metadata": {},
   "outputs": [
    {
     "name": "stdout",
     "output_type": "stream",
     "text": [
      "full schedule:  [0.5 0.5 0.5 0.5 0.5 0.5 0.5 0.5 0.5 0.5]\n",
      "eval schedule:  []\n",
      "eval schedule:  [0.5]\n",
      "eval schedule:  [0.5 0.5]\n",
      "eval schedule:  [0.5 0.5 0.5]\n",
      "eval schedule:  [0.5 0.5 0.5 0.5]\n",
      "eval schedule:  [0.5 0.5 0.5 0.5 0.5]\n",
      "eval schedule:  [0.5 0.5 0.5 0.5 0.5 0.5]\n",
      "eval schedule:  [0.5 0.5 0.5 0.5 0.5 0.5 0.5]\n",
      "eval schedule:  [0.5 0.5 0.5 0.5 0.5 0.5 0.5 0.5]\n",
      "eval schedule:  [0.5 0.5 0.5 0.5 0.5 0.5 0.5 0.5 0.5]\n"
     ]
    }
   ],
   "source": [
    "import numpy as np\n",
    "full_schedule = np.full(10, 0.5)\n",
    "print(\"full schedule: \", full_schedule)\n",
    "for iter in range(len(full_schedule)):\n",
    "    eval_schedule = full_schedule[0:iter]\n",
    "    print(\"eval schedule: \", eval_schedule)"
   ]
  },
  {
   "cell_type": "code",
   "execution_count": 16,
   "metadata": {},
   "outputs": [],
   "source": [
    "aa = F.sigmoid(torch.Tensor(np.linspace(1, 9, 30)))"
   ]
  },
  {
   "cell_type": "code",
   "execution_count": 17,
   "metadata": {},
   "outputs": [
    {
     "data": {
      "text/plain": [
       "30"
      ]
     },
     "execution_count": 17,
     "metadata": {},
     "output_type": "execute_result"
    }
   ],
   "source": [
    "len(aa)"
   ]
  },
  {
   "cell_type": "code",
   "execution_count": 23,
   "metadata": {},
   "outputs": [
    {
     "data": {
      "text/plain": [
       "tensor([0.6225, 0.6363, 0.6499, 0.6633, 0.6764, 0.6892, 0.7018, 0.7141, 0.7260,\n",
       "        0.7377, 0.7490, 0.7600, 0.7706, 0.7809, 0.7909, 0.8006, 0.8099, 0.8188,\n",
       "        0.8275, 0.8358, 0.8438, 0.8514, 0.8588, 0.8658, 0.8726, 0.8790, 0.8852,\n",
       "        0.8911, 0.8967, 0.9021, 0.9072, 0.9121, 0.9167, 0.9211, 0.9253, 0.9293,\n",
       "        0.9331, 0.9367, 0.9402, 0.9434, 0.9465, 0.9494, 0.9522, 0.9548, 0.9573,\n",
       "        0.9597, 0.9619, 0.9640, 0.9660, 0.9679, 0.9697, 0.9714, 0.9730, 0.9745,\n",
       "        0.9760, 0.9773, 0.9786, 0.9798, 0.9809, 0.9820])"
      ]
     },
     "execution_count": 23,
     "metadata": {},
     "output_type": "execute_result"
    }
   ],
   "source": [
    "import numpy as np\n",
    "import torch.nn.functional as F\n",
    "import torch\n",
    "F.sigmoid(torch.Tensor(np.linspace(0.5, 4, 60)))"
   ]
  },
  {
   "cell_type": "code",
   "execution_count": 22,
   "metadata": {},
   "outputs": [
    {
     "data": {
      "text/plain": [
       "tensor([0.6225, 0.6324, 0.6422, 0.6518, 0.6614, 0.6708, 0.6801, 0.6892, 0.6983,\n",
       "        0.7071, 0.7158, 0.7243, 0.7327, 0.7409, 0.7490, 0.7569, 0.7646, 0.7721,\n",
       "        0.7795, 0.7867, 0.7937, 0.8006, 0.8072, 0.8138, 0.8201, 0.8263, 0.8323,\n",
       "        0.8381, 0.8438, 0.8493, 0.8546, 0.8598, 0.8648, 0.8697, 0.8744, 0.8790,\n",
       "        0.8834, 0.8877, 0.8919, 0.8959, 0.8998, 0.9035, 0.9072, 0.9107, 0.9141,\n",
       "        0.9173, 0.9205, 0.9235, 0.9265, 0.9293, 0.9321, 0.9347, 0.9372, 0.9397,\n",
       "        0.9420, 0.9443, 0.9465, 0.9486, 0.9506, 0.9526])"
      ]
     },
     "execution_count": 22,
     "metadata": {},
     "output_type": "execute_result"
    }
   ],
   "source": [
    "F.sigmoid(torch.Tensor(np.linspace(0.5, 3, 60)))"
   ]
  },
  {
   "cell_type": "code",
   "execution_count": 18,
   "metadata": {},
   "outputs": [
    {
     "data": {
      "text/plain": [
       "tensor([0.9526])"
      ]
     },
     "execution_count": 18,
     "metadata": {},
     "output_type": "execute_result"
    }
   ],
   "source": [
    "F.sigmoid(torch.Tensor([3]))"
   ]
  },
  {
   "cell_type": "code",
   "execution_count": 26,
   "metadata": {},
   "outputs": [
    {
     "name": "stdout",
     "output_type": "stream",
     "text": [
      "GCN(\n",
      "  (first_gc): GCNConv(1433, 32)\n",
      "  (gcs): ModuleList(\n",
      "    (0-7): 8 x GCNConv(32, 32)\n",
      "  )\n",
      "  (final_gc): GCNConv(32, 7)\n",
      ")\n"
     ]
    }
   ],
   "source": [
    "from models import GCN\n",
    "gcn = GCN(input_dim=1433,\n",
    "                output_dim=7,\n",
    "                hidden_dim=32,\n",
    "                num_layers=10,\n",
    "                dropout=0.5)\n",
    "print(gcn)"
   ]
  }
 ],
 "metadata": {
  "kernelspec": {
   "display_name": "iterENV",
   "language": "python",
   "name": "python3"
  },
  "language_info": {
   "codemirror_mode": {
    "name": "ipython",
    "version": 3
   },
   "file_extension": ".py",
   "mimetype": "text/x-python",
   "name": "python",
   "nbconvert_exporter": "python",
   "pygments_lexer": "ipython3",
   "version": "3.8.2"
  },
  "orig_nbformat": 4
 },
 "nbformat": 4,
 "nbformat_minor": 2
}
