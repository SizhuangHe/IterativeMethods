{
 "cells": [
  {
   "cell_type": "code",
   "execution_count": 1,
   "metadata": {},
   "outputs": [
    {
     "name": "stderr",
     "output_type": "stream",
     "text": [
      "/Users/sizhuang/Desktop/GitHubRepos/IterativeMethods/iterENV/lib/python3.8/site-packages/urllib3/__init__.py:34: NotOpenSSLWarning: urllib3 v2.0 only supports OpenSSL 1.1.1+, currently the 'ssl' module is compiled with 'LibreSSL 2.8.3'. See: https://github.com/urllib3/urllib3/issues/3020\n",
      "  warnings.warn(\n",
      "Failed to detect the name of this notebook, you can set it manually with the WANDB_NOTEBOOK_NAME environment variable to enable code saving.\n",
      "/Users/sizhuang/Desktop/GitHubRepos/IterativeMethods/iterENV/lib/python3.8/site-packages/urllib3/__init__.py:34: NotOpenSSLWarning: urllib3 v2.0 only supports OpenSSL 1.1.1+, currently the 'ssl' module is compiled with 'LibreSSL 2.8.3'. See: https://github.com/urllib3/urllib3/issues/3020\n",
      "  warnings.warn(\n",
      "\u001b[34m\u001b[1mwandb\u001b[0m: Currently logged in as: \u001b[33msizhuang\u001b[0m. Use \u001b[1m`wandb login --relogin`\u001b[0m to force relogin\n"
     ]
    },
    {
     "data": {
      "text/plain": [
       "True"
      ]
     },
     "execution_count": 1,
     "metadata": {},
     "output_type": "execute_result"
    }
   ],
   "source": [
    "import pandas as pd\n",
    "import matplotlib.pyplot as plt\n",
    "import wandb\n",
    "\n",
    "import numpy as np\n",
    "import seaborn as sns\n",
    "import torch\n",
    "\n",
    "import sys\n",
    "BASE_PATH = globals()['_dh'][0].parent.absolute()\n",
    "sys.path.insert(1, str(BASE_PATH))\n",
    "\n",
    "from torch_geometric.datasets import Planetoid\n",
    "from torch_geometric.transforms import NormalizeFeatures\n",
    "from src.utils.utils import make_Planetoid_data, exp_per_model, make_uniform_schedule\n",
    "from src.utils.metrics import MAD\n",
    "from src.models.iterativeModels import learnable_adaptive_iGCN, iterativeGCN\n",
    "from src.models.GCN import GCN\n",
    "import torch.nn.functional as F\n",
    "wandb.login()"
   ]
  },
  {
   "cell_type": "code",
   "execution_count": 23,
   "metadata": {},
   "outputs": [],
   "source": [
    "hyper = {\n",
    "    'num_epochs': 200,\n",
    "    'dataset_name': \"Cora\",\n",
    "    'noise_percent': 0,\n",
    "    'hid_dim': 32,\n",
    "    'num_iter_layers': 12,\n",
    "    'smooth_fac': 0.8,\n",
    "    'dropout': 0.5,\n",
    "    'learning_rate': 0.01,\n",
    "    'weight_decay': 4e-4\n",
    "} \n",
    "data, num_features, num_classes = make_Planetoid_data(hyper)"
   ]
  },
  {
   "cell_type": "code",
   "execution_count": 24,
   "metadata": {
    "vscode": {
     "languageId": "javascript"
    }
   },
   "outputs": [
    {
     "data": {
      "text/html": [
       "wandb version 0.15.5 is available!  To upgrade, please run:\n",
       " $ pip install wandb --upgrade"
      ],
      "text/plain": [
       "<IPython.core.display.HTML object>"
      ]
     },
     "metadata": {},
     "output_type": "display_data"
    },
    {
     "data": {
      "text/html": [
       "Tracking run with wandb version 0.15.4"
      ],
      "text/plain": [
       "<IPython.core.display.HTML object>"
      ]
     },
     "metadata": {},
     "output_type": "display_data"
    },
    {
     "data": {
      "text/html": [
       "Run data is saved locally in <code>/Users/sizhuang/Desktop/GitHubRepos/IterativeMethods/GCNexperiments/notebooks/wandb/run-20230706_231342-fea69c19</code>"
      ],
      "text/plain": [
       "<IPython.core.display.HTML object>"
      ]
     },
     "metadata": {},
     "output_type": "display_data"
    },
    {
     "data": {
      "text/html": [
       "Syncing run <strong><a href='https://wandb.ai/sizhuang/IterativeMethods/runs/fea69c19' target=\"_blank\">spring-silence-46615</a></strong> to <a href='https://wandb.ai/sizhuang/IterativeMethods' target=\"_blank\">Weights & Biases</a> (<a href='https://wandb.me/run' target=\"_blank\">docs</a>)<br/>"
      ],
      "text/plain": [
       "<IPython.core.display.HTML object>"
      ]
     },
     "metadata": {},
     "output_type": "display_data"
    },
    {
     "data": {
      "text/html": [
       " View project at <a href='https://wandb.ai/sizhuang/IterativeMethods' target=\"_blank\">https://wandb.ai/sizhuang/IterativeMethods</a>"
      ],
      "text/plain": [
       "<IPython.core.display.HTML object>"
      ]
     },
     "metadata": {},
     "output_type": "display_data"
    },
    {
     "data": {
      "text/html": [
       " View run at <a href='https://wandb.ai/sizhuang/IterativeMethods/runs/fea69c19' target=\"_blank\">https://wandb.ai/sizhuang/IterativeMethods/runs/fea69c19</a>"
      ],
      "text/plain": [
       "<IPython.core.display.HTML object>"
      ]
     },
     "metadata": {},
     "output_type": "display_data"
    },
    {
     "name": "stdout",
     "output_type": "stream",
     "text": [
      "0.78588575\n",
      "0.29897282\n",
      "0.8116482\n"
     ]
    },
    {
     "data": {
      "text/html": [
       "Waiting for W&B process to finish... <strong style=\"color:green\">(success).</strong>"
      ],
      "text/plain": [
       "<IPython.core.display.HTML object>"
      ]
     },
     "metadata": {},
     "output_type": "display_data"
    },
    {
     "data": {
      "text/html": [
       "<style>\n",
       "    table.wandb td:nth-child(1) { padding: 0 10px; text-align: left ; width: auto;} td:nth-child(2) {text-align: left ; width: 100%}\n",
       "    .wandb-row { display: flex; flex-direction: row; flex-wrap: wrap; justify-content: flex-start; width: 100% }\n",
       "    .wandb-col { display: flex; flex-direction: column; flex-basis: 100%; flex: 1; padding: 10px; }\n",
       "    </style>\n",
       "<div class=\"wandb-row\"><div class=\"wandb-col\"><h3>Run history:</h3><br/><table class=\"wandb\"><tr><td>epoch</td><td>▁▁▁▁▂▂▂▂▂▃▃▃▃▃▃▄▄▄▄▄▅▅▅▅▅▅▆▆▆▆▆▇▇▇▇▇▇███</td></tr><tr><td>num_param</td><td>▁</td></tr><tr><td>test_accuracy</td><td>▁</td></tr><tr><td>test_loss</td><td>▁</td></tr><tr><td>training_accuracy</td><td>▁▁▁▂▂▃▅▅▆▆▆▆▇▇▇▆▇▇█▇▇██████████▇███████▇</td></tr><tr><td>training_loss</td><td>████▇▆▅▄▃▃▃▃▂▂▂▃▂▂▁▂▂▁▁▁▁▁▁▁▁▁▁▁▁▁▁▁▁▁▁▂</td></tr><tr><td>validation_accuracy</td><td>▁▁▂▃▃▄▅▅▇▇▇██▇████▇▇▇█▇█████████████▇███</td></tr><tr><td>validation_loss</td><td>▅▅▅▄▃▂▂▂▁▁▂▂▂▄▃▃▃▃▄▅▄▅▆▅▅▆▇▇▆▆▆▆▆▆▆██▇██</td></tr></table><br/></div><div class=\"wandb-col\"><h3>Run summary:</h3><br/><table class=\"wandb\"><tr><td>epoch</td><td>200</td></tr><tr><td>num_param</td><td>47175</td></tr><tr><td>test_accuracy</td><td>0.645</td></tr><tr><td>test_loss</td><td>2.842</td></tr><tr><td>training_accuracy</td><td>0.92857</td></tr><tr><td>training_loss</td><td>0.24536</td></tr><tr><td>validation_accuracy</td><td>0.7</td></tr><tr><td>validation_loss</td><td>2.55912</td></tr></table><br/></div></div>"
      ],
      "text/plain": [
       "<IPython.core.display.HTML object>"
      ]
     },
     "metadata": {},
     "output_type": "display_data"
    },
    {
     "data": {
      "text/html": [
       " View run <strong style=\"color:#cdcd00\">spring-silence-46615</strong> at: <a href='https://wandb.ai/sizhuang/IterativeMethods/runs/fea69c19' target=\"_blank\">https://wandb.ai/sizhuang/IterativeMethods/runs/fea69c19</a><br/>Synced 6 W&B file(s), 0 media file(s), 0 artifact file(s) and 0 other file(s)"
      ],
      "text/plain": [
       "<IPython.core.display.HTML object>"
      ]
     },
     "metadata": {},
     "output_type": "display_data"
    },
    {
     "data": {
      "text/html": [
       "Find logs at: <code>./wandb/run-20230706_231342-fea69c19/logs</code>"
      ],
      "text/plain": [
       "<IPython.core.display.HTML object>"
      ]
     },
     "metadata": {},
     "output_type": "display_data"
    }
   ],
   "source": [
    "wandb.init(config=hyper, \n",
    "               job_type=\"over_smoothing\", \n",
    "               project=\"IterativeMethods\", \n",
    "               tags=[\"iterativeGCN\"])\n",
    "config = wandb.config\n",
    "train_schedule = make_uniform_schedule(config.num_iter_layers, config.smooth_fac)\n",
    "data, num_features, num_classes = make_Planetoid_data(config)\n",
    "wandb.log({\n",
    "    'train_schedule': train_schedule\n",
    "})\n",
    "\n",
    "model = iterativeGCN(input_dim=num_features,\n",
    "                                output_dim=num_classes,\n",
    "                                hidden_dim=config.hid_dim,\n",
    "                                train_schedule=train_schedule,\n",
    "                                dropout=config.dropout)\n",
    "exp_per_model(model, data, config)\n",
    "\n",
    "out = model(data.x, data.edge_index)\n",
    "mad1 = MAD(out.detach())\n",
    "mad2  =MAD(F.log_softmax(out, dim=1))\n",
    "mad3 = MAD(F.softmax(out, dim=1))\n",
    "// print(mad1)\n",
    "// print(mad2)\n",
    "print(mad3)\n",
    "\n",
    "wandb.finish()"
   ]
  },
  {
   "cell_type": "code",
   "execution_count": 25,
   "metadata": {},
   "outputs": [
    {
     "data": {
      "text/html": [
       "wandb version 0.15.5 is available!  To upgrade, please run:\n",
       " $ pip install wandb --upgrade"
      ],
      "text/plain": [
       "<IPython.core.display.HTML object>"
      ]
     },
     "metadata": {},
     "output_type": "display_data"
    },
    {
     "data": {
      "text/html": [
       "Tracking run with wandb version 0.15.4"
      ],
      "text/plain": [
       "<IPython.core.display.HTML object>"
      ]
     },
     "metadata": {},
     "output_type": "display_data"
    },
    {
     "data": {
      "text/html": [
       "Run data is saved locally in <code>/Users/sizhuang/Desktop/GitHubRepos/IterativeMethods/GCNexperiments/notebooks/wandb/run-20230706_231416-gyai9nyv</code>"
      ],
      "text/plain": [
       "<IPython.core.display.HTML object>"
      ]
     },
     "metadata": {},
     "output_type": "display_data"
    },
    {
     "data": {
      "text/html": [
       "Syncing run <strong><a href='https://wandb.ai/sizhuang/IterativeMethods/runs/gyai9nyv' target=\"_blank\">spring-brook-46616</a></strong> to <a href='https://wandb.ai/sizhuang/IterativeMethods' target=\"_blank\">Weights & Biases</a> (<a href='https://wandb.me/run' target=\"_blank\">docs</a>)<br/>"
      ],
      "text/plain": [
       "<IPython.core.display.HTML object>"
      ]
     },
     "metadata": {},
     "output_type": "display_data"
    },
    {
     "data": {
      "text/html": [
       " View project at <a href='https://wandb.ai/sizhuang/IterativeMethods' target=\"_blank\">https://wandb.ai/sizhuang/IterativeMethods</a>"
      ],
      "text/plain": [
       "<IPython.core.display.HTML object>"
      ]
     },
     "metadata": {},
     "output_type": "display_data"
    },
    {
     "data": {
      "text/html": [
       " View run at <a href='https://wandb.ai/sizhuang/IterativeMethods/runs/gyai9nyv' target=\"_blank\">https://wandb.ai/sizhuang/IterativeMethods/runs/gyai9nyv</a>"
      ],
      "text/plain": [
       "<IPython.core.display.HTML object>"
      ]
     },
     "metadata": {},
     "output_type": "display_data"
    },
    {
     "name": "stdout",
     "output_type": "stream",
     "text": [
      "0.68794906\n",
      "0.014618884\n",
      "0.05222061\n"
     ]
    },
    {
     "data": {
      "text/html": [
       "Waiting for W&B process to finish... <strong style=\"color:green\">(success).</strong>"
      ],
      "text/plain": [
       "<IPython.core.display.HTML object>"
      ]
     },
     "metadata": {},
     "output_type": "display_data"
    },
    {
     "data": {
      "text/html": [
       "<style>\n",
       "    table.wandb td:nth-child(1) { padding: 0 10px; text-align: left ; width: auto;} td:nth-child(2) {text-align: left ; width: 100%}\n",
       "    .wandb-row { display: flex; flex-direction: row; flex-wrap: wrap; justify-content: flex-start; width: 100% }\n",
       "    .wandb-col { display: flex; flex-direction: column; flex-basis: 100%; flex: 1; padding: 10px; }\n",
       "    </style>\n",
       "<div class=\"wandb-row\"><div class=\"wandb-col\"><h3>Run history:</h3><br/><table class=\"wandb\"><tr><td>epoch</td><td>▁▁▁▁▂▂▂▂▂▃▃▃▃▃▃▄▄▄▄▄▅▅▅▅▅▅▆▆▆▆▆▇▇▇▇▇▇███</td></tr><tr><td>num_param</td><td>▁</td></tr><tr><td>test_accuracy</td><td>▁</td></tr><tr><td>test_loss</td><td>▁</td></tr><tr><td>training_accuracy</td><td>▁▃▅▂▂▁▅▄▂▆▅▂▄▁▁▂▃▃▃▁▄▁▆▅▆▂▅▆█▇▃▅▄▅▆▅▅▁▁▃</td></tr><tr><td>training_loss</td><td>█████▇▇▇▇▇█▇▇▇█▇▇█▇▇▇▇▆▅▅▅▄▄▂▃▄▆▄▃▃▁▄▄▄▄</td></tr><tr><td>validation_accuracy</td><td>▂▁▁▁▅▆▂▃▄▃▃█▄▂▄▃▅▅▅▄▆▄▅▄▄▆▅▃▆▄▅▅▅▅▄▄▅▆▅▆</td></tr><tr><td>validation_loss</td><td>▆▆▅▆▆▅▆▆▆▇█▅██▇▇▇▇▇▇▆▆▆▆▇▅▄▆▆▆▃▂▃▄▄▃▃▁▂▁</td></tr></table><br/></div><div class=\"wandb-col\"><h3>Run summary:</h3><br/><table class=\"wandb\"><tr><td>epoch</td><td>200</td></tr><tr><td>num_param</td><td>56679</td></tr><tr><td>test_accuracy</td><td>0.184</td></tr><tr><td>test_loss</td><td>1.90976</td></tr><tr><td>training_accuracy</td><td>0.17857</td></tr><tr><td>training_loss</td><td>1.88895</td></tr><tr><td>validation_accuracy</td><td>0.216</td></tr><tr><td>validation_loss</td><td>1.91449</td></tr></table><br/></div></div>"
      ],
      "text/plain": [
       "<IPython.core.display.HTML object>"
      ]
     },
     "metadata": {},
     "output_type": "display_data"
    },
    {
     "data": {
      "text/html": [
       " View run <strong style=\"color:#cdcd00\">spring-brook-46616</strong> at: <a href='https://wandb.ai/sizhuang/IterativeMethods/runs/gyai9nyv' target=\"_blank\">https://wandb.ai/sizhuang/IterativeMethods/runs/gyai9nyv</a><br/>Synced 6 W&B file(s), 0 media file(s), 0 artifact file(s) and 0 other file(s)"
      ],
      "text/plain": [
       "<IPython.core.display.HTML object>"
      ]
     },
     "metadata": {},
     "output_type": "display_data"
    },
    {
     "data": {
      "text/html": [
       "Find logs at: <code>./wandb/run-20230706_231416-gyai9nyv/logs</code>"
      ],
      "text/plain": [
       "<IPython.core.display.HTML object>"
      ]
     },
     "metadata": {},
     "output_type": "display_data"
    }
   ],
   "source": [
    "wandb.init(job_type=\"over_smoothing\", \n",
    "               project=\"IterativeMethods\", \n",
    "               config=hyper, \n",
    "               notes=\"usualGCN\",\n",
    "               tags=[\"usualGCN\"])\n",
    "config = wandb.config\n",
    "model2 = GCN(input_dim=num_features,\n",
    "                                output_dim=num_classes,\n",
    "                                hidden_dim=config.hid_dim,\n",
    "                                num_layers=config.num_iter_layers,\n",
    "                                dropout=config.dropout,\n",
    "                                )\n",
    "exp_per_model(model2, data, config)\n",
    "out2 = model2(data.x, data.edge_index)\n",
    "\n",
    "mad1 = MAD(out2.detach())\n",
    "mad2 = MAD(F.log_softmax(out2, dim=1))\n",
    "mad3 = MAD(F.softmax(out2, dim=1))\n",
    "\n",
    "# print(mad1)\n",
    "# print(mad2)\n",
    "print(mad3)\n",
    "\n",
    "wandb.finish()"
   ]
  },
  {
   "cell_type": "code",
   "execution_count": null,
   "metadata": {},
   "outputs": [],
   "source": [
    "from sklearn.metrics.pairwise import cosine_similarity\n",
    "torch.set_printoptions(profile=\"full\", sci_mode=False, precision=4)\n",
    "np.set_printoptions(suppress=True)\n",
    "np.set_printoptions(threshold=sys.maxsize)\n",
    "out2 = model2(data.x, data.edge_index)\n",
    "D = 1 - cosine_similarity(out2.detach())\n",
    "print(D)"
   ]
  },
  {
   "attachments": {},
   "cell_type": "markdown",
   "metadata": {},
   "source": [
    "# other"
   ]
  },
  {
   "cell_type": "code",
   "execution_count": null,
   "metadata": {},
   "outputs": [],
   "source": [
    "iMAD = [0.7474, 0.7881, 0.8062, 0.8044, 0.8058, 0.8207, 0.8070, 0.7913, 0.8005, 0.8042, 0.8061, 0.7774, 0.7152, 0.7403, 0.8081, 0.7029, 0.7716, 0.7167, 0.7368]\n",
    "uMAD = [0.6512, 0.7687, 0.8147, 0.8125, 0.8088, 0.7588, 0.6406, 0.5322, 0.0153, 0.0537, 0.0821, 0.1540, 0.0249, 0.0858, 0.0728, 0.1526, 0.0537, 0.0227, 0.0252]"
   ]
  }
 ],
 "metadata": {
  "kernelspec": {
   "display_name": "iterENV",
   "language": "python",
   "name": "python3"
  },
  "language_info": {
   "codemirror_mode": {
    "name": "ipython",
    "version": 3
   },
   "file_extension": ".py",
   "mimetype": "text/x-python",
   "name": "python",
   "nbconvert_exporter": "python",
   "pygments_lexer": "ipython3",
   "version": "3.8.2"
  },
  "orig_nbformat": 4
 },
 "nbformat": 4,
 "nbformat_minor": 2
}
