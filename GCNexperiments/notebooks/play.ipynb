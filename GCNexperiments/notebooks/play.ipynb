{
 "cells": [
  {
   "cell_type": "code",
   "execution_count": 1,
   "metadata": {},
   "outputs": [
    {
     "name": "stderr",
     "output_type": "stream",
     "text": [
      "/Users/sizhuang/Desktop/GitHubRepos/IterativeMethods/iterENV/lib/python3.8/site-packages/urllib3/__init__.py:34: NotOpenSSLWarning: urllib3 v2.0 only supports OpenSSL 1.1.1+, currently the 'ssl' module is compiled with 'LibreSSL 2.8.3'. See: https://github.com/urllib3/urllib3/issues/3020\n",
      "  warnings.warn(\n",
      "Failed to detect the name of this notebook, you can set it manually with the WANDB_NOTEBOOK_NAME environment variable to enable code saving.\n",
      "/Users/sizhuang/Desktop/GitHubRepos/IterativeMethods/iterENV/lib/python3.8/site-packages/urllib3/__init__.py:34: NotOpenSSLWarning: urllib3 v2.0 only supports OpenSSL 1.1.1+, currently the 'ssl' module is compiled with 'LibreSSL 2.8.3'. See: https://github.com/urllib3/urllib3/issues/3020\n",
      "  warnings.warn(\n",
      "\u001b[34m\u001b[1mwandb\u001b[0m: Currently logged in as: \u001b[33msizhuang\u001b[0m. Use \u001b[1m`wandb login --relogin`\u001b[0m to force relogin\n"
     ]
    },
    {
     "data": {
      "text/plain": [
       "True"
      ]
     },
     "execution_count": 1,
     "metadata": {},
     "output_type": "execute_result"
    }
   ],
   "source": [
    "import pandas as pd\n",
    "import matplotlib.pyplot as plt\n",
    "import wandb\n",
    "\n",
    "import numpy as np\n",
    "import seaborn as sns\n",
    "import torch\n",
    "\n",
    "import sys\n",
    "BASE_PATH = globals()['_dh'][0].parent.absolute()\n",
    "sys.path.insert(1, str(BASE_PATH))\n",
    "\n",
    "from torch_geometric.datasets import Planetoid\n",
    "from torch_geometric.transforms import NormalizeFeatures\n",
    "from src.utils.utils import make_Planetoid_data, exp_per_model, make_uniform_schedule, make_Amazon_data, count_parameters\n",
    "from src.utils.metrics import MAD\n",
    "from src.models.models import GCN, GAT\n",
    "from src.models.iterativeModels import iterativeGAT\n",
    "import torch.nn.functional as F\n",
    "wandb.login()"
   ]
  },
  {
   "cell_type": "code",
   "execution_count": null,
   "metadata": {},
   "outputs": [],
   "source": [
    "hyper = {\n",
    "    'num_epochs': 200,\n",
    "    'dataset_name': \"Computers\",\n",
    "    'noise_percent': 0,\n",
    "    'hid_dim': 32,\n",
    "    'num_iter_layers': 6,\n",
    "    'smooth_fac': 0.8,\n",
    "    'dropout': 0.5,\n",
    "    'learning_rate': 0.01,\n",
    "    'weight_decay': 4e-4\n",
    "} \n",
    "# data, num_features, num_classes = make_Planetoid_data(hyper)"
   ]
  },
  {
   "cell_type": "code",
   "execution_count": null,
   "metadata": {},
   "outputs": [],
   "source": [
    "from torch_geometric.datasets import Amazon, Planetoid\n",
    "dataset = Amazon(root='data/Amazon',\n",
    "                     name='Computers',\n",
    "                     transform=NormalizeFeatures())\n",
    "dataset2 = Planetoid(root='data/Planetoid/',\n",
    "                     name='Cora',\n",
    "                     transform=NormalizeFeatures())\n"
   ]
  },
  {
   "cell_type": "code",
   "execution_count": null,
   "metadata": {},
   "outputs": [],
   "source": [
    "from torch_geometric.utils import contains_self_loops, add_remaining_self_loops"
   ]
  },
  {
   "cell_type": "code",
   "execution_count": null,
   "metadata": {},
   "outputs": [],
   "source": [
    "data = dataset2[0]\n",
    "data.edge_index"
   ]
  },
  {
   "cell_type": "code",
   "execution_count": null,
   "metadata": {},
   "outputs": [],
   "source": [
    "data.edge_index = add_remaining_self_loops(data.edge_index)[0]"
   ]
  },
  {
   "cell_type": "code",
   "execution_count": null,
   "metadata": {},
   "outputs": [],
   "source": [
    "data.edge_index"
   ]
  },
  {
   "cell_type": "code",
   "execution_count": null,
   "metadata": {},
   "outputs": [],
   "source": [
    "contains_self_loops(data.edge_index)"
   ]
  },
  {
   "cell_type": "code",
   "execution_count": null,
   "metadata": {},
   "outputs": [],
   "source": [
    "data = dataset[0]\n",
    "train_nodes = []\n",
    "valid_nodes = []\n",
    "test_nodes = []\n",
    "for i in torch.unique(data.y).tolist():\n",
    "    print((data.y == i).nonzero(as_tuple=True)[0][0:20])\n",
    "    \n"
   ]
  },
  {
   "cell_type": "code",
   "execution_count": null,
   "metadata": {},
   "outputs": [],
   "source": [
    "(data.y == 0).nonzero(as_tuple=True)[0][0:10]"
   ]
  },
  {
   "cell_type": "code",
   "execution_count": null,
   "metadata": {},
   "outputs": [],
   "source": [
    "wandb.init(config=hyper, job_type=\"debug\", project=\"IterativeMethods\", tags=[\"GAT\"])\n",
    "config = wandb.config\n",
    "train_schedule = make_uniform_schedule(config.num_iter_layers, config.smooth_fac)\n",
    "data, num_features, num_classes = make_Amazon_data(config)\n",
    "wandb.log({\n",
    "    'train_schedule': train_schedule\n",
    "})\n",
    "model = GAT(num_node_features=num_features,\n",
    "            output_dim=num_classes,\n",
    "            hidden_dim=8,\n",
    "            num_layers=config.num_iter_layers,\n",
    "            attn_dropout_rate=0.6,\n",
    "            dropout=0.6\n",
    ")\n",
    "exp_per_model(model, data, config)\n",
    "wandb.finish()"
   ]
  },
  {
   "cell_type": "code",
   "execution_count": null,
   "metadata": {},
   "outputs": [],
   "source": [
    "wandb.init(config=hyper, job_type=\"debug\", project=\"IterativeMethods\", tags=[\"GAT\"])\n",
    "config = wandb.config\n",
    "train_schedule = make_uniform_schedule(config.num_iter_layers, config.smooth_fac)\n",
    "data, num_features, num_classes = make_Amazon_data(config)\n",
    "wandb.log({\n",
    "    'train_schedule': train_schedule\n",
    "})\n",
    "model = iterativeGAT(input_dim=num_features,\n",
    "                     output_dim=num_classes,\n",
    "                     hidden_dim=config.hid_dim,\n",
    "                     train_schedule=train_schedule,\n",
    "                     heads=8,\n",
    "                     dropout=0.6,\n",
    "                     attn_dropout_rate=0.6)\n",
    "exp_per_model(model, data, config)\n",
    "wandb.finish()"
   ]
  },
  {
   "cell_type": "code",
   "execution_count": null,
   "metadata": {
    "vscode": {
     "languageId": "javascript"
    }
   },
   "outputs": [],
   "source": [
    "wandb.init(config=hyper, \n",
    "               job_type=\"iterativeGAT\", \n",
    "               project=\"IterativeMethods\", \n",
    "               tags=[\"iterativeGCN\"])\n",
    "config = wandb.config\n",
    "train_schedule = make_uniform_schedule(config.num_iter_layers, config.smooth_fac)\n",
    "data, num_features, num_classes = make_Planetoid_data(config)\n",
    "wandb.log({\n",
    "    'train_schedule': train_schedule\n",
    "})\n",
    "\n",
    "model = iterativeGCN(input_dim=num_features,\n",
    "                                output_dim=num_classes,\n",
    "                                hidden_dim=config.hid_dim,\n",
    "                                train_schedule=train_schedule,\n",
    "                                dropout=config.dropout)\n",
    "exp_per_model(model, data, config)\n",
    "\n",
    "out = model(data.x, data.edge_index)\n",
    "mad1 = MAD(out.detach())\n",
    "mad2  =MAD(F.log_softmax(out, dim=1))\n",
    "mad3 = MAD(F.softmax(out, dim=1))\n",
    "// print(mad1)\n",
    "// print(mad2)\n",
    "print(mad3)\n",
    "\n",
    "wandb.finish()"
   ]
  },
  {
   "cell_type": "code",
   "execution_count": null,
   "metadata": {},
   "outputs": [],
   "source": [
    "wandb.init(job_type=\"over_smoothing\", \n",
    "               project=\"IterativeMethods\", \n",
    "               config=hyper, \n",
    "               notes=\"usualGCN\",\n",
    "               tags=[\"usualGCN\"])\n",
    "config = wandb.config\n",
    "model2 = GCN(input_dim=num_features,\n",
    "                                output_dim=num_classes,\n",
    "                                hidden_dim=config.hid_dim,\n",
    "                                num_layers=config.num_iter_layers,\n",
    "                                dropout=config.dropout,\n",
    "                                )\n",
    "exp_per_model(model2, data, config)\n",
    "out2 = model2(data.x, data.edge_index)\n",
    "\n",
    "mad1 = MAD(out2.detach())\n",
    "mad2 = MAD(F.log_softmax(out2, dim=1))\n",
    "mad3 = MAD(F.softmax(out2, dim=1))\n",
    "\n",
    "# print(mad1)\n",
    "# print(mad2)\n",
    "print(mad3)\n",
    "\n",
    "wandb.finish()"
   ]
  },
  {
   "cell_type": "code",
   "execution_count": null,
   "metadata": {},
   "outputs": [],
   "source": [
    "from sklearn.metrics.pairwise import cosine_similarity\n",
    "torch.set_printoptions(profile=\"full\", sci_mode=False, precision=4)\n",
    "np.set_printoptions(suppress=True)\n",
    "np.set_printoptions(threshold=sys.maxsize)\n",
    "out2 = model2(data.x, data.edge_index)\n",
    "D = 1 - cosine_similarity(out2.detach())\n",
    "print(D)"
   ]
  },
  {
   "attachments": {},
   "cell_type": "markdown",
   "metadata": {},
   "source": [
    "# other"
   ]
  },
  {
   "cell_type": "code",
   "execution_count": null,
   "metadata": {},
   "outputs": [],
   "source": [
    "iMAD = [0.7474, 0.7881, 0.8062, 0.8044, 0.8058, 0.8207, 0.8070, 0.7913, 0.8005, 0.8042, 0.8061, 0.7774, 0.7152, 0.7403, 0.8081, 0.7029, 0.7716, 0.7167, 0.7368]\n",
    "uMAD = [0.6512, 0.7687, 0.8147, 0.8125, 0.8088, 0.7588, 0.6406, 0.5322, 0.0153, 0.0537, 0.0821, 0.1540, 0.0249, 0.0858, 0.0728, 0.1526, 0.0537, 0.0227, 0.0252]\n",
    "x = np.arange(2, 21,1)"
   ]
  },
  {
   "cell_type": "code",
   "execution_count": null,
   "metadata": {},
   "outputs": [],
   "source": [
    "import matplotlib.pyplot as plt\n",
    "plt.plot(x, iMAD)\n",
    "plt.plot(x, uMAD)\n",
    "plt.ylabel('MAD')\n",
    "plt.xlabel('number of iteration/layer')\n",
    "xi = list(range(len(x)))\n",
    "plt.xticks(xi, x)"
   ]
  },
  {
   "cell_type": "code",
   "execution_count": 5,
   "metadata": {},
   "outputs": [
    {
     "data": {
      "text/plain": [
       "92302"
      ]
     },
     "execution_count": 5,
     "metadata": {},
     "output_type": "execute_result"
    }
   ],
   "source": [
    "model = GAT(\n",
    "    num_node_features=1433,\n",
    "    hidden_dim=8,\n",
    "    output_dim=7,\n",
    "    num_layers=2,\n",
    "    attn_dropout_rate=0.6,\n",
    "    dropout=0.6,\n",
    "    heads=8\n",
    ")\n",
    "count_parameters(model)\n",
    "# print(model)\n",
    "# for p in model.parameters():\n",
    "#      if p.requires_grad:\n",
    "#         #   print(p)\n",
    "#           print(p.size())\n"
   ]
  },
  {
   "cell_type": "code",
   "execution_count": 4,
   "metadata": {},
   "outputs": [
    {
     "data": {
      "text/plain": [
       "55079"
      ]
     },
     "execution_count": 4,
     "metadata": {},
     "output_type": "execute_result"
    }
   ],
   "source": [
    "imodel = iterativeGAT(input_dim=1433,\n",
    "                     output_dim=7,\n",
    "                     hidden_dim=32,\n",
    "                     train_schedule=[0.5, 0.5, 0.5],\n",
    "                     heads=8)\n",
    "count_parameters(imodel)"
   ]
  }
 ],
 "metadata": {
  "kernelspec": {
   "display_name": "iterENV",
   "language": "python",
   "name": "python3"
  },
  "language_info": {
   "codemirror_mode": {
    "name": "ipython",
    "version": 3
   },
   "file_extension": ".py",
   "mimetype": "text/x-python",
   "name": "python",
   "nbconvert_exporter": "python",
   "pygments_lexer": "ipython3",
   "version": "3.8.2"
  },
  "orig_nbformat": 4
 },
 "nbformat": 4,
 "nbformat_minor": 2
}
