{
 "cells": [
  {
   "cell_type": "code",
   "execution_count": 1,
   "metadata": {},
   "outputs": [
    {
     "name": "stderr",
     "output_type": "stream",
     "text": [
      "/Users/sizhuang/Desktop/GitHubRepos/IterativeMethods/iterENV/lib/python3.8/site-packages/urllib3/__init__.py:34: NotOpenSSLWarning: urllib3 v2.0 only supports OpenSSL 1.1.1+, currently the 'ssl' module is compiled with 'LibreSSL 2.8.3'. See: https://github.com/urllib3/urllib3/issues/3020\n",
      "  warnings.warn(\n",
      "Failed to detect the name of this notebook, you can set it manually with the WANDB_NOTEBOOK_NAME environment variable to enable code saving.\n",
      "/Users/sizhuang/Desktop/GitHubRepos/IterativeMethods/iterENV/lib/python3.8/site-packages/urllib3/__init__.py:34: NotOpenSSLWarning: urllib3 v2.0 only supports OpenSSL 1.1.1+, currently the 'ssl' module is compiled with 'LibreSSL 2.8.3'. See: https://github.com/urllib3/urllib3/issues/3020\n",
      "  warnings.warn(\n",
      "\u001b[34m\u001b[1mwandb\u001b[0m: Currently logged in as: \u001b[33msizhuang\u001b[0m. Use \u001b[1m`wandb login --relogin`\u001b[0m to force relogin\n"
     ]
    },
    {
     "data": {
      "text/plain": [
       "True"
      ]
     },
     "execution_count": 1,
     "metadata": {},
     "output_type": "execute_result"
    }
   ],
   "source": [
    "import pandas as pd\n",
    "import matplotlib.pyplot as plt\n",
    "import wandb\n",
    "\n",
    "import numpy as np\n",
    "import seaborn as sns\n",
    "import torch\n",
    "\n",
    "import sys\n",
    "BASE_PATH = globals()['_dh'][0].parent.absolute()\n",
    "sys.path.insert(1, str(BASE_PATH))\n",
    "\n",
    "from torch_geometric.datasets import Planetoid\n",
    "from torch_geometric.transforms import NormalizeFeatures\n",
    "from src.utils.utils import make_Planetoid_data, exp_per_model, make_uniform_schedule, make_Amazon_data\n",
    "from src.utils.metrics import MAD\n",
    "from src.models.models import GCN, GAT\n",
    "from src.models.iterativeModels import iterativeGAT\n",
    "import torch.nn.functional as F\n",
    "wandb.login()"
   ]
  },
  {
   "cell_type": "code",
   "execution_count": 2,
   "metadata": {},
   "outputs": [],
   "source": [
    "hyper = {\n",
    "    'num_epochs': 200,\n",
    "    'dataset_name': \"Computers\",\n",
    "    'noise_percent': 0,\n",
    "    'hid_dim': 32,\n",
    "    'num_iter_layers': 6,\n",
    "    'smooth_fac': 0.8,\n",
    "    'dropout': 0.5,\n",
    "    'learning_rate': 0.01,\n",
    "    'weight_decay': 4e-4\n",
    "} \n",
    "# data, num_features, num_classes = make_Planetoid_data(hyper)"
   ]
  },
  {
   "cell_type": "code",
   "execution_count": 8,
   "metadata": {},
   "outputs": [
    {
     "data": {
      "text/html": [
       "Finishing last run (ID:zm6u2zxq) before initializing another..."
      ],
      "text/plain": [
       "<IPython.core.display.HTML object>"
      ]
     },
     "metadata": {},
     "output_type": "display_data"
    },
    {
     "data": {
      "text/html": [
       "Waiting for W&B process to finish... <strong style=\"color:green\">(success).</strong>"
      ],
      "text/plain": [
       "<IPython.core.display.HTML object>"
      ]
     },
     "metadata": {},
     "output_type": "display_data"
    },
    {
     "data": {
      "text/html": [
       "<style>\n",
       "    table.wandb td:nth-child(1) { padding: 0 10px; text-align: left ; width: auto;} td:nth-child(2) {text-align: left ; width: 100%}\n",
       "    .wandb-row { display: flex; flex-direction: row; flex-wrap: wrap; justify-content: flex-start; width: 100% }\n",
       "    .wandb-col { display: flex; flex-direction: column; flex-basis: 100%; flex: 1; padding: 10px; }\n",
       "    </style>\n",
       "<div class=\"wandb-row\"><div class=\"wandb-col\"><h3>Run history:</h3><br/><table class=\"wandb\"><tr><td>epoch</td><td>▁▁▁▁▂▂▂▂▂▃▃▃▃▃▃▄▄▄▄▄▅▅▅▅▅▅▆▆▆▆▆▇▇▇▇▇▇███</td></tr><tr><td>num_param</td><td>▁</td></tr><tr><td>training_accuracy</td><td>▁▂▂▃▃▂▂▂▂▃▃▂▅▃▄▆▆▄▆▇▆▆▇▇█▇▇▆▆█▇▄▆▆▆▅█▆▇▇</td></tr><tr><td>training_loss</td><td>▅▅▅▆▅▅▅▇█▅▅▆▄▄▄▃▃▄▃▃▃▂▂▄▂▂▁▂▂▁▂▇▂▂▄▃▂▂▁▁</td></tr><tr><td>validation_accuracy</td><td>▃▃▃▁▃▂▁▃▃▃▄▂▃▄▄▆▇▆▆▆▆▅▅▇▇▇▆▇▇▇▄▆▆▅▆▇▇█▇▇</td></tr><tr><td>validation_loss</td><td>▃▃▃▃▃▃▃▅▃▃▃▅▃▂▂▂▂▂▂▂▂▄▄▃▃▂▄▂▃▃█▃▃▅▃▂▂▁▂▂</td></tr></table><br/></div><div class=\"wandb-col\"><h3>Run summary:</h3><br/><table class=\"wandb\"><tr><td>epoch</td><td>74</td></tr><tr><td>num_param</td><td>2244105</td></tr><tr><td>training_accuracy</td><td>0.76667</td></tr><tr><td>training_loss</td><td>0.40368</td></tr><tr><td>validation_accuracy</td><td>0.756</td></tr><tr><td>validation_loss</td><td>0.83495</td></tr></table><br/></div></div>"
      ],
      "text/plain": [
       "<IPython.core.display.HTML object>"
      ]
     },
     "metadata": {},
     "output_type": "display_data"
    },
    {
     "data": {
      "text/html": [
       " View run <strong style=\"color:#cdcd00\">comic-spaceship-54730</strong> at: <a href='https://wandb.ai/sizhuang/IterativeMethods/runs/zm6u2zxq' target=\"_blank\">https://wandb.ai/sizhuang/IterativeMethods/runs/zm6u2zxq</a><br/>Synced 4 W&B file(s), 0 media file(s), 0 artifact file(s) and 0 other file(s)"
      ],
      "text/plain": [
       "<IPython.core.display.HTML object>"
      ]
     },
     "metadata": {},
     "output_type": "display_data"
    },
    {
     "data": {
      "text/html": [
       "Find logs at: <code>./wandb/run-20230717_164255-zm6u2zxq/logs</code>"
      ],
      "text/plain": [
       "<IPython.core.display.HTML object>"
      ]
     },
     "metadata": {},
     "output_type": "display_data"
    },
    {
     "data": {
      "text/html": [
       "Successfully finished last run (ID:zm6u2zxq). Initializing new run:<br/>"
      ],
      "text/plain": [
       "<IPython.core.display.HTML object>"
      ]
     },
     "metadata": {},
     "output_type": "display_data"
    },
    {
     "data": {
      "text/html": [
       "wandb version 0.15.5 is available!  To upgrade, please run:\n",
       " $ pip install wandb --upgrade"
      ],
      "text/plain": [
       "<IPython.core.display.HTML object>"
      ]
     },
     "metadata": {},
     "output_type": "display_data"
    },
    {
     "data": {
      "text/html": [
       "Tracking run with wandb version 0.15.4"
      ],
      "text/plain": [
       "<IPython.core.display.HTML object>"
      ]
     },
     "metadata": {},
     "output_type": "display_data"
    },
    {
     "data": {
      "text/html": [
       "Run data is saved locally in <code>/Users/sizhuang/Desktop/GitHubRepos/IterativeMethods/GCNexperiments/notebooks/wandb/run-20230717_170520-8bg98omt</code>"
      ],
      "text/plain": [
       "<IPython.core.display.HTML object>"
      ]
     },
     "metadata": {},
     "output_type": "display_data"
    },
    {
     "data": {
      "text/html": [
       "Syncing run <strong><a href='https://wandb.ai/sizhuang/IterativeMethods/runs/8bg98omt' target=\"_blank\">driven-firebrand-54731</a></strong> to <a href='https://wandb.ai/sizhuang/IterativeMethods' target=\"_blank\">Weights & Biases</a> (<a href='https://wandb.me/run' target=\"_blank\">docs</a>)<br/>"
      ],
      "text/plain": [
       "<IPython.core.display.HTML object>"
      ]
     },
     "metadata": {},
     "output_type": "display_data"
    },
    {
     "data": {
      "text/html": [
       " View project at <a href='https://wandb.ai/sizhuang/IterativeMethods' target=\"_blank\">https://wandb.ai/sizhuang/IterativeMethods</a>"
      ],
      "text/plain": [
       "<IPython.core.display.HTML object>"
      ]
     },
     "metadata": {},
     "output_type": "display_data"
    },
    {
     "data": {
      "text/html": [
       " View run at <a href='https://wandb.ai/sizhuang/IterativeMethods/runs/8bg98omt' target=\"_blank\">https://wandb.ai/sizhuang/IterativeMethods/runs/8bg98omt</a>"
      ],
      "text/plain": [
       "<IPython.core.display.HTML object>"
      ]
     },
     "metadata": {},
     "output_type": "display_data"
    },
    {
     "name": "stderr",
     "output_type": "stream",
     "text": [
      "wandb: Network error (ConnectionError), entering retry loop.\n"
     ]
    },
    {
     "data": {
      "text/html": [
       "Waiting for W&B process to finish... <strong style=\"color:green\">(success).</strong>"
      ],
      "text/plain": [
       "<IPython.core.display.HTML object>"
      ]
     },
     "metadata": {},
     "output_type": "display_data"
    },
    {
     "data": {
      "text/html": [
       "<style>\n",
       "    table.wandb td:nth-child(1) { padding: 0 10px; text-align: left ; width: auto;} td:nth-child(2) {text-align: left ; width: 100%}\n",
       "    .wandb-row { display: flex; flex-direction: row; flex-wrap: wrap; justify-content: flex-start; width: 100% }\n",
       "    .wandb-col { display: flex; flex-direction: column; flex-basis: 100%; flex: 1; padding: 10px; }\n",
       "    </style>\n",
       "<div class=\"wandb-row\"><div class=\"wandb-col\"><h3>Run history:</h3><br/><table class=\"wandb\"><tr><td>epoch</td><td>▁▁▁▁▂▂▂▂▂▃▃▃▃▃▃▄▄▄▄▄▅▅▅▅▅▅▆▆▆▆▆▇▇▇▇▇▇███</td></tr><tr><td>num_param</td><td>▁</td></tr><tr><td>test_accuracy</td><td>▁</td></tr><tr><td>test_loss</td><td>▁</td></tr><tr><td>training_accuracy</td><td>▄▄▄▄▂▃▃▁▂▆▆▂▃▂▄▆▆▆▅▅▃▃▃▂▁▂▂▇▄▃▆█▄▅▂▁▃▄▃▃</td></tr><tr><td>training_loss</td><td>▄▄▄▅▅▅▆█▅▅▆▅▅▄▅▁▃▄▃▄▃▅▄▃▄▃▄▂▄▄▃▃▅▄▂▅▆▄▅▃</td></tr><tr><td>validation_accuracy</td><td>▇▇██▇▁█▇▁▇█▁▇▇▇▇█▁▁█▇▇▁█▁▇▇███▇█▇▁▁▁▇██▁</td></tr><tr><td>validation_loss</td><td>▅▇▃▆▅█▄▁▇▇▃▆▄▄▅▃▃▆█▄▄▆▇▅▇▅▃▃▄▄▄▅▅▅█▆▅▂▃▅</td></tr></table><br/></div><div class=\"wandb-col\"><h3>Run summary:</h3><br/><table class=\"wandb\"><tr><td>epoch</td><td>200</td></tr><tr><td>num_param</td><td>167817</td></tr><tr><td>test_accuracy</td><td>0.222</td></tr><tr><td>test_loss</td><td>1.10084</td></tr><tr><td>training_accuracy</td><td>0.3</td></tr><tr><td>training_loss</td><td>1.0952</td></tr><tr><td>validation_accuracy</td><td>0.238</td></tr><tr><td>validation_loss</td><td>1.10022</td></tr></table><br/></div></div>"
      ],
      "text/plain": [
       "<IPython.core.display.HTML object>"
      ]
     },
     "metadata": {},
     "output_type": "display_data"
    },
    {
     "data": {
      "text/html": [
       " View run <strong style=\"color:#cdcd00\">driven-firebrand-54731</strong> at: <a href='https://wandb.ai/sizhuang/IterativeMethods/runs/8bg98omt' target=\"_blank\">https://wandb.ai/sizhuang/IterativeMethods/runs/8bg98omt</a><br/>Synced 5 W&B file(s), 0 media file(s), 0 artifact file(s) and 0 other file(s)"
      ],
      "text/plain": [
       "<IPython.core.display.HTML object>"
      ]
     },
     "metadata": {},
     "output_type": "display_data"
    },
    {
     "data": {
      "text/html": [
       "Find logs at: <code>./wandb/run-20230717_170520-8bg98omt/logs</code>"
      ],
      "text/plain": [
       "<IPython.core.display.HTML object>"
      ]
     },
     "metadata": {},
     "output_type": "display_data"
    }
   ],
   "source": [
    "wandb.init(config=hyper, job_type=\"debug\", project=\"IterativeMethods\", tags=[\"GAT\"])\n",
    "config = wandb.config\n",
    "train_schedule = make_uniform_schedule(config.num_iter_layers, config.smooth_fac)\n",
    "data, num_features, num_classes = make_Amazon_data(config)\n",
    "wandb.log({\n",
    "    'train_schedule': train_schedule\n",
    "})\n",
    "model = GAT(num_node_features=num_features,\n",
    "            output_dim=num_classes,\n",
    "            hidden_dim=8,\n",
    "            num_layers=config.num_iter_layers,\n",
    "            attn_dropout_rate=0.6,\n",
    "            dropout=0.6\n",
    ")\n",
    "exp_per_model(model, data, config)\n",
    "wandb.finish()"
   ]
  },
  {
   "cell_type": "code",
   "execution_count": 3,
   "metadata": {},
   "outputs": [
    {
     "data": {
      "text/html": [
       "wandb version 0.15.5 is available!  To upgrade, please run:\n",
       " $ pip install wandb --upgrade"
      ],
      "text/plain": [
       "<IPython.core.display.HTML object>"
      ]
     },
     "metadata": {},
     "output_type": "display_data"
    },
    {
     "data": {
      "text/html": [
       "Tracking run with wandb version 0.15.4"
      ],
      "text/plain": [
       "<IPython.core.display.HTML object>"
      ]
     },
     "metadata": {},
     "output_type": "display_data"
    },
    {
     "data": {
      "text/html": [
       "Run data is saved locally in <code>/Users/sizhuang/Desktop/GitHubRepos/IterativeMethods/GCNexperiments/notebooks/wandb/run-20230718_164346-rfwt0uze</code>"
      ],
      "text/plain": [
       "<IPython.core.display.HTML object>"
      ]
     },
     "metadata": {},
     "output_type": "display_data"
    },
    {
     "data": {
      "text/html": [
       "Syncing run <strong><a href='https://wandb.ai/sizhuang/IterativeMethods/runs/rfwt0uze' target=\"_blank\">scarlet-puddle-62540</a></strong> to <a href='https://wandb.ai/sizhuang/IterativeMethods' target=\"_blank\">Weights & Biases</a> (<a href='https://wandb.me/run' target=\"_blank\">docs</a>)<br/>"
      ],
      "text/plain": [
       "<IPython.core.display.HTML object>"
      ]
     },
     "metadata": {},
     "output_type": "display_data"
    },
    {
     "data": {
      "text/html": [
       " View project at <a href='https://wandb.ai/sizhuang/IterativeMethods' target=\"_blank\">https://wandb.ai/sizhuang/IterativeMethods</a>"
      ],
      "text/plain": [
       "<IPython.core.display.HTML object>"
      ]
     },
     "metadata": {},
     "output_type": "display_data"
    },
    {
     "data": {
      "text/html": [
       " View run at <a href='https://wandb.ai/sizhuang/IterativeMethods/runs/rfwt0uze' target=\"_blank\">https://wandb.ai/sizhuang/IterativeMethods/runs/rfwt0uze</a>"
      ],
      "text/plain": [
       "<IPython.core.display.HTML object>"
      ]
     },
     "metadata": {},
     "output_type": "display_data"
    },
    {
     "name": "stderr",
     "output_type": "stream",
     "text": [
      "Downloading https://github.com/shchur/gnn-benchmark/raw/master/data/npz/amazon_electronics_computers.npz\n",
      "Processing...\n",
      "Done!\n"
     ]
    },
    {
     "ename": "AttributeError",
     "evalue": "'GlobalStorage' object has no attribute 'train_mask'",
     "output_type": "error",
     "traceback": [
      "\u001b[0;31m---------------------------------------------------------------------------\u001b[0m",
      "\u001b[0;31mKeyError\u001b[0m                                  Traceback (most recent call last)",
      "File \u001b[0;32m~/Desktop/GitHubRepos/IterativeMethods/iterENV/lib/python3.8/site-packages/torch_geometric/data/storage.py:79\u001b[0m, in \u001b[0;36mBaseStorage.__getattr__\u001b[0;34m(self, key)\u001b[0m\n\u001b[1;32m     78\u001b[0m \u001b[39mtry\u001b[39;00m:\n\u001b[0;32m---> 79\u001b[0m     \u001b[39mreturn\u001b[39;00m \u001b[39mself\u001b[39;49m[key]\n\u001b[1;32m     80\u001b[0m \u001b[39mexcept\u001b[39;00m \u001b[39mKeyError\u001b[39;00m:\n",
      "File \u001b[0;32m~/Desktop/GitHubRepos/IterativeMethods/iterENV/lib/python3.8/site-packages/torch_geometric/data/storage.py:104\u001b[0m, in \u001b[0;36mBaseStorage.__getitem__\u001b[0;34m(self, key)\u001b[0m\n\u001b[1;32m    103\u001b[0m \u001b[39mdef\u001b[39;00m \u001b[39m__getitem__\u001b[39m(\u001b[39mself\u001b[39m, key: \u001b[39mstr\u001b[39m) \u001b[39m-\u001b[39m\u001b[39m>\u001b[39m Any:\n\u001b[0;32m--> 104\u001b[0m     \u001b[39mreturn\u001b[39;00m \u001b[39mself\u001b[39;49m\u001b[39m.\u001b[39;49m_mapping[key]\n",
      "\u001b[0;31mKeyError\u001b[0m: 'train_mask'",
      "\nDuring handling of the above exception, another exception occurred:\n",
      "\u001b[0;31mAttributeError\u001b[0m                            Traceback (most recent call last)",
      "Cell \u001b[0;32mIn[3], line 15\u001b[0m\n\u001b[1;32m      5\u001b[0m wandb\u001b[39m.\u001b[39mlog({\n\u001b[1;32m      6\u001b[0m     \u001b[39m'\u001b[39m\u001b[39mtrain_schedule\u001b[39m\u001b[39m'\u001b[39m: train_schedule\n\u001b[1;32m      7\u001b[0m })\n\u001b[1;32m      8\u001b[0m model \u001b[39m=\u001b[39m iterativeGAT(input_dim\u001b[39m=\u001b[39mnum_features,\n\u001b[1;32m      9\u001b[0m                      output_dim\u001b[39m=\u001b[39mnum_classes,\n\u001b[1;32m     10\u001b[0m                      hidden_dim\u001b[39m=\u001b[39mconfig\u001b[39m.\u001b[39mhid_dim,\n\u001b[0;32m   (...)\u001b[0m\n\u001b[1;32m     13\u001b[0m                      dropout\u001b[39m=\u001b[39m\u001b[39m0.6\u001b[39m,\n\u001b[1;32m     14\u001b[0m                      attn_dropout_rate\u001b[39m=\u001b[39m\u001b[39m0.6\u001b[39m)\n\u001b[0;32m---> 15\u001b[0m exp_per_model(model, data, config)\n\u001b[1;32m     16\u001b[0m wandb\u001b[39m.\u001b[39mfinish()\n",
      "File \u001b[0;32m~/Desktop/GitHubRepos/IterativeMethods/GCNexperiments/src/utils/utils.py:114\u001b[0m, in \u001b[0;36mexp_per_model\u001b[0;34m(model, data, config)\u001b[0m\n\u001b[1;32m    110\u001b[0m num_params \u001b[39m=\u001b[39m count_parameters(model)\n\u001b[1;32m    111\u001b[0m wandb\u001b[39m.\u001b[39mlog({ \n\u001b[1;32m    112\u001b[0m         \u001b[39m'\u001b[39m\u001b[39mnum_param\u001b[39m\u001b[39m'\u001b[39m: num_params\n\u001b[1;32m    113\u001b[0m }) \n\u001b[0;32m--> 114\u001b[0m train(model, data, config)\n\u001b[1;32m    115\u001b[0m loss_test, acc_test \u001b[39m=\u001b[39m test(model, data)\n\u001b[1;32m    116\u001b[0m wandb\u001b[39m.\u001b[39mlog({\n\u001b[1;32m    117\u001b[0m     \u001b[39m'\u001b[39m\u001b[39mtest_loss\u001b[39m\u001b[39m'\u001b[39m: loss_test,\n\u001b[1;32m    118\u001b[0m     \u001b[39m'\u001b[39m\u001b[39mtest_accuracy\u001b[39m\u001b[39m'\u001b[39m: acc_test\n\u001b[1;32m    119\u001b[0m })\n",
      "File \u001b[0;32m~/Desktop/GitHubRepos/IterativeMethods/GCNexperiments/src/utils/utils.py:69\u001b[0m, in \u001b[0;36mtrain\u001b[0;34m(model, data, config)\u001b[0m\n\u001b[1;32m     67\u001b[0m optimizer \u001b[39m=\u001b[39m optim\u001b[39m.\u001b[39mAdam(model\u001b[39m.\u001b[39mparameters(), lr\u001b[39m=\u001b[39mconfig\u001b[39m.\u001b[39mlearning_rate, weight_decay\u001b[39m=\u001b[39mconfig\u001b[39m.\u001b[39mweight_decay)\n\u001b[1;32m     68\u001b[0m \u001b[39mfor\u001b[39;00m epoch \u001b[39min\u001b[39;00m \u001b[39mrange\u001b[39m(config\u001b[39m.\u001b[39mnum_epochs):\n\u001b[0;32m---> 69\u001b[0m     loss_train, acc_train \u001b[39m=\u001b[39m train_epoch(model, data, optimizer)\n\u001b[1;32m     70\u001b[0m     loss_val, acc_val \u001b[39m=\u001b[39m validate_epoch(model, data)\n\u001b[1;32m     72\u001b[0m     wandb\u001b[39m.\u001b[39mlog({\n\u001b[1;32m     73\u001b[0m         \u001b[39m'\u001b[39m\u001b[39mtraining_loss\u001b[39m\u001b[39m'\u001b[39m: loss_train,\n\u001b[1;32m     74\u001b[0m         \u001b[39m'\u001b[39m\u001b[39mtraining_accuracy\u001b[39m\u001b[39m'\u001b[39m: acc_train,\n\u001b[0;32m   (...)\u001b[0m\n\u001b[1;32m     77\u001b[0m         \u001b[39m\"\u001b[39m\u001b[39mepoch\u001b[39m\u001b[39m\"\u001b[39m: epoch\u001b[39m+\u001b[39m\u001b[39m1\u001b[39m,\n\u001b[1;32m     78\u001b[0m     })\n",
      "File \u001b[0;32m~/Desktop/GitHubRepos/IterativeMethods/GCNexperiments/src/utils/utils.py:47\u001b[0m, in \u001b[0;36mtrain_epoch\u001b[0;34m(model, data, optimizer)\u001b[0m\n\u001b[1;32m     45\u001b[0m model\u001b[39m.\u001b[39mtrain()\n\u001b[1;32m     46\u001b[0m output \u001b[39m=\u001b[39m model(data\u001b[39m.\u001b[39mx, data\u001b[39m.\u001b[39medge_index)\n\u001b[0;32m---> 47\u001b[0m loss \u001b[39m=\u001b[39m F\u001b[39m.\u001b[39mcross_entropy(output[data\u001b[39m.\u001b[39;49mtrain_mask], data\u001b[39m.\u001b[39my[data\u001b[39m.\u001b[39mtrain_mask])\n\u001b[1;32m     48\u001b[0m pred \u001b[39m=\u001b[39m F\u001b[39m.\u001b[39mlog_softmax(output[data\u001b[39m.\u001b[39mtrain_mask], dim\u001b[39m=\u001b[39m\u001b[39m1\u001b[39m)\u001b[39m.\u001b[39margmax(dim\u001b[39m=\u001b[39m\u001b[39m1\u001b[39m)\n\u001b[1;32m     49\u001b[0m acc \u001b[39m=\u001b[39m accuracy(pred, data\u001b[39m.\u001b[39my[data\u001b[39m.\u001b[39mtrain_mask])\n",
      "File \u001b[0;32m~/Desktop/GitHubRepos/IterativeMethods/iterENV/lib/python3.8/site-packages/torch_geometric/data/data.py:441\u001b[0m, in \u001b[0;36mData.__getattr__\u001b[0;34m(self, key)\u001b[0m\n\u001b[1;32m    435\u001b[0m \u001b[39mif\u001b[39;00m \u001b[39m'\u001b[39m\u001b[39m_store\u001b[39m\u001b[39m'\u001b[39m \u001b[39mnot\u001b[39;00m \u001b[39min\u001b[39;00m \u001b[39mself\u001b[39m\u001b[39m.\u001b[39m\u001b[39m__dict__\u001b[39m:\n\u001b[1;32m    436\u001b[0m     \u001b[39mraise\u001b[39;00m \u001b[39mRuntimeError\u001b[39;00m(\n\u001b[1;32m    437\u001b[0m         \u001b[39m\"\u001b[39m\u001b[39mThe \u001b[39m\u001b[39m'\u001b[39m\u001b[39mdata\u001b[39m\u001b[39m'\u001b[39m\u001b[39m object was created by an older version of PyG. \u001b[39m\u001b[39m\"\u001b[39m\n\u001b[1;32m    438\u001b[0m         \u001b[39m\"\u001b[39m\u001b[39mIf this error occurred while loading an already existing \u001b[39m\u001b[39m\"\u001b[39m\n\u001b[1;32m    439\u001b[0m         \u001b[39m\"\u001b[39m\u001b[39mdataset, remove the \u001b[39m\u001b[39m'\u001b[39m\u001b[39mprocessed/\u001b[39m\u001b[39m'\u001b[39m\u001b[39m directory in the dataset\u001b[39m\u001b[39m'\u001b[39m\u001b[39ms \u001b[39m\u001b[39m\"\u001b[39m\n\u001b[1;32m    440\u001b[0m         \u001b[39m\"\u001b[39m\u001b[39mroot folder and try again.\u001b[39m\u001b[39m\"\u001b[39m)\n\u001b[0;32m--> 441\u001b[0m \u001b[39mreturn\u001b[39;00m \u001b[39mgetattr\u001b[39;49m(\u001b[39mself\u001b[39;49m\u001b[39m.\u001b[39;49m_store, key)\n",
      "File \u001b[0;32m~/Desktop/GitHubRepos/IterativeMethods/iterENV/lib/python3.8/site-packages/torch_geometric/data/storage.py:81\u001b[0m, in \u001b[0;36mBaseStorage.__getattr__\u001b[0;34m(self, key)\u001b[0m\n\u001b[1;32m     79\u001b[0m     \u001b[39mreturn\u001b[39;00m \u001b[39mself\u001b[39m[key]\n\u001b[1;32m     80\u001b[0m \u001b[39mexcept\u001b[39;00m \u001b[39mKeyError\u001b[39;00m:\n\u001b[0;32m---> 81\u001b[0m     \u001b[39mraise\u001b[39;00m \u001b[39mAttributeError\u001b[39;00m(\n\u001b[1;32m     82\u001b[0m         \u001b[39mf\u001b[39m\u001b[39m\"\u001b[39m\u001b[39m'\u001b[39m\u001b[39m{\u001b[39;00m\u001b[39mself\u001b[39m\u001b[39m.\u001b[39m\u001b[39m__class__\u001b[39m\u001b[39m.\u001b[39m\u001b[39m__name__\u001b[39m\u001b[39m}\u001b[39;00m\u001b[39m'\u001b[39m\u001b[39m object has no attribute \u001b[39m\u001b[39m'\u001b[39m\u001b[39m{\u001b[39;00mkey\u001b[39m}\u001b[39;00m\u001b[39m'\u001b[39m\u001b[39m\"\u001b[39m)\n",
      "\u001b[0;31mAttributeError\u001b[0m: 'GlobalStorage' object has no attribute 'train_mask'"
     ]
    }
   ],
   "source": [
    "wandb.init(config=hyper, job_type=\"debug\", project=\"IterativeMethods\", tags=[\"GAT\"])\n",
    "config = wandb.config\n",
    "train_schedule = make_uniform_schedule(config.num_iter_layers, config.smooth_fac)\n",
    "data, num_features, num_classes = make_Amazon_data(config)\n",
    "wandb.log({\n",
    "    'train_schedule': train_schedule\n",
    "})\n",
    "model = iterativeGAT(input_dim=num_features,\n",
    "                     output_dim=num_classes,\n",
    "                     hidden_dim=config.hid_dim,\n",
    "                     train_schedule=train_schedule,\n",
    "                     heads=8,\n",
    "                     dropout=0.6,\n",
    "                     attn_dropout_rate=0.6)\n",
    "exp_per_model(model, data, config)\n",
    "wandb.finish()"
   ]
  },
  {
   "cell_type": "code",
   "execution_count": null,
   "metadata": {
    "vscode": {
     "languageId": "javascript"
    }
   },
   "outputs": [],
   "source": [
    "wandb.init(config=hyper, \n",
    "               job_type=\"iterativeGAT\", \n",
    "               project=\"IterativeMethods\", \n",
    "               tags=[\"iterativeGCN\"])\n",
    "config = wandb.config\n",
    "train_schedule = make_uniform_schedule(config.num_iter_layers, config.smooth_fac)\n",
    "data, num_features, num_classes = make_Planetoid_data(config)\n",
    "wandb.log({\n",
    "    'train_schedule': train_schedule\n",
    "})\n",
    "\n",
    "model = iterativeGCN(input_dim=num_features,\n",
    "                                output_dim=num_classes,\n",
    "                                hidden_dim=config.hid_dim,\n",
    "                                train_schedule=train_schedule,\n",
    "                                dropout=config.dropout)\n",
    "exp_per_model(model, data, config)\n",
    "\n",
    "out = model(data.x, data.edge_index)\n",
    "mad1 = MAD(out.detach())\n",
    "mad2  =MAD(F.log_softmax(out, dim=1))\n",
    "mad3 = MAD(F.softmax(out, dim=1))\n",
    "// print(mad1)\n",
    "// print(mad2)\n",
    "print(mad3)\n",
    "\n",
    "wandb.finish()"
   ]
  },
  {
   "cell_type": "code",
   "execution_count": null,
   "metadata": {},
   "outputs": [],
   "source": [
    "wandb.init(job_type=\"over_smoothing\", \n",
    "               project=\"IterativeMethods\", \n",
    "               config=hyper, \n",
    "               notes=\"usualGCN\",\n",
    "               tags=[\"usualGCN\"])\n",
    "config = wandb.config\n",
    "model2 = GCN(input_dim=num_features,\n",
    "                                output_dim=num_classes,\n",
    "                                hidden_dim=config.hid_dim,\n",
    "                                num_layers=config.num_iter_layers,\n",
    "                                dropout=config.dropout,\n",
    "                                )\n",
    "exp_per_model(model2, data, config)\n",
    "out2 = model2(data.x, data.edge_index)\n",
    "\n",
    "mad1 = MAD(out2.detach())\n",
    "mad2 = MAD(F.log_softmax(out2, dim=1))\n",
    "mad3 = MAD(F.softmax(out2, dim=1))\n",
    "\n",
    "# print(mad1)\n",
    "# print(mad2)\n",
    "print(mad3)\n",
    "\n",
    "wandb.finish()"
   ]
  },
  {
   "cell_type": "code",
   "execution_count": null,
   "metadata": {},
   "outputs": [],
   "source": [
    "from sklearn.metrics.pairwise import cosine_similarity\n",
    "torch.set_printoptions(profile=\"full\", sci_mode=False, precision=4)\n",
    "np.set_printoptions(suppress=True)\n",
    "np.set_printoptions(threshold=sys.maxsize)\n",
    "out2 = model2(data.x, data.edge_index)\n",
    "D = 1 - cosine_similarity(out2.detach())\n",
    "print(D)"
   ]
  },
  {
   "attachments": {},
   "cell_type": "markdown",
   "metadata": {},
   "source": [
    "# other"
   ]
  },
  {
   "cell_type": "code",
   "execution_count": null,
   "metadata": {},
   "outputs": [],
   "source": [
    "iMAD = [0.7474, 0.7881, 0.8062, 0.8044, 0.8058, 0.8207, 0.8070, 0.7913, 0.8005, 0.8042, 0.8061, 0.7774, 0.7152, 0.7403, 0.8081, 0.7029, 0.7716, 0.7167, 0.7368]\n",
    "uMAD = [0.6512, 0.7687, 0.8147, 0.8125, 0.8088, 0.7588, 0.6406, 0.5322, 0.0153, 0.0537, 0.0821, 0.1540, 0.0249, 0.0858, 0.0728, 0.1526, 0.0537, 0.0227, 0.0252]\n",
    "x = np.arange(2, 21,1)"
   ]
  },
  {
   "cell_type": "code",
   "execution_count": null,
   "metadata": {},
   "outputs": [],
   "source": [
    "import matplotlib.pyplot as plt\n",
    "plt.plot(x, iMAD)\n",
    "plt.plot(x, uMAD)\n",
    "plt.ylabel('MAD')\n",
    "plt.xlabel('number of iteration/layer')\n",
    "xi = list(range(len(x)))\n",
    "plt.xticks(xi, x)"
   ]
  }
 ],
 "metadata": {
  "kernelspec": {
   "display_name": "iterENV",
   "language": "python",
   "name": "python3"
  },
  "language_info": {
   "codemirror_mode": {
    "name": "ipython",
    "version": 3
   },
   "file_extension": ".py",
   "mimetype": "text/x-python",
   "name": "python",
   "nbconvert_exporter": "python",
   "pygments_lexer": "ipython3",
   "version": "3.8.2"
  },
  "orig_nbformat": 4
 },
 "nbformat": 4,
 "nbformat_minor": 2
}
