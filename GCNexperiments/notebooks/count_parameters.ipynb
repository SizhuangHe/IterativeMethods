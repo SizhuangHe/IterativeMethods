{
 "cells": [
  {
   "cell_type": "code",
   "execution_count": 42,
   "metadata": {},
   "outputs": [
    {
     "data": {
      "text/plain": [
       "True"
      ]
     },
     "execution_count": 42,
     "metadata": {},
     "output_type": "execute_result"
    }
   ],
   "source": [
    "import pandas as pd\n",
    "import matplotlib.pyplot as plt\n",
    "import wandb\n",
    "\n",
    "import numpy as np\n",
    "import seaborn as sns\n",
    "from torch_geometric.datasets import Planetoid\n",
    "from torch_geometric.transforms import NormalizeFeatures\n",
    "\n",
    "import sys\n",
    "BASE_PATH = globals()['_dh'][0].parent.absolute()\n",
    "sys.path.insert(1, str(BASE_PATH))\n",
    "\n",
    "from src.utils.utils import count_parameters\n",
    "from src.models.models import GCN, GAT\n",
    "from src.models.iterativeModels import iterativeGCN, iterativeGAT\n",
    "from src.models.variantModels import iterativeGCN_variant\n",
    "from src.utils.wandb_analysis import get_metrics, get_clean_sweep_runs, get_sweep_info\n",
    "wandb.login()"
   ]
  },
  {
   "cell_type": "code",
   "execution_count": 53,
   "metadata": {},
   "outputs": [],
   "source": [
    "dataset = Planetoid(root='data/Planetoid/',\n",
    "                     name='CiteSeer',\n",
    "                     transform=NormalizeFeatures())\n",
    "num_features, num_classes = dataset.num_features, dataset.num_classes"
   ]
  },
  {
   "cell_type": "code",
   "execution_count": 34,
   "metadata": {},
   "outputs": [
    {
     "data": {
      "text/plain": [
       "18243"
      ]
     },
     "execution_count": 34,
     "metadata": {},
     "output_type": "execute_result"
    }
   ],
   "source": [
    "gcn = GCN(input_dim=num_features,\n",
    "          output_dim=num_classes,\n",
    "          hidden_dim=32,\n",
    "          num_layers=4,\n",
    "          dropout=0.5)\n",
    "count_parameters(gcn)"
   ]
  },
  {
   "cell_type": "code",
   "execution_count": 35,
   "metadata": {},
   "outputs": [
    {
     "data": {
      "text/plain": [
       "17187"
      ]
     },
     "execution_count": 35,
     "metadata": {},
     "output_type": "execute_result"
    }
   ],
   "source": [
    "igcn = iterativeGCN(input_dim=num_features,\n",
    "                    output_dim=num_classes,\n",
    "                    hidden_dim=32,\n",
    "                    dropout=0.5,\n",
    "                    train_schedule=None\n",
    ")\n",
    "count_parameters(igcn)"
   ]
  },
  {
   "cell_type": "code",
   "execution_count": 54,
   "metadata": {},
   "outputs": [
    {
     "data": {
      "text/plain": [
       "271442"
      ]
     },
     "execution_count": 54,
     "metadata": {},
     "output_type": "execute_result"
    }
   ],
   "source": [
    "gat = GAT(num_node_features=num_features, \n",
    "          hidden_dim=8,\n",
    "          output_dim=num_classes,\n",
    "          num_layers=3,\n",
    "          attn_dropout_rate=0.6,\n",
    "          dropout=0.6,\n",
    "          heads=8)\n",
    "count_parameters(gat)"
   ]
  },
  {
   "cell_type": "code",
   "execution_count": 55,
   "metadata": {},
   "outputs": [
    {
     "data": {
      "text/plain": [
       "271302"
      ]
     },
     "execution_count": 55,
     "metadata": {},
     "output_type": "execute_result"
    }
   ],
   "source": [
    "igat = iterativeGAT(input_dim=num_features,\n",
    "                    output_dim=num_classes,\n",
    "                    hidden_dim=64,\n",
    "                    heads=8,\n",
    "                    attn_dropout_rate=0.6,\n",
    "                    dropout=0.6,\n",
    "                    train_schedule=None)\n",
    "count_parameters(igat)"
   ]
  },
  {
   "cell_type": "code",
   "execution_count": 48,
   "metadata": {},
   "outputs": [
    {
     "data": {
      "text/plain": [
       "17187"
      ]
     },
     "execution_count": 48,
     "metadata": {},
     "output_type": "execute_result"
    }
   ],
   "source": [
    "igcnv = iterativeGCN_variant(input_dim=num_features,\n",
    "                             output_dim=num_classes,\n",
    "                             hidden_dim=32,\n",
    "                             train_schedule=None,\n",
    "                             dropout=0.5)\n",
    "count_parameters(igcnv)"
   ]
  }
 ],
 "metadata": {
  "kernelspec": {
   "display_name": "iterENV",
   "language": "python",
   "name": "python3"
  },
  "language_info": {
   "codemirror_mode": {
    "name": "ipython",
    "version": 3
   },
   "file_extension": ".py",
   "mimetype": "text/x-python",
   "name": "python",
   "nbconvert_exporter": "python",
   "pygments_lexer": "ipython3",
   "version": "3.8.2"
  },
  "orig_nbformat": 4
 },
 "nbformat": 4,
 "nbformat_minor": 2
}
