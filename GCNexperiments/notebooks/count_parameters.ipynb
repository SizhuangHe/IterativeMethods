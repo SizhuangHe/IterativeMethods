{
 "cells": [
  {
   "cell_type": "code",
   "execution_count": 6,
   "metadata": {},
   "outputs": [
    {
     "data": {
      "text/plain": [
       "True"
      ]
     },
     "execution_count": 6,
     "metadata": {},
     "output_type": "execute_result"
    }
   ],
   "source": [
    "import pandas as pd\n",
    "import matplotlib.pyplot as plt\n",
    "import wandb\n",
    "\n",
    "import numpy as np\n",
    "import seaborn as sns\n",
    "from torch_geometric.datasets import Planetoid\n",
    "from torch_geometric.transforms import NormalizeFeatures\n",
    "\n",
    "import sys\n",
    "BASE_PATH = globals()['_dh'][0].parent.absolute()\n",
    "sys.path.insert(1, str(BASE_PATH))\n",
    "\n",
    "from src.utils.utils import count_parameters\n",
    "from src.models.models import GCN, GAT\n",
    "from src.models.iterativeModels import iterativeGCN, iterativeGAT\n",
    "from src.models.variantModels import iterativeGCN_variant\n",
    "from src.utils.wandb_analysis import get_metrics, get_clean_sweep_runs, get_sweep_info\n",
    "wandb.login()"
   ]
  },
  {
   "cell_type": "code",
   "execution_count": 7,
   "metadata": {},
   "outputs": [],
   "source": [
    "dataset = Planetoid(root='data/Planetoid/',\n",
    "                     name='Cora',\n",
    "                     transform=NormalizeFeatures())\n",
    "num_features, num_classes = dataset.num_features, dataset.num_classes"
   ]
  },
  {
   "cell_type": "code",
   "execution_count": null,
   "metadata": {},
   "outputs": [],
   "source": [
    "gcn = GCN(input_dim=num_features,\n",
    "          output_dim=num_classes,\n",
    "          hidden_dim=32,\n",
    "          num_layers=4,\n",
    "          dropout=0.5)\n",
    "count_parameters(gcn)"
   ]
  },
  {
   "cell_type": "code",
   "execution_count": null,
   "metadata": {},
   "outputs": [],
   "source": [
    "igcn = iterativeGCN(input_dim=num_features,\n",
    "                    output_dim=num_classes,\n",
    "                    hidden_dim=32,\n",
    "                    dropout=0.5,\n",
    "                    train_schedule=None\n",
    ")\n",
    "count_parameters(igcn)"
   ]
  },
  {
   "cell_type": "code",
   "execution_count": 76,
   "metadata": {},
   "outputs": [
    {
     "name": "stdout",
     "output_type": "stream",
     "text": [
      "number of parameters: 92373\n",
      "Size:torch.Size([1, 8, 8]), 64\n",
      "Size:torch.Size([1, 8, 8]), 64\n",
      "Size:torch.Size([64]), 64\n",
      "Size:torch.Size([64, 1433]), 91712\n",
      "Size:torch.Size([1, 1, 7]), 7\n",
      "Size:torch.Size([1, 1, 7]), 7\n",
      "Size:torch.Size([7]), 7\n",
      "Size:torch.Size([7, 64]), 448\n"
     ]
    }
   ],
   "source": [
    "gat = GAT(num_node_features=num_features, \n",
    "          hidden_dim=8,\n",
    "          output_dim=num_classes,\n",
    "          num_layers=2,\n",
    "          attn_dropout_rate=0.6,\n",
    "          dropout=0.6,\n",
    "          heads=8)\n",
    "print(\"number of parameters: {}\".format(count_parameters(gat)))\n",
    "for p in gat.parameters():\n",
    "    print(\"Size:{}, {}\".format(p.size(), p.size().numel()))"
   ]
  },
  {
   "cell_type": "code",
   "execution_count": 78,
   "metadata": {},
   "outputs": [
    {
     "name": "stdout",
     "output_type": "stream",
     "text": [
      "number of parameters: 126087\n",
      "Size:torch.Size([64, 1433]), 91712\n",
      "Size:torch.Size([64]), 64\n",
      "Size:torch.Size([1, 8, 64]), 512\n",
      "Size:torch.Size([1, 8, 64]), 512\n",
      "Size:torch.Size([64]), 64\n",
      "Size:torch.Size([512, 64]), 32768\n",
      "Size:torch.Size([7, 64]), 448\n",
      "Size:torch.Size([7]), 7\n"
     ]
    }
   ],
   "source": [
    "igat = iterativeGAT(input_dim=num_features,\n",
    "                    output_dim=num_classes,\n",
    "                    hidden_dim=64,\n",
    "                    heads=8,\n",
    "                    attn_dropout_rate=0.6,\n",
    "                    dropout=0.6,\n",
    "                    train_schedule=None)\n",
    "print(\"number of parameters: {}\".format(count_parameters(igat)))\n",
    "for p in igat.parameters():\n",
    "    print(\"Size:{}, {}\".format(p.size(), p.size().numel()))"
   ]
  },
  {
   "cell_type": "code",
   "execution_count": 68,
   "metadata": {},
   "outputs": [
    {
     "name": "stdout",
     "output_type": "stream",
     "text": [
      "torch.Size([1, 10, 9])\n",
      "torch.Size([1, 10, 9])\n",
      "torch.Size([90])\n",
      "torch.Size([90, 1433])\n"
     ]
    }
   ],
   "source": [
    "from torch_geometric.nn import GATConv\n",
    "dataset = Planetoid(root='data/Planetoid/',\n",
    "                     name='Cora',\n",
    "                     transform=NormalizeFeatures())\n",
    "data = dataset[0]\n",
    "gc = GATConv(in_channels=1433,\n",
    "             out_channels=9,\n",
    "             heads=10,\n",
    "             concat=True\n",
    "             )\n",
    "count_parameters(gc)\n",
    "for p in gc.parameters():\n",
    "    if p.requires_grad:\n",
    "        print(p.size())"
   ]
  },
  {
   "cell_type": "code",
   "execution_count": 48,
   "metadata": {},
   "outputs": [
    {
     "data": {
      "text/plain": [
       "17187"
      ]
     },
     "execution_count": 48,
     "metadata": {},
     "output_type": "execute_result"
    }
   ],
   "source": [
    "igcnv = iterativeGCN_variant(input_dim=num_features,\n",
    "                             output_dim=num_classes,\n",
    "                             hidden_dim=32,\n",
    "                             train_schedule=None,\n",
    "                             dropout=0.5)\n",
    "count_parameters(igcnv)"
   ]
  },
  {
   "cell_type": "code",
   "execution_count": 79,
   "metadata": {},
   "outputs": [],
   "source": [
    "from src.utils.metrics import MAD\n",
    "from src.models.iterativeModels import iterativeGCN_inductive\n",
    "from src.utils.utils import exp_mol, make_uniform_schedule\n",
    "from ogb.graphproppred import PygGraphPropPredDataset, Evaluator\n",
    "from torch_geometric.loader import DataLoader\n",
    "\n",
    "dataset = PygGraphPropPredDataset(name='ogbg-molhiv') \n",
    "split_idx = dataset.get_idx_split() \n",
    "train_loader = DataLoader(dataset[split_idx[\"train\"]], batch_size=32, shuffle=True)\n",
    "valid_loader = DataLoader(dataset[split_idx[\"valid\"]], batch_size=32, shuffle=False)\n",
    "test_loader = DataLoader(dataset[split_idx[\"test\"]], batch_size=32, shuffle=False)\n",
    "evaluator = Evaluator(name=\"ogbg-molhiv\")\n"
   ]
  },
  {
   "cell_type": "code",
   "execution_count": 80,
   "metadata": {},
   "outputs": [
    {
     "data": {
      "text/plain": [
       "507001"
      ]
     },
     "execution_count": 80,
     "metadata": {},
     "output_type": "execute_result"
    }
   ],
   "source": [
    "from src.models.models import GCN_inductive\n",
    "from src.utils.utils import count_parameters\n",
    "model = GCN_inductive(\n",
    "            num_tasks=dataset.num_tasks,\n",
    "            hidden_dim=300,\n",
    "            num_layers=5,\n",
    "            dropout=0.5)\n",
    "count_parameters(model)"
   ]
  },
  {
   "cell_type": "code",
   "execution_count": 92,
   "metadata": {},
   "outputs": [
    {
     "data": {
      "text/plain": [
       "506169"
      ]
     },
     "execution_count": 92,
     "metadata": {},
     "output_type": "execute_result"
    }
   ],
   "source": [
    "from src.models.iterativeModels import iterativeGCN_inductive\n",
    "model_i = iterativeGCN_inductive(\n",
    "    num_tasks=dataset.num_tasks,\n",
    "    hidden_dim=628,\n",
    "    train_schedule=None\n",
    ")\n",
    "count_parameters(model_i)"
   ]
  }
 ],
 "metadata": {
  "kernelspec": {
   "display_name": "iterENV",
   "language": "python",
   "name": "python3"
  },
  "language_info": {
   "codemirror_mode": {
    "name": "ipython",
    "version": 3
   },
   "file_extension": ".py",
   "mimetype": "text/x-python",
   "name": "python",
   "nbconvert_exporter": "python",
   "pygments_lexer": "ipython3",
   "version": "3.8.2"
  },
  "orig_nbformat": 4
 },
 "nbformat": 4,
 "nbformat_minor": 2
}
