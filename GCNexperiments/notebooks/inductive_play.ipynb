{
 "cells": [
  {
   "cell_type": "code",
   "execution_count": 1,
   "metadata": {},
   "outputs": [
    {
     "name": "stderr",
     "output_type": "stream",
     "text": [
      "/Users/sizhuang/Desktop/GitHubRepos/IterativeMethods/iterENV/lib/python3.8/site-packages/urllib3/__init__.py:34: NotOpenSSLWarning: urllib3 v2.0 only supports OpenSSL 1.1.1+, currently the 'ssl' module is compiled with 'LibreSSL 2.8.3'. See: https://github.com/urllib3/urllib3/issues/3020\n",
      "  warnings.warn(\n"
     ]
    }
   ],
   "source": [
    "import torch\n",
    "from tqdm import tqdm\n",
    "from ogb.graphproppred import Evaluator\n",
    "import torch.optim as optim\n",
    "import wandb\n",
    "from ogb.graphproppred import PygGraphPropPredDataset\n",
    "from torch_geometric.loader import DataLoader\n",
    "import sys\n",
    "BASE_PATH = globals()['_dh'][0].parent.absolute()\n",
    "sys.path.insert(1, str(BASE_PATH))\n",
    "from src.models.models import GCN_inductive, GAT\n",
    "import torch.nn.functional as F"
   ]
  },
  {
   "cell_type": "code",
   "execution_count": 16,
   "metadata": {},
   "outputs": [],
   "source": [
    "def train_inductive_epoch(model, loader, optimizer):\n",
    "    model.train()\n",
    "    criterion = torch.nn.BCEWithLogitsLoss()\n",
    "    for step, batched_data in enumerate(tqdm(loader, desc=\"Iteration\")):  # Iterate in batches over the training dataset.\n",
    "        \n",
    "        pred = model(batched_data.x, batched_data.edge_index, batched_data.batch)\n",
    "        ## ignore nan targets (unlabeled) when computing training loss.\n",
    "        is_labeled = batched_data.y == batched_data.y\n",
    "        loss = criterion(pred.to(torch.float32)[is_labeled], batched_data.y.to(torch.float32)[is_labeled])\n",
    "        optimizer.zero_grad()  \n",
    "        loss.backward() \n",
    "        optimizer.step()"
   ]
  },
  {
   "cell_type": "code",
   "execution_count": 29,
   "metadata": {},
   "outputs": [
    {
     "name": "stdout",
     "output_type": "stream",
     "text": [
      "Downloading http://snap.stanford.edu/ogb/data/graphproppred/csv_mol_download/hiv.zip\n"
     ]
    },
    {
     "name": "stderr",
     "output_type": "stream",
     "text": [
      "Downloaded 0.00 GB: 100%|██████████| 3/3 [00:05<00:00,  1.68s/it]\n",
      "Processing...\n"
     ]
    },
    {
     "name": "stdout",
     "output_type": "stream",
     "text": [
      "Extracting dataset/hiv.zip\n",
      "Loading necessary files...\n",
      "This might take a while.\n",
      "Processing graphs...\n"
     ]
    },
    {
     "name": "stderr",
     "output_type": "stream",
     "text": [
      "100%|██████████| 41127/41127 [00:00<00:00, 62966.00it/s]\n"
     ]
    },
    {
     "name": "stdout",
     "output_type": "stream",
     "text": [
      "Converting graphs into PyG objects...\n"
     ]
    },
    {
     "name": "stderr",
     "output_type": "stream",
     "text": [
      "100%|██████████| 41127/41127 [00:01<00:00, 24169.78it/s]\n"
     ]
    },
    {
     "name": "stdout",
     "output_type": "stream",
     "text": [
      "Saving...\n"
     ]
    },
    {
     "name": "stderr",
     "output_type": "stream",
     "text": [
      "Done!\n"
     ]
    }
   ],
   "source": [
    "dataset = PygGraphPropPredDataset(name = \"ogbg-molhiv\") \n",
    "split_idx = dataset.get_idx_split() \n",
    "train_loader = DataLoader(dataset[split_idx[\"train\"]], batch_size=32, shuffle=True)\n",
    "valid_loader = DataLoader(dataset[split_idx[\"valid\"]], batch_size=32, shuffle=False)\n",
    "test_loader = DataLoader(dataset[split_idx[\"test\"]], batch_size=32, shuffle=False)\n",
    "item = next(iter(train_loader))"
   ]
  },
  {
   "cell_type": "code",
   "execution_count": 30,
   "metadata": {},
   "outputs": [
    {
     "data": {
      "text/plain": [
       "1"
      ]
     },
     "execution_count": 30,
     "metadata": {},
     "output_type": "execute_result"
    }
   ],
   "source": [
    "dataset.num_tasks"
   ]
  },
  {
   "cell_type": "code",
   "execution_count": null,
   "metadata": {},
   "outputs": [],
   "source": [
    "item"
   ]
  },
  {
   "cell_type": "code",
   "execution_count": 31,
   "metadata": {},
   "outputs": [],
   "source": [
    "model = GCN_inductive(\n",
    "            num_tasks=dataset.num_tasks,\n",
    "            hidden_dim=32,\n",
    "            num_layers=2,\n",
    "            dropout=0.5)"
   ]
  },
  {
   "cell_type": "code",
   "execution_count": 4,
   "metadata": {},
   "outputs": [
    {
     "data": {
      "text/plain": [
       "\"==== Expected input format of Evaluator for ogbg-molpcba\\n{'y_true': y_true, 'y_pred': y_pred}\\n- y_true: numpy ndarray or torch tensor of shape (num_graphs, num_tasks)\\n- y_pred: numpy ndarray or torch tensor of shape (num_graphs, num_tasks)\\nwhere y_pred stores score values (for computing AUC score),\\nnum_task is 128, and each row corresponds to one graph.\\nnan values in y_true are ignored during evaluation.\\n\""
      ]
     },
     "execution_count": 4,
     "metadata": {},
     "output_type": "execute_result"
    }
   ],
   "source": [
    "evaluator = Evaluator(name=\"ogbg-molpcba\")\n",
    "evaluator.expected_input_format"
   ]
  },
  {
   "cell_type": "code",
   "execution_count": 6,
   "metadata": {},
   "outputs": [],
   "source": [
    "pred = model(item.x, item.edge_index, item.batch)"
   ]
  },
  {
   "cell_type": "code",
   "execution_count": 9,
   "metadata": {},
   "outputs": [
    {
     "data": {
      "text/plain": [
       "DataBatch(edge_index=[2, 1742], edge_attr=[1742, 3], x=[805, 9], y=[32, 128], num_nodes=805, batch=[805], ptr=[33])"
      ]
     },
     "execution_count": 9,
     "metadata": {},
     "output_type": "execute_result"
    }
   ],
   "source": [
    "# pred = F.log_softmax(pred, dim=1).argmax(dim=1)\n",
    "criterion= torch.nn.BCEWithLogitsLoss()\n",
    "is_labeled = item.y == item.y\n",
    "item"
   ]
  },
  {
   "cell_type": "code",
   "execution_count": null,
   "metadata": {},
   "outputs": [],
   "source": [
    "print(is_labeled.size())\n",
    "print(pred.size())"
   ]
  },
  {
   "cell_type": "code",
   "execution_count": null,
   "metadata": {},
   "outputs": [],
   "source": [
    "item.y.size()"
   ]
  },
  {
   "cell_type": "code",
   "execution_count": 10,
   "metadata": {},
   "outputs": [
    {
     "data": {
      "text/plain": [
       "tensor(0.7056, grad_fn=<BinaryCrossEntropyWithLogitsBackward0>)"
      ]
     },
     "execution_count": 10,
     "metadata": {},
     "output_type": "execute_result"
    }
   ],
   "source": [
    "criterion(pred[is_labeled], item.y.to(torch.float32)[is_labeled])\n"
   ]
  },
  {
   "cell_type": "code",
   "execution_count": null,
   "metadata": {},
   "outputs": [],
   "source": [
    "data_details = {\n",
    "    \"num_node_features\": dataset.num_node_features,\n",
    "    \"num_edge_features\": dataset.num_edge_features,\n",
    "    \"num_classes\": dataset.num_classes\n",
    "}"
   ]
  },
  {
   "cell_type": "code",
   "execution_count": 12,
   "metadata": {},
   "outputs": [],
   "source": [
    "config = {\n",
    "    'num_epochs': 200,\n",
    "    'dataset_name': \"Computers\",\n",
    "    'noise_percent': 0,\n",
    "    'hid_dim': 32,\n",
    "    'num_iter_layers': 6,\n",
    "    'smooth_fac': 0.8,\n",
    "    'dropout': 0.5,\n",
    "    'learning_rate': 0.01,\n",
    "    'weight_decay': 4e-4\n",
    "} "
   ]
  },
  {
   "cell_type": "code",
   "execution_count": 32,
   "metadata": {},
   "outputs": [
    {
     "name": "stderr",
     "output_type": "stream",
     "text": [
      "Iteration: 100%|██████████| 1029/1029 [00:14<00:00, 73.15it/s]\n"
     ]
    }
   ],
   "source": [
    "optimizer = optim.Adam(model.parameters(), lr=config[\"learning_rate\"], weight_decay=config[\"weight_decay\"])\n",
    "train_inductive_epoch(model, loader=train_loader, optimizer=optimizer)"
   ]
  },
  {
   "cell_type": "code",
   "execution_count": 20,
   "metadata": {},
   "outputs": [],
   "source": [
    "def train_inductive_epoch(model, loader, optimizer):\n",
    "    model.train()\n",
    "    criterion = torch.nn.BCEWithLogitsLoss()\n",
    "    for step, batched_data in enumerate(tqdm(loader, desc=\"Iteration\")):  # Iterate in batches over the training dataset.\n",
    "        \n",
    "        pred = model(batched_data.x, batched_data.edge_index, batched_data.batch)\n",
    "        ## ignore nan targets (unlabeled) when computing training loss.\n",
    "        is_labeled = batched_data.y == batched_data.y\n",
    "        loss = criterion(pred.to(torch.float32)[is_labeled], batched_data.y.to(torch.float32)[is_labeled])\n",
    "        optimizer.zero_grad()  \n",
    "        loss.backward() \n",
    "        optimizer.step()\n",
    "        \n",
    "def eval_inductive(model, loader, evaluator):\n",
    "    model.eval()\n",
    "    y_true = []\n",
    "    y_pred = []\n",
    "    for step, batched_data in enumerate(tqdm(loader, desc=\"Iteration\")):\n",
    "        with torch.no_grad():\n",
    "            pred = model(batched_data.x, batched_data.edge_index, batched_data.batch)\n",
    "            y_true.append(batched_data.y.view(pred.shape).detach())\n",
    "            y_pred.append(pred.detach())\n",
    "    y_true = torch.cat(y_true, dim = 0).numpy()\n",
    "    y_pred = torch.cat(y_pred, dim = 0).numpy()\n",
    "    input_dict = {\"y_true\": y_true, \"y_pred\": y_pred}\n",
    "    return evaluator.eval(input_dict)"
   ]
  },
  {
   "cell_type": "code",
   "execution_count": null,
   "metadata": {},
   "outputs": [],
   "source": []
  },
  {
   "cell_type": "code",
   "execution_count": 34,
   "metadata": {},
   "outputs": [
    {
     "name": "stderr",
     "output_type": "stream",
     "text": [
      "Iteration: 100%|██████████| 129/129 [00:01<00:00, 101.45it/s]\n"
     ]
    },
    {
     "ename": "RuntimeError",
     "evalue": "Number of tasks for ogbg-molpcba should be 128 but 1 given",
     "output_type": "error",
     "traceback": [
      "\u001b[0;31m---------------------------------------------------------------------------\u001b[0m",
      "\u001b[0;31mRuntimeError\u001b[0m                              Traceback (most recent call last)",
      "Cell \u001b[0;32mIn[34], line 1\u001b[0m\n\u001b[0;32m----> 1\u001b[0m e \u001b[39m=\u001b[39m eval_inductive(model, valid_loader, evaluator)\n",
      "Cell \u001b[0;32mIn[20], line 13\u001b[0m, in \u001b[0;36meval_inductive\u001b[0;34m(model, loader, evaluator)\u001b[0m\n\u001b[1;32m     11\u001b[0m y_pred \u001b[39m=\u001b[39m torch\u001b[39m.\u001b[39mcat(y_pred, dim \u001b[39m=\u001b[39m \u001b[39m0\u001b[39m)\u001b[39m.\u001b[39mnumpy()\n\u001b[1;32m     12\u001b[0m input_dict \u001b[39m=\u001b[39m {\u001b[39m\"\u001b[39m\u001b[39my_true\u001b[39m\u001b[39m\"\u001b[39m: y_true, \u001b[39m\"\u001b[39m\u001b[39my_pred\u001b[39m\u001b[39m\"\u001b[39m: y_pred}\n\u001b[0;32m---> 13\u001b[0m \u001b[39mreturn\u001b[39;00m evaluator\u001b[39m.\u001b[39;49meval(input_dict)\n",
      "File \u001b[0;32m~/Desktop/GitHubRepos/IterativeMethods/iterENV/lib/python3.8/site-packages/ogb/graphproppred/evaluate.py:95\u001b[0m, in \u001b[0;36mEvaluator.eval\u001b[0;34m(self, input_dict)\u001b[0m\n\u001b[1;32m     93\u001b[0m     \u001b[39mreturn\u001b[39;00m \u001b[39mself\u001b[39m\u001b[39m.\u001b[39m_eval_rocauc(y_true, y_pred)\n\u001b[1;32m     94\u001b[0m \u001b[39mif\u001b[39;00m \u001b[39mself\u001b[39m\u001b[39m.\u001b[39meval_metric \u001b[39m==\u001b[39m \u001b[39m'\u001b[39m\u001b[39map\u001b[39m\u001b[39m'\u001b[39m:\n\u001b[0;32m---> 95\u001b[0m     y_true, y_pred \u001b[39m=\u001b[39m \u001b[39mself\u001b[39;49m\u001b[39m.\u001b[39;49m_parse_and_check_input(input_dict)\n\u001b[1;32m     96\u001b[0m     \u001b[39mreturn\u001b[39;00m \u001b[39mself\u001b[39m\u001b[39m.\u001b[39m_eval_ap(y_true, y_pred)\n\u001b[1;32m     97\u001b[0m \u001b[39melif\u001b[39;00m \u001b[39mself\u001b[39m\u001b[39m.\u001b[39meval_metric \u001b[39m==\u001b[39m \u001b[39m'\u001b[39m\u001b[39mrmse\u001b[39m\u001b[39m'\u001b[39m:\n",
      "File \u001b[0;32m~/Desktop/GitHubRepos/IterativeMethods/iterENV/lib/python3.8/site-packages/ogb/graphproppred/evaluate.py:62\u001b[0m, in \u001b[0;36mEvaluator._parse_and_check_input\u001b[0;34m(self, input_dict)\u001b[0m\n\u001b[1;32m     59\u001b[0m         \u001b[39mraise\u001b[39;00m \u001b[39mRuntimeError\u001b[39;00m(\u001b[39m'\u001b[39m\u001b[39my_true and y_pred mush to 2-dim arrray, \u001b[39m\u001b[39m{}\u001b[39;00m\u001b[39m-dim array given\u001b[39m\u001b[39m'\u001b[39m\u001b[39m.\u001b[39mformat(y_true\u001b[39m.\u001b[39mndim))\n\u001b[1;32m     61\u001b[0m     \u001b[39mif\u001b[39;00m \u001b[39mnot\u001b[39;00m y_true\u001b[39m.\u001b[39mshape[\u001b[39m1\u001b[39m] \u001b[39m==\u001b[39m \u001b[39mself\u001b[39m\u001b[39m.\u001b[39mnum_tasks:\n\u001b[0;32m---> 62\u001b[0m         \u001b[39mraise\u001b[39;00m \u001b[39mRuntimeError\u001b[39;00m(\u001b[39m'\u001b[39m\u001b[39mNumber of tasks for \u001b[39m\u001b[39m{}\u001b[39;00m\u001b[39m should be \u001b[39m\u001b[39m{}\u001b[39;00m\u001b[39m but \u001b[39m\u001b[39m{}\u001b[39;00m\u001b[39m given\u001b[39m\u001b[39m'\u001b[39m\u001b[39m.\u001b[39mformat(\u001b[39mself\u001b[39m\u001b[39m.\u001b[39mname, \u001b[39mself\u001b[39m\u001b[39m.\u001b[39mnum_tasks, y_true\u001b[39m.\u001b[39mshape[\u001b[39m1\u001b[39m]))\n\u001b[1;32m     64\u001b[0m     \u001b[39mreturn\u001b[39;00m y_true, y_pred\n\u001b[1;32m     66\u001b[0m \u001b[39melif\u001b[39;00m \u001b[39mself\u001b[39m\u001b[39m.\u001b[39meval_metric \u001b[39m==\u001b[39m \u001b[39m'\u001b[39m\u001b[39mF1\u001b[39m\u001b[39m'\u001b[39m:\n",
      "\u001b[0;31mRuntimeError\u001b[0m: Number of tasks for ogbg-molpcba should be 128 but 1 given"
     ]
    }
   ],
   "source": [
    "e = eval_inductive(model, valid_loader, evaluator)"
   ]
  },
  {
   "cell_type": "code",
   "execution_count": 35,
   "metadata": {},
   "outputs": [
    {
     "data": {
      "text/plain": [
       "{'ap': 0.04068080172612249}"
      ]
     },
     "execution_count": 35,
     "metadata": {},
     "output_type": "execute_result"
    }
   ],
   "source": [
    "e"
   ]
  },
  {
   "cell_type": "code",
   "execution_count": null,
   "metadata": {},
   "outputs": [],
   "source": [
    "def train_inductive(model, train_loader, valid_loader, config):\n",
    "    wandb.watch(model, log=\"all\", log_freq=10)\n",
    "    optimizer = optim.Adam(model.parameters(), lr=config.learning_rate, weight_decay=config.weight_decay)\n",
    "    for epoch in range(config.num_epochs):\n",
    "        train_inductive_epoch(model, train_loader, optimizer)\n",
    "        ap = eval_inductive(model, valid_loader, evaluator)\n",
    "        wandb.log({\n",
    "            \"Validate ap\": ap\n",
    "        })\n"
   ]
  }
 ],
 "metadata": {
  "kernelspec": {
   "display_name": "iterENV",
   "language": "python",
   "name": "python3"
  },
  "language_info": {
   "codemirror_mode": {
    "name": "ipython",
    "version": 3
   },
   "file_extension": ".py",
   "mimetype": "text/x-python",
   "name": "python",
   "nbconvert_exporter": "python",
   "pygments_lexer": "ipython3",
   "version": "3.8.2"
  },
  "orig_nbformat": 4
 },
 "nbformat": 4,
 "nbformat_minor": 2
}
