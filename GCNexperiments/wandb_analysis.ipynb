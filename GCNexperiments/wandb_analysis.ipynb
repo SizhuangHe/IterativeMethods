{
 "cells": [
  {
   "attachments": {},
   "cell_type": "markdown",
   "metadata": {},
   "source": [
    "In this notebook, we visualize some sweep results.\n",
    "We create boxplots for each noise levels and both models to see:\n",
    "- The performance of both models\n",
    "- How performance relate to the number of iterations/layers"
   ]
  },
  {
   "cell_type": "code",
   "execution_count": null,
   "metadata": {},
   "outputs": [],
   "source": [
    "import pandas as pd\n",
    "import matplotlib.pyplot as plt\n",
    "import wandb\n",
    "import numpy as np\n",
    "import seaborn as sns\n",
    "from wandb_analysis import get_metrics\n",
    "wandb.login()"
   ]
  },
  {
   "cell_type": "code",
   "execution_count": null,
   "metadata": {},
   "outputs": [],
   "source": [
    "usual_sweeps = [\n",
    "\"yb9nj1j5\", # noise 0\n",
    "\"s29ovdjm\", # noise 1\n",
    "\"io2roeki\", # noise 2\n",
    "\"ni1y0i2n\", # noise 3\n",
    "\"c1v5292z\", # noise 4\n",
    "\"f3kaci4y\", # noise 5\n",
    "\"91g554g5\", # noise 6\n",
    "\"zgyfs4la\"  # noise 7\n",
    "]\n",
    "\n",
    "iterative_sweeps = [\n",
    "\"8b5samb8\", # noise 0\n",
    "\"4013a4eg\", # noise 1 \n",
    "\"y4prhi94\", # noise 2\n",
    "\"el1u1dr4\", # noise 3\n",
    "\"4mlrggda\", # noise 4\n",
    "\"qspwm421\", # noise 5\n",
    "\"36x0z5q4\", # noise 6\n",
    "\"823rcbn7\"  # noise 7  \n",
    "]\n",
    "\n",
    "variant_sweeps = [\n",
    "\"nhj93ccd\",\n",
    "\"z35d1w5v\"\n",
    "]"
   ]
  },
  {
   "attachments": {},
   "cell_type": "markdown",
   "metadata": {},
   "source": [
    "# Plot barplots for one for each noise levels"
   ]
  },
  {
   "cell_type": "code",
   "execution_count": null,
   "metadata": {},
   "outputs": [],
   "source": [
    "for noise_level, sweep_id in enumerate(usual_sweeps):\n",
    "    ta, ni = get_metrics(sweep_id)\n",
    "    data = pd.DataFrame({\n",
    "    \"test accuracy\": ta,\n",
    "    \"number of layers\": ni\n",
    "    })\n",
    "    plt.figure()\n",
    "    sns.set(style=\"darkgrid\")\n",
    "    sns.boxplot(x='number of layers',\n",
    "            y=\"test accuracy\",\n",
    "            data=data,\n",
    "            width=0.4,\n",
    "            flierprops={\"marker\": \"x\"},\n",
    "            medianprops={\"color\": \"red\"},\n",
    "            color=\"royalblue\"\n",
    "            ).set(title=\"GCN, noise level: \"+str(noise_level/10))"
   ]
  },
  {
   "attachments": {},
   "cell_type": "markdown",
   "metadata": {},
   "source": [
    "# Plot boxplots for both models in one graph for each noise level"
   ]
  },
  {
   "cell_type": "code",
   "execution_count": null,
   "metadata": {},
   "outputs": [],
   "source": [
    "for noise_level, (usual_sweep_id, iterative_sweep_id) in enumerate(zip(usual_sweeps, iterative_sweeps)):\n",
    "    u_ta, u_nl = get_metrics(usual_sweep_id)\n",
    "    u_model = [\"GCN\"] * len(u_nl)\n",
    "    i_ta, i_ni = get_metrics(iterative_sweep_id)\n",
    "    i_model = [\"iterativeGCN\"] * len(i_ni)\n",
    "    \n",
    "    ta = u_ta + i_ta\n",
    "    ni = u_nl + i_ni\n",
    "    md = u_model + i_model\n",
    "    assert len(ta) == len(u_ta) + len(i_ta)\n",
    "    assert len(ni) == len(u_nl) + len(i_ni)\n",
    "    assert len(md) == len(u_model) + len(i_model)\n",
    "\n",
    "    data = pd.DataFrame({\n",
    "    \"test accuracy\": ta,\n",
    "    \"number of iterations/layers\": ni,\n",
    "    \"model type\": md\n",
    "    })\n",
    "    plt.figure()\n",
    "    sns.set(style=\"darkgrid\")\n",
    "    bp = sns.boxplot(x='number of iterations/layers',\n",
    "            y=\"test accuracy\",\n",
    "            data=data,\n",
    "            width=0.5,\n",
    "            hue=\"model type\",\n",
    "            flierprops={\"marker\": \"x\"},\n",
    "            medianprops={\"color\": \"red\"},\n",
    "            color=\"royalblue\"\n",
    "            )\n",
    "    bp.set(title=\"noise level: \"+str(noise_level/10))\n",
    "    sns.move_legend(bp, loc=(1.02, 1))\n",
    "    fig = bp.get_figure()\n",
    "    name = \"noise_level_\"+str(noise_level/10)+\".png\"\n",
    "    fig.savefig(name)"
   ]
  }
 ],
 "metadata": {
  "kernelspec": {
   "display_name": "iterENV",
   "language": "python",
   "name": "python3"
  },
  "language_info": {
   "codemirror_mode": {
    "name": "ipython",
    "version": 3
   },
   "file_extension": ".py",
   "mimetype": "text/x-python",
   "name": "python",
   "nbconvert_exporter": "python",
   "pygments_lexer": "ipython3",
   "version": "3.8.2"
  },
  "orig_nbformat": 4
 },
 "nbformat": 4,
 "nbformat_minor": 2
}
