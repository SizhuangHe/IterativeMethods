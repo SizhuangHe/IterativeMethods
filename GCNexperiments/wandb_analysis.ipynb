{
 "cells": [
  {
   "cell_type": "code",
   "execution_count": 1,
   "metadata": {},
   "outputs": [
    {
     "name": "stderr",
     "output_type": "stream",
     "text": [
      "/Users/sizhuang/Desktop/GitHub Repos/IterativeMethods/iterENV/lib/python3.8/site-packages/urllib3/__init__.py:34: NotOpenSSLWarning: urllib3 v2.0 only supports OpenSSL 1.1.1+, currently the 'ssl' module is compiled with 'LibreSSL 2.8.3'. See: https://github.com/urllib3/urllib3/issues/3020\n",
      "  warnings.warn(\n",
      "Failed to detect the name of this notebook, you can set it manually with the WANDB_NOTEBOOK_NAME environment variable to enable code saving.\n",
      "/Users/sizhuang/Desktop/GitHub Repos/IterativeMethods/iterENV/lib/python3.8/site-packages/urllib3/__init__.py:34: NotOpenSSLWarning: urllib3 v2.0 only supports OpenSSL 1.1.1+, currently the 'ssl' module is compiled with 'LibreSSL 2.8.3'. See: https://github.com/urllib3/urllib3/issues/3020\n",
      "  warnings.warn(\n",
      "\u001b[34m\u001b[1mwandb\u001b[0m: Currently logged in as: \u001b[33msizhuang\u001b[0m. Use \u001b[1m`wandb login --relogin`\u001b[0m to force relogin\n"
     ]
    },
    {
     "data": {
      "text/plain": [
       "True"
      ]
     },
     "execution_count": 1,
     "metadata": {},
     "output_type": "execute_result"
    }
   ],
   "source": [
    "import pandas as pd\n",
    "import matplotlib.pyplot as plt\n",
    "import wandb\n",
    "import numpy as np\n",
    "wandb.login()"
   ]
  },
  {
   "cell_type": "code",
   "execution_count": 2,
   "metadata": {},
   "outputs": [],
   "source": [
    "sweep_ids = []"
   ]
  },
  {
   "cell_type": "code",
   "execution_count": null,
   "metadata": {},
   "outputs": [],
   "source": [
    "def get_metrics(sweep_id, noise_level):\n",
    "    api = wandb.Api()\n",
    "    sweep_path = \"sizhuang/IterativeMethods/\" + sweep_id\n",
    "    sweep = api.sweep(sweep_path)\n",
    "    sweep_runs = sweep.runs\n",
    "    num_runs = len(sweep_runs)\n",
    "\n",
    "    summary_list, config_list, name_list = [], [], []\n",
    "    for run in sweep_runs: \n",
    "    # .summary contains the output keys/values \n",
    "    #  for metrics such as accuracy.\n",
    "    #  We call ._json_dict to omit large files \n",
    "        summary_list.append(run.summary._json_dict)\n",
    "\n",
    "    # .config contains the hyperparameters.\n",
    "    #  We remove special values that start with _.\n",
    "        config_list.append(\n",
    "        {k: v for k,v in run.config.items()\n",
    "         if not k.startswith('_')})\n",
    "\n",
    "    # .name is the human-readable name of the run.\n",
    "        name_list.append(run.name)\n",
    "        runs_df = pd.DataFrame({\n",
    "            \"summary\": summary_list,\n",
    "            \"config\": config_list,\n",
    "            \"name\": name_list\n",
    "        })\n",
    "\n",
    "    test_accuracies = [item['test_accuracy'] for item in runs_df.summary]\n",
    "    num_iters = [item['num_iter_layers'] for item in runs_df.config]\n",
    "    noise = noise_level/10\n",
    "    noises = np.full(num_runs, noise)\n",
    "    assert len(test_accuracies)  == num_runs\n",
    "    assert len(num_iters) == num_runs\n",
    "\n",
    "    api.flush()\n",
    "    return test_accuracies, num_iters, noises\n",
    "    "
   ]
  },
  {
   "cell_type": "code",
   "execution_count": null,
   "metadata": {},
   "outputs": [],
   "source": [
    "test_accuracies = []\n",
    "num_iters = []\n",
    "noises = []\n",
    "\n",
    "for noise_level, sweep_id in enumerate(sweep_ids):\n",
    "    ta, ni, n = get_metrics(sweep_id, noise_level)\n",
    "    test_accuracies.extend(ta)\n",
    "    num_iters.extend(ni)\n",
    "    noises.extend(n)"
   ]
  },
  {
   "cell_type": "code",
   "execution_count": 4,
   "metadata": {},
   "outputs": [],
   "source": [
    "data = pd.DataFrame({\n",
    "    \"test accuracy\": test_accuracies,\n",
    "    \"number of iterations\": num_iters,\n",
    "    \"noise level\": noises\n",
    "})\n"
   ]
  },
  {
   "cell_type": "code",
   "execution_count": 5,
   "metadata": {},
   "outputs": [
    {
     "data": {
      "text/plain": [
       "<Axes: xlabel='num_iterations', ylabel='test_accuracy'>"
      ]
     },
     "execution_count": 5,
     "metadata": {},
     "output_type": "execute_result"
    },
    {
     "data": {
      "image/png": "[encoded data removed]",
      "text/plain": [
       "<Figure size 640x480 with 1 Axes>"
      ]
     },
     "metadata": {},
     "output_type": "display_data"
    }
   ],
   "source": [
    "import seaborn as sns\n",
    "sns.set(style=\"darkgrid\")\n",
    "sns.boxplot(x='number of iterations',\n",
    "            y=\"test accuracy\",\n",
    "            hue=\"noise level\",\n",
    "            data=data, \n",
    "            width=0.4,\n",
    "            flierprops={\"marker\": \"x\"},\n",
    "            boxprops={\"facecolor\": (.4, .6, .8, .5)},\n",
    "            medianprops={\"color\": \"red\"}\n",
    "            )"
   ]
  }
 ],
 "metadata": {
  "kernelspec": {
   "display_name": "iterENV",
   "language": "python",
   "name": "python3"
  },
  "language_info": {
   "codemirror_mode": {
    "name": "ipython",
    "version": 3
   },
   "file_extension": ".py",
   "mimetype": "text/x-python",
   "name": "python",
   "nbconvert_exporter": "python",
   "pygments_lexer": "ipython3",
   "version": "3.8.2"
  },
  "orig_nbformat": 4
 },
 "nbformat": 4,
 "nbformat_minor": 2
}
